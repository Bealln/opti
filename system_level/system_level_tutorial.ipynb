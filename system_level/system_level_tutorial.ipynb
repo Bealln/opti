{
 "cells": [
  {
   "cell_type": "markdown",
   "metadata": {},
   "source": [
    "# System level\n",
    "\n",
    "### Optimisation\n",
    "\n",
    "This code presents the system-level analysis for the optimization problem. This involved the combination of the light and cost subsytems. The objective of this analysis is to find optimal positions to iluminate a room with lamps while accounting for a limited budget. \n",
    "\n",
    "During the system- level analysis different weighting for the light subsytem were analysed. The most effective solution resulted with a weight of 0.2. In order to reduce the computational cost of this example, only this case will be represented."
   ]
  },
  {
   "cell_type": "code",
   "execution_count": 7,
   "metadata": {},
   "outputs": [],
   "source": [
    "import time\n",
    "import numpy as np\n",
    "import numpy.ma as ma\n",
    "import operator as op\n",
    "import matplotlib.pyplot as plt\n",
    "from scipy.optimize import minimize, BFGS, LinearConstraint, NonlinearConstraint"
   ]
  },
  {
   "cell_type": "markdown",
   "metadata": {},
   "source": [
    "The following code imports the model parameter class, which includes the parameter for the light and cost subsystem. "
   ]
  },
  {
   "cell_type": "code",
   "execution_count": 8,
   "metadata": {},
   "outputs": [],
   "source": [
    "class MP:\n",
    "    \"\"\"\n",
    "    Enum to hold some of the Model Parameters\n",
    "    \"\"\"\n",
    "\n",
    "    \"\"\" \n",
    "    Global Parameters\n",
    "    \"\"\"\n",
    "\n",
    "    # Discretisation step\n",
    "    DXY = 0.01\n",
    "\n",
    "    # Room geometry\n",
    "    ROOM_LENGTH = 4\n",
    "    ROOM_WIDTH = 3\n",
    "    ROOM_HEIGHT = 2.3\n",
    "    F_PLUG_POSITION = [2.3, 0.05]\n",
    "    S_PLUG_POSITION = [3.95, 2]\n",
    "\n",
    "\n",
    "    # Number of lamps\n",
    "    N_LAMPS = 3\n",
    "\n",
    "    # Parameters\n",
    "    LAMP_EFFICIENCY = 0.8\n",
    "    LAMP_RADII = [0.1, 0.2, 0.1]\n",
    "\n",
    "    POWER_SCALING_FACTOR = 1\n",
    "    LAMP_POW = [50, 120, 50]\n",
    "    LAMP_POW = np.array(LAMP_POW) * POWER_SCALING_FACTOR\n",
    "\n",
    "    # Albedo\n",
    "    ALBEDO = 0.5\n",
    "    BOUNCES = 3\n",
    "\n",
    "    # Plot parameters\n",
    "    N_LEVELS = 20\n",
    "\n",
    "    \"\"\"\n",
    "    Light Quality Subsystem\n",
    "    \"\"\"\n",
    "\n",
    "    # Initial lamp location guess (design variables: [x1, y1, x2, y2, x3, y3])\n",
    "    INITIAL_GUESS_LAMP_LOCS = np.array([0.68978269, 0.98767149, 1.78447148, 2.79305784, 3.66072114, 2.4])\n",
    "\n",
    "    # Linear Constraint Matrix\n",
    "    CONSTRAINT_MAT = [[1, 0, 0, 0, 0, 0],\n",
    "                      [0, 1, 0, 0, 0, 0],\n",
    "                      [0, 0, 1, 0, 0, 0],\n",
    "                      [0, 0, 0, 1, 0, 0],\n",
    "                      [0, 0, 0, 0, 1, 0],\n",
    "                      [0, 0, 0, 0, 0, 1]]\n",
    "\n",
    "    # Lamp 1: Bed: Bound Constraints (x1, y1)\n",
    "    G1 = [LAMP_RADII[0], 2.3 - LAMP_RADII[0]]\n",
    "    G2 = [LAMP_RADII[0], 1.5 - LAMP_RADII[0]]\n",
    "\n",
    "    # Lamp 2: Floor: Bound Constraints (x2, y2)\n",
    "    G3 = [0.4 + LAMP_RADII[1], 2.3 - LAMP_RADII[1]]\n",
    "    G4 = [0.9 + LAMP_RADII[1], 3 - LAMP_RADII[1]]\n",
    "\n",
    "    # Lamp 3: Desk: Bound Constraints (x3, y3)\n",
    "    G5 = [2.3 + LAMP_RADII[2], 4 - LAMP_RADII[2]]\n",
    "    G6 = [1.1 + LAMP_RADII[2], 3 - LAMP_RADII[2]]\n",
    "\n",
    "    CONSTRAINTS = [G1, G2, G3, G4, G5, G6]\n",
    "\n",
    "    # Linear Constraint Bounds\n",
    "    LOWER_BOUND = [constraint[0] for constraint in CONSTRAINTS]\n",
    "    UPPER_BOUND = [constraint[1] for constraint in CONSTRAINTS]\n",
    "\n",
    "    \"\"\"\n",
    "    Cost Subsystem\n",
    "    \"\"\"\n",
    "\n",
    "    # Cost\n",
    "    CABLE_COST = 2\n",
    "    WORK_COST = 40\n",
    "    ENERGY_COST = 0.12\n",
    "    AVG_HOURS_PER_YEAR = float(2500 / 1000)\n",
    "    INVESTMENT_FACTOR = 3\n",
    "    # Bea's add\n",
    "    # Initial characteristics for lamps\n",
    "    INITIAL_SOLUTION = np.array([0.68978269, 0.98767149, 1.78447148, 2.79305784, 3.66072114, 2.22234, 0.2])\n",
    "\n",
    "    # Efficiency, in a range from 0 to 1\n",
    "    G7 = [0.2, 1]\n",
    "\n",
    "    CONSTRAINT_MAT_EXT = [[1, 0, 0, 0, 0, 0, 0],\n",
    "                          [0, 1, 0, 0, 0, 0, 0],\n",
    "                          [0, 0, 1, 0, 0, 0, 0],\n",
    "                          [0, 0, 0, 1, 0, 0, 0],\n",
    "                          [0, 0, 0, 0, 1, 0, 0],\n",
    "                          [0, 0, 0, 0, 0, 1, 0],\n",
    "                          [0, 0, 0, 0, 0, 0, 1]]\n",
    "\n",
    "    # Add all constrains to limit all variables to 0\n",
    "\n",
    "    CONSTRAINTS_EXT = [G1, G2, G3, G4, G5, G6, G7]\n",
    "\n",
    "    # Linear Constraint Bounds\n",
    "    LOWER_BOUND_EXT = [constraint[0] for constraint in CONSTRAINTS_EXT]\n",
    "    UPPER_BOUND_EXT = [constraint[1] for constraint in CONSTRAINTS_EXT]\n",
    "\n",
    "    \"\"\"\n",
    "    System Level\n",
    "\n",
    "    \"\"\"\n",
    "\n",
    "    # Weight of different subsystems\n",
    "    WEIGHT_LIGHT = 0.5\n",
    "    WEIGHT_COST = 1 - WEIGHT_LIGHT\n",
    "\n",
    "\"\"\"\n",
    "FUNCTIONAL CONSTRAINTS\n",
    "\"\"\"\n",
    "\n",
    "def functional_constraint(variables):\n",
    "    c_cable_tot = 0\n",
    "    total_power = sum(MP.LAMP_POW)\n",
    "\n",
    "    for i in range(3):\n",
    "        c_cable_tot += (abs(variables[2 * i]) + abs(variables[2 * i + 1])) + 1.6\n",
    "        c_cable_tot = c_cable_tot * MP.CABLE_COST\n",
    "\n",
    "    lamp_efficiency = variables[6]\n",
    "    c_operation = (total_power / lamp_efficiency) * MP.AVG_HOURS_PER_YEAR * MP.ENERGY_COST\n",
    "    c_lamp = (lamp_efficiency / 0.2)\n",
    "    c_tot_lamp_cost = MP.N_LAMPS * c_lamp\n",
    "    c_work = np.log(MP.N_LAMPS) * MP.WORK_COST\n",
    "    c_initial = (c_cable_tot + c_tot_lamp_cost + c_work)\n",
    "\n",
    "    return c_initial - MP.INVESTMENT_FACTOR * c_operation\n",
    "\n",
    "class Room:\n",
    "    \"\"\"\n",
    "    The Room class contains the space in which the lighting optimisation will take place\n",
    "    \"\"\"\n",
    "\n",
    "    def __init__(self, length, width):\n",
    "\n",
    "        self.x = np.arange(0, length, MP.DXY)\n",
    "        self.y = np.arange(0, width, MP.DXY)\n",
    "        self.xx, self.yy = np.meshgrid(self.x, self.y, sparse=True)\n"
   ]
  },
  {
   "cell_type": "markdown",
   "metadata": {},
   "source": [
    "Once the parameters are imported the intensisity distribution and cost functions are run. "
   ]
  },
  {
   "cell_type": "code",
   "execution_count": 9,
   "metadata": {},
   "outputs": [],
   "source": [
    "def get_intensity_distr(lamp_locs, refl=False):\n",
    "    \"\"\"\n",
    "    Calculates the intensity distribution within a room with n number of light sources\n",
    "    \"\"\"\n",
    "\n",
    "    room = Room(MP.ROOM_LENGTH, MP.ROOM_WIDTH)\n",
    "\n",
    "    # No reflections\n",
    "    if not refl:\n",
    "\n",
    "        for i in range(MP.N_LAMPS):\n",
    "            # Multiply by discretisation step to be in metres\n",
    "            distance_to_lamp_n = ((room.xx - lamp_locs[2 * i]) ** 2 + (room.yy - lamp_locs[2 * i + 1]) ** 2)\n",
    "\n",
    "            # Take out the value that are less than a radius away from the light source\n",
    "            distance_to_lamp_n_filtered = ma.masked_less(np.sqrt(distance_to_lamp_n), MP.LAMP_RADII[i])\n",
    "\n",
    "            if i == 0:\n",
    "                # Initialise the light intensity array\n",
    "                light_intensity = np.zeros_like(distance_to_lamp_n_filtered)\n",
    "\n",
    "            # Find light intensity distribution\n",
    "            light_intensity_n = ((MP.LAMP_EFFICIENCY * MP.LAMP_POW[i]) /\n",
    "                                 (4 * np.pi)) / (distance_to_lamp_n_filtered * MP.DXY)\n",
    "\n",
    "            light_intensity += light_intensity_n\n",
    "\n",
    "        minimum = np.amin(light_intensity)\n",
    "        minimum_coordinates = np.unravel_index(np.argmin(light_intensity), light_intensity.shape)\n",
    "\n",
    "        return light_intensity, minimum, minimum_coordinates\n",
    "\n",
    "    # With reflections\n",
    "    elif refl:\n",
    "\n",
    "        initialised = False\n",
    "\n",
    "        # The first loop takes care of wall reflections\n",
    "        for i in range(- MP.BOUNCES // 2, MP.BOUNCES // 2 + 1):\n",
    "            # The second loop takes care of the three different lamps\n",
    "            for j in range(MP.N_LAMPS):\n",
    "\n",
    "                x_jk = 0.5 * (1 + (-1) ** i) * lamp_locs[2 * j] + \\\n",
    "                       0.5 * (1 - (-1) ** i) * (MP.ROOM_LENGTH - lamp_locs[2 * j])\n",
    "                y_jk = 0.5 * (1 + (-1) ** i) * lamp_locs[2 * j + 1] + \\\n",
    "                       0.5 * (1 - (-1) ** i) * (MP.ROOM_WIDTH - lamp_locs[2 * j + 1])\n",
    "\n",
    "                distance_to_lamp_n = ((room.xx - (x_jk - MP.ROOM_LENGTH * i)) ** 2 +\n",
    "                                      (room.yy - (y_jk - MP.ROOM_WIDTH * i)) ** 2)\n",
    "\n",
    "                # Take out the value that are less than a radius away from the light source\n",
    "                distance_to_lamp_n_filtered = ma.masked_less(np.sqrt(distance_to_lamp_n), MP.LAMP_RADII[j])\n",
    "\n",
    "                # Initialise the light intensity array\n",
    "                if not initialised:\n",
    "                    light_intensity = np.zeros_like(distance_to_lamp_n_filtered)\n",
    "                    initialised = True\n",
    "\n",
    "                # Find light intensity distribution\n",
    "                light_intensity_n = ((MP.ALBEDO ** (abs(2 * i))) * (MP.LAMP_EFFICIENCY * MP.LAMP_POW[j]) /\n",
    "                                     (4 * np.pi)) / (distance_to_lamp_n_filtered * MP.DXY)\n",
    "\n",
    "                # Increment light intensity array\n",
    "                light_intensity += light_intensity_n\n",
    "\n",
    "        minimum = np.amin(light_intensity)\n",
    "        minimum_coordinates = np.unravel_index(np.argmin(light_intensity), light_intensity.shape)\n",
    "\n",
    "        return light_intensity, minimum, minimum_coordinates\n"
   ]
  },
  {
   "cell_type": "code",
   "execution_count": 12,
   "metadata": {},
   "outputs": [],
   "source": [
    "def cost_obj_fun(variables):\n",
    "    \"\"\"\n",
    "    Cost objective function. Vars is [x1, y1, x2, y2, x3, y3, e, i]\n",
    "    Where c is equal for the three lamps and is equal to the the characteristics of lamp composed by price and efficiency\n",
    "    \"\"\"\n",
    "    #Total cable cost is initialised\n",
    "    c_cable_tot = 0\n",
    "\n",
    "    # The power is fixed, so the total power is a sum of the power of all the lamps\n",
    "    total_power = sum(MP.LAMP_POW)\n",
    "\n",
    "    '''\n",
    "    There are 7 variables in total\n",
    "    In a range of 3 - which equals for iterations,  i = 0,1 and 2 will refer to each of the lamps. \n",
    "    The code will consider which considers i and i+1 for x, y  \n",
    "    '''\n",
    "    #Start the loop to calculate cable length\n",
    "    for i in range(3):\n",
    "        #Calcilate total length, including 1.6 m for the height of the lamps in the room.\n",
    "        c_cable_tot += (abs(variables[2 * i]) + abs(variables[2 * i + 1])) + 1.6\n",
    "        #Calculate the total price\n",
    "        c_cable_tot = c_cable_tot * MP.CABLE_COST\n",
    "\n",
    "    lamp_efficiency = variables[6]\n",
    "    # Calculate the operation cost in terms of the efficiency\n",
    "    c_operation = (total_power/lamp_efficiency) * MP.AVG_HOURS_PER_YEAR * MP.ENERGY_COST\n",
    "\n",
    "    #Calculate the lamp cost in terms of the efficiency\n",
    "    c_lamp = (lamp_efficiency/0.2)\n",
    "\n",
    "    # Calculate total lamp cost\n",
    "    c_tot_lamp_cost = MP.N_LAMPS * c_lamp\n",
    "\n",
    "    # Calculate work cost\n",
    "    c_work = np.log(MP.N_LAMPS) * MP.WORK_COST\n",
    "\n",
    "    #Caltulate the initial cost\n",
    "    c_initial = (c_cable_tot + c_tot_lamp_cost + c_work)\n",
    "\n",
    "    #Caltulate total cost\n",
    "    c_tot = c_initial + c_operation\n",
    "\n",
    "    return c_tot\n",
    "\n",
    "\n"
   ]
  },
  {
   "cell_type": "markdown",
   "metadata": {},
   "source": [
    "The trust constr algorithm is utlised for the system-level optimization. In this case, as stated in the introduction of this jupyter notebook, the solution will only be calculated for a weight of 0.2 for the light subsystem. "
   ]
  },
  {
   "cell_type": "code",
   "execution_count": 13,
   "metadata": {},
   "outputs": [
    {
     "name": "stdout",
     "output_type": "stream",
     "text": [
      "Welcome! You are using a trust-constr optimiser.\nReflections:  True\nConstraints:  True\n"
     ]
    },
    {
     "name": "stdout",
     "output_type": "stream",
     "text": [
      "Iteration:  0  Variables:  [0.69, 0.99, 1.78, 2.79, 3.66, 2.22, 0.2]  Minimum:  596.95  Cost:  442.84\nIteration:  1  Variables:  [0.69, 0.99, 1.78, 2.79, 3.66, 2.22, 0.2]  Minimum:  596.95  Cost:  442.84\nIteration:  2  Variables:  [0.69, 0.99, 1.78, 2.79, 3.66, 2.22, 0.2]  Minimum:  596.95  Cost:  442.84\nIteration:  3  Variables:  [0.69, 0.99, 1.78, 2.79, 3.66, 2.22, 0.2]  Minimum:  596.95  Cost:  442.84\nIteration:  4  Variables:  [0.69, 0.99, 1.78, 2.79, 3.66, 2.22, 0.2]  Minimum:  596.95  Cost:  442.84\nIteration:  5  Variables:  [0.69, 0.99, 1.78, 2.79, 3.66, 2.22, 0.2]  Minimum:  596.95  Cost:  442.84\n"
     ]
    },
    {
     "name": "stdout",
     "output_type": "stream",
     "text": [
      "Iteration:  6  Variables:  [0.69, 0.99, 1.78, 2.79, 3.66, 2.22, 0.2]  Minimum:  596.95  Cost:  442.84\nIteration:  7  Variables:  [0.69, 0.99, 1.78, 2.79, 3.66, 2.22, 0.2]  Minimum:  596.95  Cost:  442.84\nIteration:  8  Variables:  [0.69, 0.99, 1.78, 2.79, 3.66, 2.22, 0.2]  Minimum:  596.95  Cost:  442.84\nIteration:  9  Variables:  [0.69, 0.99, 1.78, 2.79, 3.66, 2.22, 0.2]  Minimum:  596.95  Cost:  442.84\n"
     ]
    },
    {
     "name": "stdout",
     "output_type": "stream",
     "text": [
      "Iteration:  10  Variables:  [0.69, 0.99, 1.78, 2.79, 3.66, 2.22, 0.2]  Minimum:  596.95  Cost:  442.84\nIteration:  11  Variables:  [0.69, 0.99, 1.78, 2.79, 3.66, 2.22, 0.2]  Minimum:  596.95  Cost:  442.84\nIteration:  12  Variables:  [0.69, 0.99, 1.78, 2.79, 3.66, 2.22, 0.2]  Minimum:  596.95  Cost:  442.84\nIteration:  13  Variables:  [0.69, 0.99, 1.78, 2.79, 3.66, 2.22, 0.2]  Minimum:  596.95  Cost:  442.85\nIteration:  14  Variables:  [0.69, 0.99, 1.78, 2.79, 3.66, 2.22, 0.2]  Minimum:  596.95  Cost:  442.83\n"
     ]
    },
    {
     "name": "stdout",
     "output_type": "stream",
     "text": [
      "Iteration:  15  Variables:  [0.74, 0.93, 1.7, 2.62, 3.56, 2.19, 0.28]  Minimum:  602.59  Cost:  345.27\nIteration:  16  Variables:  [0.74, 0.93, 1.7, 2.62, 3.56, 2.19, 0.28]  Minimum:  602.59  Cost:  345.27\nIteration:  17  Variables:  [0.74, 0.93, 1.7, 2.62, 3.56, 2.19, 0.28]  Minimum:  602.59  Cost:  345.27\nIteration:  18  Variables:  [0.74, 0.93, 1.7, 2.62, 3.56, 2.19, 0.28]  Minimum:  602.59  Cost:  345.27\nIteration:  19  Variables:  [0.74, 0.93, 1.7, 2.62, 3.56, 2.19, 0.28]  Minimum:  602.59  Cost:  345.27\nIteration:  20  Variables:  [0.74, 0.93, 1.7, 2.62, 3.56, 2.19, 0.28]  Minimum:  602.59  Cost:  345.27\n"
     ]
    },
    {
     "name": "stdout",
     "output_type": "stream",
     "text": [
      "Iteration:  21  Variables:  [0.74, 0.93, 1.7, 2.62, 3.56, 2.19, 0.28]  Minimum:  602.59  Cost:  345.27\nIteration:  22  Variables:  [0.74, 0.93, 1.7, 2.62, 3.56, 2.19, 0.28]  Minimum:  602.59  Cost:  345.27\nIteration:  23  Variables:  [0.74, 0.93, 1.7, 2.62, 3.56, 2.19, 0.28]  Minimum:  602.59  Cost:  345.27\nIteration:  24  Variables:  [0.74, 0.93, 1.7, 2.62, 3.56, 2.19, 0.28]  Minimum:  602.59  Cost:  345.27\nIteration:  25  Variables:  [0.74, 0.93, 1.7, 2.62, 3.56, 2.19, 0.28]  Minimum:  602.59  Cost:  345.27\nIteration:  26  Variables:  [0.74, 0.93, 1.7, 2.62, 3.56, 2.19, 0.28]  Minimum:  602.59  Cost:  345.27\nIteration:  27  Variables:  [0.74, 0.93, 1.7, 2.62, 3.56, 2.19, 0.28]  Minimum:  602.59  Cost:  345.27\nIteration:  28  Variables:  [0.74, 0.93, 1.7, 2.62, 3.56, 2.19, 0.28]  Minimum:  602.59  Cost:  345.28\nIteration:  29  Variables:  [0.74, 0.93, 1.7, 2.62, 3.56, 2.19, 0.28]  Minimum:  602.59  Cost:  345.27\n"
     ]
    },
    {
     "name": "stdout",
     "output_type": "stream",
     "text": [
      "Iteration:  30  Variables:  [0.74, 0.93, 1.7, 2.61, 3.55, 2.19, 0.32]  Minimum:  602.85  Cost:  318.45\nIteration:  31  Variables:  [0.74, 0.93, 1.7, 2.61, 3.55, 2.19, 0.32]  Minimum:  602.85  Cost:  318.45\nIteration:  32  Variables:  [0.74, 0.93, 1.7, 2.61, 3.55, 2.19, 0.32]  Minimum:  602.85  Cost:  318.45\nIteration:  33  Variables:  [0.74, 0.93, 1.7, 2.61, 3.55, 2.19, 0.32]  Minimum:  602.85  Cost:  318.45\nIteration:  34  Variables:  [0.74, 0.93, 1.7, 2.61, 3.55, 2.19, 0.32]  Minimum:  602.85  Cost:  318.45\nIteration:  35  Variables:  [0.74, 0.93, 1.7, 2.61, 3.55, 2.19, 0.32]  Minimum:  602.85  Cost:  318.45\nIteration:  36  Variables:  [0.74, 0.93, 1.7, 2.61, 3.55, 2.19, 0.32]  Minimum:  602.85  Cost:  318.45\n"
     ]
    },
    {
     "name": "stdout",
     "output_type": "stream",
     "text": [
      "Iteration:  37  Variables:  [0.74, 0.93, 1.7, 2.61, 3.55, 2.19, 0.32]  Minimum:  602.85  Cost:  318.45\nIteration:  38  Variables:  [0.74, 0.93, 1.7, 2.61, 3.55, 2.19, 0.32]  Minimum:  602.85  Cost:  318.45\nIteration:  39  Variables:  [0.74, 0.93, 1.7, 2.61, 3.55, 2.19, 0.32]  Minimum:  602.85  Cost:  318.45\nIteration:  40  Variables:  [0.74, 0.93, 1.7, 2.61, 3.55, 2.19, 0.32]  Minimum:  602.85  Cost:  318.45\nIteration:  41  Variables:  [0.74, 0.93, 1.7, 2.61, 3.55, 2.19, 0.32]  Minimum:  602.86  Cost:  318.45\nIteration:  42  Variables:  [0.74, 0.93, 1.7, 2.61, 3.55, 2.19, 0.32]  Minimum:  602.85  Cost:  318.45\nIteration:  43  Variables:  [0.74, 0.93, 1.7, 2.61, 3.55, 2.19, 0.32]  Minimum:  602.85  Cost:  318.45\nIteration:  44  Variables:  [0.74, 0.93, 1.7, 2.61, 3.55, 2.19, 0.32]  Minimum:  602.85  Cost:  318.44\nIteration:  45  Variables:  [0.74, 0.92, 1.7, 2.61, 3.55, 2.19, 0.36]  Minimum:  603.05  Cost:  294.8\n"
     ]
    },
    {
     "name": "stdout",
     "output_type": "stream",
     "text": [
      "Iteration:  46  Variables:  [0.74, 0.92, 1.7, 2.61, 3.55, 2.19, 0.36]  Minimum:  603.05  Cost:  294.8\nIteration:  47  Variables:  [0.74, 0.92, 1.7, 2.61, 3.55, 2.19, 0.36]  Minimum:  603.05  Cost:  294.8\nIteration:  48  Variables:  [0.74, 0.92, 1.7, 2.61, 3.55, 2.19, 0.36]  Minimum:  603.05  Cost:  294.8\nIteration:  49  Variables:  [0.74, 0.92, 1.7, 2.61, 3.55, 2.19, 0.36]  Minimum:  603.05  Cost:  294.8\nIteration:  50  Variables:  [0.74, 0.92, 1.7, 2.61, 3.55, 2.19, 0.36]  Minimum:  603.05  Cost:  294.8\nIteration:  51  Variables:  [0.74, 0.92, 1.7, 2.61, 3.55, 2.19, 0.36]  Minimum:  603.05  Cost:  294.8\nIteration:  52  Variables:  [0.74, 0.92, 1.7, 2.61, 3.55, 2.19, 0.36]  Minimum:  603.05  Cost:  294.8\nIteration:  53  Variables:  [0.74, 0.92, 1.7, 2.61, 3.55, 2.19, 0.36]  Minimum:  603.05  Cost:  294.8\nIteration:  54  Variables:  [0.74, 0.92, 1.7, 2.61, 3.55, 2.19, 0.36]  Minimum:  603.05  Cost:  294.8\nIteration:  55  Variables:  [0.74, 0.92, 1.7, 2.61, 3.55, 2.19, 0.36]  Minimum:  603.05  Cost:  294.8\n"
     ]
    },
    {
     "name": "stdout",
     "output_type": "stream",
     "text": [
      "Iteration:  56  Variables:  [0.74, 0.92, 1.7, 2.61, 3.55, 2.19, 0.36]  Minimum:  603.05  Cost:  294.8\nIteration:  57  Variables:  [0.74, 0.92, 1.7, 2.61, 3.55, 2.19, 0.36]  Minimum:  603.05  Cost:  294.8\nIteration:  58  Variables:  [0.74, 0.92, 1.7, 2.61, 3.55, 2.19, 0.36]  Minimum:  603.05  Cost:  294.81\nIteration:  59  Variables:  [0.74, 0.92, 1.7, 2.61, 3.55, 2.19, 0.36]  Minimum:  603.05  Cost:  294.8\nIteration:  60  Variables:  [0.74, 0.92, 1.7, 2.61, 3.55, 2.19, 0.41]  Minimum:  603.25  Cost:  277.35\nIteration:  61  Variables:  [0.74, 0.92, 1.7, 2.61, 3.55, 2.19, 0.41]  Minimum:  603.25  Cost:  277.35\nIteration:  62  Variables:  [0.74, 0.92, 1.7, 2.61, 3.55, 2.19, 0.41]  Minimum:  603.25  Cost:  277.35\nIteration:  63  Variables:  [0.74, 0.92, 1.7, 2.61, 3.55, 2.19, 0.41]  Minimum:  603.25  Cost:  277.35\nIteration:  64  Variables:  [0.74, 0.92, 1.7, 2.61, 3.55, 2.19, 0.41]  Minimum:  603.25  Cost:  277.35\nIteration:  65  Variables:  [0.74, 0.92, 1.7, 2.61, 3.55, 2.19, 0.41]  Minimum:  603.25  Cost:  277.35\n"
     ]
    },
    {
     "name": "stdout",
     "output_type": "stream",
     "text": [
      "Iteration:  66  Variables:  [0.74, 0.92, 1.7, 2.61, 3.55, 2.19, 0.41]  Minimum:  603.25  Cost:  277.35\nIteration:  67  Variables:  [0.74, 0.92, 1.7, 2.61, 3.55, 2.19, 0.41]  Minimum:  603.25  Cost:  277.35\nIteration:  68  Variables:  [0.74, 0.92, 1.7, 2.61, 3.55, 2.19, 0.41]  Minimum:  603.25  Cost:  277.35\nIteration:  69  Variables:  [0.74, 0.92, 1.7, 2.61, 3.55, 2.19, 0.41]  Minimum:  603.25  Cost:  277.35\nIteration:  70  Variables:  [0.74, 0.92, 1.7, 2.61, 3.55, 2.19, 0.41]  Minimum:  603.25  Cost:  277.35\nIteration:  71  Variables:  [0.74, 0.92, 1.7, 2.61, 3.55, 2.19, 0.41]  Minimum:  603.25  Cost:  277.35\nIteration:  72  Variables:  [0.74, 0.92, 1.7, 2.61, 3.55, 2.19, 0.41]  Minimum:  603.25  Cost:  277.35\nIteration:  73  Variables:  [0.74, 0.92, 1.7, 2.61, 3.55, 2.19, 0.41]  Minimum:  603.25  Cost:  277.36\nIteration:  74  Variables:  [0.74, 0.92, 1.7, 2.61, 3.55, 2.19, 0.41]  Minimum:  603.25  Cost:  277.35\nIteration:  75  Variables:  [0.74, 0.92, 1.7, 2.61, 3.55, 2.19, 0.44]  Minimum:  603.45  Cost:  264.76\nIteration:  76  Variables:  [0.74, 0.92, 1.7, 2.61, 3.55, 2.19, 0.44]  Minimum:  603.45  Cost:  264.76\n"
     ]
    },
    {
     "name": "stdout",
     "output_type": "stream",
     "text": [
      "Iteration:  77  Variables:  [0.74, 0.92, 1.7, 2.61, 3.55, 2.19, 0.44]  Minimum:  603.45  Cost:  264.76\nIteration:  78  Variables:  [0.74, 0.92, 1.7, 2.61, 3.55, 2.19, 0.44]  Minimum:  603.45  Cost:  264.76\nIteration:  79  Variables:  [0.74, 0.92, 1.7, 2.61, 3.55, 2.19, 0.44]  Minimum:  603.45  Cost:  264.76\nIteration:  80  Variables:  [0.74, 0.92, 1.7, 2.61, 3.55, 2.19, 0.44]  Minimum:  603.45  Cost:  264.76\nIteration:  81  Variables:  [0.74, 0.92, 1.7, 2.61, 3.55, 2.19, 0.44]  Minimum:  603.45  Cost:  264.76\nIteration:  82  Variables:  [0.74, 0.92, 1.7, 2.61, 3.55, 2.19, 0.44]  Minimum:  603.45  Cost:  264.76\nIteration:  83  Variables:  [0.74, 0.92, 1.7, 2.61, 3.55, 2.19, 0.44]  Minimum:  603.45  Cost:  264.76\nIteration:  84  Variables:  [0.74, 0.92, 1.7, 2.61, 3.55, 2.19, 0.44]  Minimum:  603.45  Cost:  264.76\nIteration:  85  Variables:  [0.74, 0.92, 1.7, 2.61, 3.55, 2.19, 0.44]  Minimum:  603.45  Cost:  264.76\nIteration:  86  Variables:  [0.74, 0.92, 1.7, 2.61, 3.55, 2.19, 0.44]  Minimum:  603.45  Cost:  264.76\nIteration:  87  Variables:  [0.74, 0.92, 1.7, 2.61, 3.55, 2.19, 0.44]  Minimum:  603.45  Cost:  264.76\n"
     ]
    },
    {
     "name": "stdout",
     "output_type": "stream",
     "text": [
      "Iteration:  88  Variables:  [0.74, 0.92, 1.7, 2.61, 3.55, 2.19, 0.44]  Minimum:  603.45  Cost:  264.76\nIteration:  89  Variables:  [0.74, 0.92, 1.7, 2.61, 3.55, 2.19, 0.44]  Minimum:  603.45  Cost:  264.76\nIteration:  90  Variables:  [0.74, 0.92, 1.7, 2.61, 3.55, 2.18, 0.47]  Minimum:  603.66  Cost:  255.23\nIteration:  91  Variables:  [0.74, 0.92, 1.7, 2.61, 3.55, 2.18, 0.47]  Minimum:  603.65  Cost:  255.23\nIteration:  92  Variables:  [0.74, 0.92, 1.7, 2.61, 3.55, 2.18, 0.47]  Minimum:  603.66  Cost:  255.23\nIteration:  93  Variables:  [0.74, 0.92, 1.7, 2.61, 3.55, 2.18, 0.47]  Minimum:  603.66  Cost:  255.23\nIteration:  94  Variables:  [0.74, 0.92, 1.7, 2.61, 3.55, 2.18, 0.47]  Minimum:  603.66  Cost:  255.23\nIteration:  95  Variables:  [0.74, 0.92, 1.7, 2.61, 3.55, 2.18, 0.47]  Minimum:  603.65  Cost:  255.23\nIteration:  96  Variables:  [0.74, 0.92, 1.7, 2.61, 3.55, 2.18, 0.47]  Minimum:  603.66  Cost:  255.23\nIteration:  97  Variables:  [0.74, 0.92, 1.7, 2.61, 3.55, 2.18, 0.47]  Minimum:  603.66  Cost:  255.23\n"
     ]
    },
    {
     "name": "stdout",
     "output_type": "stream",
     "text": [
      "Iteration:  98  Variables:  [0.74, 0.92, 1.7, 2.61, 3.55, 2.18, 0.47]  Minimum:  603.65  Cost:  255.23\nIteration:  99  Variables:  [0.74, 0.92, 1.7, 2.61, 3.55, 2.18, 0.47]  Minimum:  603.65  Cost:  255.23\nIteration:  100  Variables:  [0.74, 0.92, 1.7, 2.61, 3.55, 2.18, 0.47]  Minimum:  603.66  Cost:  255.23\nIteration:  101  Variables:  [0.74, 0.92, 1.7, 2.61, 3.55, 2.18, 0.47]  Minimum:  603.66  Cost:  255.23\nIteration:  102  Variables:  [0.74, 0.92, 1.7, 2.61, 3.55, 2.18, 0.47]  Minimum:  603.65  Cost:  255.23\nIteration:  103  Variables:  [0.74, 0.92, 1.7, 2.61, 3.55, 2.18, 0.47]  Minimum:  603.66  Cost:  255.23\nIteration:  104  Variables:  [0.74, 0.92, 1.7, 2.61, 3.55, 2.18, 0.47]  Minimum:  603.66  Cost:  255.23\nIteration:  105  Variables:  [0.74, 0.92, 1.7, 2.61, 3.55, 2.18, 0.5]  Minimum:  603.86  Cost:  247.74\nIteration:  106  Variables:  [0.74, 0.92, 1.7, 2.61, 3.55, 2.18, 0.5]  Minimum:  603.86  Cost:  247.74\nIteration:  107  Variables:  [0.74, 0.92, 1.7, 2.61, 3.55, 2.18, 0.5]  Minimum:  603.86  Cost:  247.74\n"
     ]
    },
    {
     "name": "stdout",
     "output_type": "stream",
     "text": [
      "Iteration:  108  Variables:  [0.74, 0.92, 1.7, 2.61, 3.55, 2.18, 0.5]  Minimum:  603.86  Cost:  247.74\nIteration:  109  Variables:  [0.74, 0.92, 1.7, 2.61, 3.55, 2.18, 0.5]  Minimum:  603.86  Cost:  247.74\nIteration:  110  Variables:  [0.74, 0.92, 1.7, 2.61, 3.55, 2.18, 0.5]  Minimum:  603.86  Cost:  247.74\nIteration:  111  Variables:  [0.74, 0.92, 1.7, 2.61, 3.55, 2.18, 0.5]  Minimum:  603.86  Cost:  247.74\nIteration:  112  Variables:  [0.74, 0.92, 1.7, 2.61, 3.55, 2.18, 0.5]  Minimum:  603.86  Cost:  247.74\nIteration:  113  Variables:  [0.74, 0.92, 1.7, 2.61, 3.55, 2.18, 0.5]  Minimum:  603.86  Cost:  247.74\nIteration:  114  Variables:  [0.74, 0.92, 1.7, 2.61, 3.55, 2.18, 0.5]  Minimum:  603.86  Cost:  247.74\nIteration:  115  Variables:  [0.74, 0.92, 1.7, 2.61, 3.55, 2.18, 0.5]  Minimum:  603.86  Cost:  247.74\nIteration:  116  Variables:  [0.74, 0.92, 1.7, 2.61, 3.55, 2.18, 0.5]  Minimum:  603.86  Cost:  247.74\nIteration:  117  Variables:  [0.74, 0.92, 1.7, 2.61, 3.55, 2.18, 0.5]  Minimum:  603.86  Cost:  247.74\n"
     ]
    },
    {
     "name": "stdout",
     "output_type": "stream",
     "text": [
      "Iteration:  118  Variables:  [0.74, 0.92, 1.7, 2.61, 3.55, 2.18, 0.5]  Minimum:  603.86  Cost:  247.74\nIteration:  119  Variables:  [0.74, 0.92, 1.7, 2.61, 3.55, 2.18, 0.5]  Minimum:  603.86  Cost:  247.74\nIteration:  120  Variables:  [0.74, 0.92, 1.7, 2.6, 3.55, 2.18, 0.53]  Minimum:  604.06  Cost:  241.67\nIteration:  121  Variables:  [0.74, 0.92, 1.7, 2.6, 3.55, 2.18, 0.53]  Minimum:  604.06  Cost:  241.67\nIteration:  122  Variables:  [0.74, 0.92, 1.7, 2.6, 3.55, 2.18, 0.53]  Minimum:  604.06  Cost:  241.67\nIteration:  123  Variables:  [0.74, 0.92, 1.7, 2.6, 3.55, 2.18, 0.53]  Minimum:  604.06  Cost:  241.67\nIteration:  124  Variables:  [0.74, 0.92, 1.7, 2.6, 3.55, 2.18, 0.53]  Minimum:  604.06  Cost:  241.67\nIteration:  125  Variables:  [0.74, 0.92, 1.7, 2.6, 3.55, 2.18, 0.53]  Minimum:  604.06  Cost:  241.67\nIteration:  126  Variables:  [0.74, 0.92, 1.7, 2.6, 3.55, 2.18, 0.53]  Minimum:  604.06  Cost:  241.67\nIteration:  127  Variables:  [0.74, 0.92, 1.7, 2.6, 3.55, 2.18, 0.53]  Minimum:  604.06  Cost:  241.67\n"
     ]
    },
    {
     "name": "stdout",
     "output_type": "stream",
     "text": [
      "Iteration:  128  Variables:  [0.74, 0.92, 1.7, 2.6, 3.55, 2.18, 0.53]  Minimum:  604.06  Cost:  241.67\nIteration:  129  Variables:  [0.74, 0.92, 1.7, 2.6, 3.55, 2.18, 0.53]  Minimum:  604.06  Cost:  241.67\nIteration:  130  Variables:  [0.74, 0.92, 1.7, 2.6, 3.55, 2.18, 0.53]  Minimum:  604.06  Cost:  241.67\nIteration:  131  Variables:  [0.74, 0.92, 1.7, 2.6, 3.55, 2.18, 0.53]  Minimum:  604.06  Cost:  241.67\nIteration:  132  Variables:  [0.74, 0.92, 1.7, 2.6, 3.55, 2.18, 0.53]  Minimum:  604.06  Cost:  241.67\nIteration:  133  Variables:  [0.74, 0.92, 1.7, 2.6, 3.55, 2.18, 0.53]  Minimum:  604.06  Cost:  241.68\nIteration:  134  Variables:  [0.74, 0.92, 1.7, 2.6, 3.55, 2.18, 0.53]  Minimum:  604.06  Cost:  241.67\nIteration:  135  Variables:  [0.74, 0.92, 1.7, 2.6, 3.55, 2.18, 0.55]  Minimum:  604.27  Cost:  236.64\nIteration:  136  Variables:  [0.74, 0.92, 1.7, 2.6, 3.55, 2.18, 0.55]  Minimum:  604.27  Cost:  236.64\nIteration:  137  Variables:  [0.74, 0.92, 1.7, 2.6, 3.55, 2.18, 0.55]  Minimum:  604.27  Cost:  236.64\n"
     ]
    },
    {
     "name": "stdout",
     "output_type": "stream",
     "text": [
      "Iteration:  138  Variables:  [0.74, 0.92, 1.7, 2.6, 3.55, 2.18, 0.55]  Minimum:  604.27  Cost:  236.64\nIteration:  139  Variables:  [0.74, 0.92, 1.7, 2.6, 3.55, 2.18, 0.55]  Minimum:  604.27  Cost:  236.64\nIteration:  140  Variables:  [0.74, 0.92, 1.7, 2.6, 3.55, 2.18, 0.55]  Minimum:  604.27  Cost:  236.64\nIteration:  141  Variables:  [0.74, 0.92, 1.7, 2.6, 3.55, 2.18, 0.55]  Minimum:  604.27  Cost:  236.64\nIteration:  142  Variables:  [0.74, 0.92, 1.7, 2.6, 3.55, 2.18, 0.55]  Minimum:  604.27  Cost:  236.64\nIteration:  143  Variables:  [0.74, 0.92, 1.7, 2.6, 3.55, 2.18, 0.55]  Minimum:  604.27  Cost:  236.64\nIteration:  144  Variables:  [0.74, 0.92, 1.7, 2.6, 3.55, 2.18, 0.55]  Minimum:  604.27  Cost:  236.64\nIteration:  145  Variables:  [0.74, 0.92, 1.7, 2.6, 3.55, 2.18, 0.55]  Minimum:  604.27  Cost:  236.64\nIteration:  146  Variables:  [0.74, 0.92, 1.7, 2.6, 3.55, 2.18, 0.55]  Minimum:  604.27  Cost:  236.64\nIteration:  147  Variables:  [0.74, 0.92, 1.7, 2.6, 3.55, 2.18, 0.55]  Minimum:  604.27  Cost:  236.64\n"
     ]
    },
    {
     "name": "stdout",
     "output_type": "stream",
     "text": [
      "Iteration:  148  Variables:  [0.74, 0.92, 1.7, 2.6, 3.55, 2.18, 0.55]  Minimum:  604.27  Cost:  236.64\nIteration:  149  Variables:  [0.74, 0.92, 1.7, 2.6, 3.55, 2.18, 0.55]  Minimum:  604.27  Cost:  236.64\nIteration:  150  Variables:  [0.74, 0.92, 1.7, 2.6, 3.55, 2.18, 0.57]  Minimum:  604.47  Cost:  232.38\nIteration:  151  Variables:  [0.74, 0.92, 1.7, 2.6, 3.55, 2.18, 0.57]  Minimum:  604.47  Cost:  232.38\nIteration:  152  Variables:  [0.74, 0.92, 1.7, 2.6, 3.55, 2.18, 0.57]  Minimum:  604.47  Cost:  232.38\nIteration:  153  Variables:  [0.74, 0.92, 1.7, 2.6, 3.55, 2.18, 0.57]  Minimum:  604.47  Cost:  232.38\nIteration:  154  Variables:  [0.74, 0.92, 1.7, 2.6, 3.55, 2.18, 0.57]  Minimum:  604.47  Cost:  232.38\nIteration:  155  Variables:  [0.74, 0.92, 1.7, 2.6, 3.55, 2.18, 0.57]  Minimum:  604.47  Cost:  232.38\nIteration:  156  Variables:  [0.74, 0.92, 1.7, 2.6, 3.55, 2.18, 0.57]  Minimum:  604.47  Cost:  232.38\nIteration:  157  Variables:  [0.74, 0.92, 1.7, 2.6, 3.55, 2.18, 0.57]  Minimum:  604.47  Cost:  232.38\n"
     ]
    },
    {
     "name": "stdout",
     "output_type": "stream",
     "text": [
      "Iteration:  158  Variables:  [0.74, 0.92, 1.7, 2.6, 3.55, 2.18, 0.57]  Minimum:  604.47  Cost:  232.38\nIteration:  159  Variables:  [0.74, 0.92, 1.7, 2.6, 3.55, 2.18, 0.57]  Minimum:  604.47  Cost:  232.38\nIteration:  160  Variables:  [0.74, 0.92, 1.7, 2.6, 3.55, 2.18, 0.57]  Minimum:  604.47  Cost:  232.38\nIteration:  161  Variables:  [0.74, 0.92, 1.7, 2.6, 3.55, 2.18, 0.57]  Minimum:  604.47  Cost:  232.38\nIteration:  162  Variables:  [0.74, 0.92, 1.7, 2.6, 3.55, 2.18, 0.57]  Minimum:  604.47  Cost:  232.38\nIteration:  163  Variables:  [0.74, 0.92, 1.7, 2.6, 3.55, 2.18, 0.57]  Minimum:  604.47  Cost:  232.38\nIteration:  164  Variables:  [0.74, 0.92, 1.7, 2.6, 3.55, 2.18, 0.57]  Minimum:  604.47  Cost:  232.38\nIteration:  165  Variables:  [0.74, 0.92, 1.7, 2.6, 3.55, 2.17, 0.59]  Minimum:  604.68  Cost:  228.72\nIteration:  166  Variables:  [0.74, 0.92, 1.7, 2.6, 3.55, 2.17, 0.59]  Minimum:  604.68  Cost:  228.72\nIteration:  167  Variables:  [0.74, 0.92, 1.7, 2.6, 3.55, 2.17, 0.59]  Minimum:  604.68  Cost:  228.72\n"
     ]
    },
    {
     "name": "stdout",
     "output_type": "stream",
     "text": [
      "Iteration:  168  Variables:  [0.74, 0.92, 1.7, 2.6, 3.55, 2.17, 0.59]  Minimum:  604.68  Cost:  228.72\nIteration:  169  Variables:  [0.74, 0.92, 1.7, 2.6, 3.55, 2.17, 0.59]  Minimum:  604.68  Cost:  228.72\nIteration:  170  Variables:  [0.74, 0.92, 1.7, 2.6, 3.55, 2.17, 0.59]  Minimum:  604.68  Cost:  228.72\nIteration:  171  Variables:  [0.74, 0.92, 1.7, 2.6, 3.55, 2.17, 0.59]  Minimum:  604.68  Cost:  228.72\nIteration:  172  Variables:  [0.74, 0.92, 1.7, 2.6, 3.55, 2.17, 0.59]  Minimum:  604.68  Cost:  228.72\nIteration:  173  Variables:  [0.74, 0.92, 1.7, 2.6, 3.55, 2.17, 0.59]  Minimum:  604.68  Cost:  228.72\nIteration:  174  Variables:  [0.74, 0.92, 1.7, 2.6, 3.55, 2.17, 0.59]  Minimum:  604.68  Cost:  228.72\nIteration:  175  Variables:  [0.74, 0.92, 1.7, 2.6, 3.55, 2.17, 0.59]  Minimum:  604.68  Cost:  228.72\nIteration:  176  Variables:  [0.74, 0.92, 1.7, 2.6, 3.55, 2.17, 0.59]  Minimum:  604.68  Cost:  228.72\nIteration:  177  Variables:  [0.74, 0.92, 1.7, 2.6, 3.55, 2.17, 0.59]  Minimum:  604.68  Cost:  228.72\n"
     ]
    },
    {
     "name": "stdout",
     "output_type": "stream",
     "text": [
      "Iteration:  178  Variables:  [0.74, 0.92, 1.7, 2.6, 3.55, 2.17, 0.59]  Minimum:  604.68  Cost:  228.72\nIteration:  179  Variables:  [0.74, 0.92, 1.7, 2.6, 3.55, 2.17, 0.59]  Minimum:  604.68  Cost:  228.72\nIteration:  180  Variables:  [0.74, 0.92, 1.71, 2.6, 3.55, 2.17, 0.61]  Minimum:  604.89  Cost:  225.53\nIteration:  181  Variables:  [0.74, 0.92, 1.71, 2.6, 3.55, 2.17, 0.61]  Minimum:  604.89  Cost:  225.53\nIteration:  182  Variables:  [0.74, 0.92, 1.71, 2.6, 3.55, 2.17, 0.61]  Minimum:  604.89  Cost:  225.53\nIteration:  183  Variables:  [0.74, 0.92, 1.71, 2.6, 3.55, 2.17, 0.61]  Minimum:  604.89  Cost:  225.53\nIteration:  184  Variables:  [0.74, 0.92, 1.71, 2.6, 3.55, 2.17, 0.61]  Minimum:  604.89  Cost:  225.53\nIteration:  185  Variables:  [0.74, 0.92, 1.71, 2.6, 3.55, 2.17, 0.61]  Minimum:  604.89  Cost:  225.53\nIteration:  186  Variables:  [0.74, 0.92, 1.71, 2.6, 3.55, 2.17, 0.61]  Minimum:  604.89  Cost:  225.53\nIteration:  187  Variables:  [0.74, 0.92, 1.71, 2.6, 3.55, 2.17, 0.61]  Minimum:  604.89  Cost:  225.53\n"
     ]
    },
    {
     "name": "stdout",
     "output_type": "stream",
     "text": [
      "Iteration:  188  Variables:  [0.74, 0.92, 1.71, 2.6, 3.55, 2.17, 0.61]  Minimum:  604.89  Cost:  225.53\nIteration:  189  Variables:  [0.74, 0.92, 1.71, 2.6, 3.55, 2.17, 0.61]  Minimum:  604.89  Cost:  225.53\nIteration:  190  Variables:  [0.74, 0.92, 1.71, 2.6, 3.55, 2.17, 0.61]  Minimum:  604.89  Cost:  225.53\nIteration:  191  Variables:  [0.74, 0.92, 1.71, 2.6, 3.55, 2.17, 0.61]  Minimum:  604.89  Cost:  225.53\nIteration:  192  Variables:  [0.74, 0.92, 1.71, 2.6, 3.55, 2.17, 0.61]  Minimum:  604.89  Cost:  225.53\nIteration:  193  Variables:  [0.74, 0.92, 1.71, 2.6, 3.55, 2.17, 0.61]  Minimum:  604.89  Cost:  225.53\nIteration:  194  Variables:  [0.74, 0.92, 1.71, 2.6, 3.55, 2.17, 0.61]  Minimum:  604.89  Cost:  225.53\nIteration:  195  Variables:  [0.74, 0.91, 1.71, 2.6, 3.55, 2.17, 0.63]  Minimum:  605.1  Cost:  222.72\nIteration:  196  Variables:  [0.74, 0.91, 1.71, 2.6, 3.55, 2.17, 0.63]  Minimum:  605.1  Cost:  222.72\nIteration:  197  Variables:  [0.74, 0.91, 1.71, 2.6, 3.55, 2.17, 0.63]  Minimum:  605.1  Cost:  222.72\n"
     ]
    },
    {
     "name": "stdout",
     "output_type": "stream",
     "text": [
      "Iteration:  198  Variables:  [0.74, 0.91, 1.71, 2.6, 3.55, 2.17, 0.63]  Minimum:  605.1  Cost:  222.72\nIteration:  199  Variables:  [0.74, 0.91, 1.71, 2.6, 3.55, 2.17, 0.63]  Minimum:  605.1  Cost:  222.72\nIteration:  200  Variables:  [0.74, 0.91, 1.71, 2.6, 3.55, 2.17, 0.63]  Minimum:  605.1  Cost:  222.72\nIteration:  201  Variables:  [0.74, 0.91, 1.71, 2.6, 3.55, 2.17, 0.63]  Minimum:  605.1  Cost:  222.72\nIteration:  202  Variables:  [0.74, 0.91, 1.71, 2.6, 3.55, 2.17, 0.63]  Minimum:  605.1  Cost:  222.72\nIteration:  203  Variables:  [0.74, 0.91, 1.71, 2.6, 3.55, 2.17, 0.63]  Minimum:  605.1  Cost:  222.72\nIteration:  204  Variables:  [0.74, 0.91, 1.71, 2.6, 3.55, 2.17, 0.63]  Minimum:  605.1  Cost:  222.72\nIteration:  205  Variables:  [0.74, 0.91, 1.71, 2.6, 3.55, 2.17, 0.63]  Minimum:  605.1  Cost:  222.72\nIteration:  206  Variables:  [0.74, 0.91, 1.71, 2.6, 3.55, 2.17, 0.63]  Minimum:  605.1  Cost:  222.72\nIteration:  207  Variables:  [0.74, 0.91, 1.71, 2.6, 3.55, 2.17, 0.63]  Minimum:  605.1  Cost:  222.72\n"
     ]
    },
    {
     "name": "stdout",
     "output_type": "stream",
     "text": [
      "Iteration:  208  Variables:  [0.74, 0.91, 1.71, 2.6, 3.55, 2.17, 0.63]  Minimum:  605.1  Cost:  222.72\nIteration:  209  Variables:  [0.74, 0.91, 1.71, 2.6, 3.55, 2.17, 0.63]  Minimum:  605.1  Cost:  222.71\nIteration:  210  Variables:  [0.74, 0.91, 1.71, 2.59, 3.55, 2.17, 0.64]  Minimum:  605.32  Cost:  220.21\nIteration:  211  Variables:  [0.74, 0.91, 1.71, 2.59, 3.55, 2.17, 0.64]  Minimum:  605.32  Cost:  220.21\nIteration:  212  Variables:  [0.74, 0.91, 1.71, 2.59, 3.55, 2.17, 0.64]  Minimum:  605.32  Cost:  220.21\nIteration:  213  Variables:  [0.74, 0.91, 1.71, 2.59, 3.55, 2.17, 0.64]  Minimum:  605.32  Cost:  220.21\nIteration:  214  Variables:  [0.74, 0.91, 1.71, 2.59, 3.55, 2.17, 0.64]  Minimum:  605.32  Cost:  220.21\nIteration:  215  Variables:  [0.74, 0.91, 1.71, 2.59, 3.55, 2.17, 0.64]  Minimum:  605.32  Cost:  220.21\nIteration:  216  Variables:  [0.74, 0.91, 1.71, 2.59, 3.55, 2.17, 0.64]  Minimum:  605.32  Cost:  220.21\nIteration:  217  Variables:  [0.74, 0.91, 1.71, 2.59, 3.55, 2.17, 0.64]  Minimum:  605.32  Cost:  220.21\n"
     ]
    },
    {
     "name": "stdout",
     "output_type": "stream",
     "text": [
      "Iteration:  218  Variables:  [0.74, 0.91, 1.71, 2.59, 3.55, 2.17, 0.64]  Minimum:  605.31  Cost:  220.21\nIteration:  219  Variables:  [0.74, 0.91, 1.71, 2.59, 3.55, 2.17, 0.64]  Minimum:  605.32  Cost:  220.21\nIteration:  220  Variables:  [0.74, 0.91, 1.71, 2.59, 3.55, 2.17, 0.64]  Minimum:  605.32  Cost:  220.21\nIteration:  221  Variables:  [0.74, 0.91, 1.71, 2.59, 3.55, 2.17, 0.64]  Minimum:  605.32  Cost:  220.21\nIteration:  222  Variables:  [0.74, 0.91, 1.71, 2.59, 3.55, 2.17, 0.64]  Minimum:  605.31  Cost:  220.21\nIteration:  223  Variables:  [0.74, 0.91, 1.71, 2.59, 3.55, 2.17, 0.64]  Minimum:  605.32  Cost:  220.21\nIteration:  224  Variables:  [0.74, 0.91, 1.71, 2.59, 3.55, 2.17, 0.64]  Minimum:  605.32  Cost:  220.21\nIteration:  225  Variables:  [0.74, 0.91, 1.71, 2.59, 3.55, 2.17, 0.66]  Minimum:  605.53  Cost:  217.97\nIteration:  226  Variables:  [0.74, 0.91, 1.71, 2.59, 3.55, 2.17, 0.66]  Minimum:  605.53  Cost:  217.97\nIteration:  227  Variables:  [0.74, 0.91, 1.71, 2.59, 3.55, 2.17, 0.66]  Minimum:  605.53  Cost:  217.97\n"
     ]
    },
    {
     "name": "stdout",
     "output_type": "stream",
     "text": [
      "Iteration:  228  Variables:  [0.74, 0.91, 1.71, 2.59, 3.55, 2.17, 0.66]  Minimum:  605.53  Cost:  217.97\nIteration:  229  Variables:  [0.74, 0.91, 1.71, 2.59, 3.55, 2.17, 0.66]  Minimum:  605.53  Cost:  217.97\nIteration:  230  Variables:  [0.74, 0.91, 1.71, 2.59, 3.55, 2.17, 0.66]  Minimum:  605.53  Cost:  217.97\nIteration:  231  Variables:  [0.74, 0.91, 1.71, 2.59, 3.55, 2.17, 0.66]  Minimum:  605.53  Cost:  217.97\nIteration:  232  Variables:  [0.74, 0.91, 1.71, 2.59, 3.55, 2.17, 0.66]  Minimum:  605.53  Cost:  217.97\nIteration:  233  Variables:  [0.74, 0.91, 1.71, 2.59, 3.55, 2.17, 0.66]  Minimum:  605.53  Cost:  217.97\nIteration:  234  Variables:  [0.74, 0.91, 1.71, 2.59, 3.55, 2.17, 0.66]  Minimum:  605.53  Cost:  217.97\nIteration:  235  Variables:  [0.74, 0.91, 1.71, 2.59, 3.55, 2.17, 0.66]  Minimum:  605.53  Cost:  217.97\nIteration:  236  Variables:  [0.74, 0.91, 1.71, 2.59, 3.55, 2.17, 0.66]  Minimum:  605.53  Cost:  217.97\nIteration:  237  Variables:  [0.74, 0.91, 1.71, 2.59, 3.55, 2.17, 0.66]  Minimum:  605.53  Cost:  217.97\n"
     ]
    },
    {
     "name": "stdout",
     "output_type": "stream",
     "text": [
      "Iteration:  238  Variables:  [0.74, 0.91, 1.71, 2.59, 3.55, 2.17, 0.66]  Minimum:  605.53  Cost:  217.97\nIteration:  239  Variables:  [0.74, 0.91, 1.71, 2.59, 3.55, 2.17, 0.66]  Minimum:  605.53  Cost:  217.97\nIteration:  240  Variables:  [0.74, 0.91, 1.71, 2.59, 3.55, 2.17, 0.68]  Minimum:  605.75  Cost:  215.94\nIteration:  241  Variables:  [0.74, 0.91, 1.71, 2.59, 3.55, 2.17, 0.68]  Minimum:  605.75  Cost:  215.94\nIteration:  242  Variables:  [0.74, 0.91, 1.71, 2.59, 3.55, 2.17, 0.68]  Minimum:  605.75  Cost:  215.94\nIteration:  243  Variables:  [0.74, 0.91, 1.71, 2.59, 3.55, 2.17, 0.68]  Minimum:  605.75  Cost:  215.94\nIteration:  244  Variables:  [0.74, 0.91, 1.71, 2.59, 3.55, 2.17, 0.68]  Minimum:  605.75  Cost:  215.94\nIteration:  245  Variables:  [0.74, 0.91, 1.71, 2.59, 3.55, 2.17, 0.68]  Minimum:  605.75  Cost:  215.94\nIteration:  246  Variables:  [0.74, 0.91, 1.71, 2.59, 3.55, 2.17, 0.68]  Minimum:  605.75  Cost:  215.94\nIteration:  247  Variables:  [0.74, 0.91, 1.71, 2.59, 3.55, 2.17, 0.68]  Minimum:  605.75  Cost:  215.94\n"
     ]
    },
    {
     "name": "stdout",
     "output_type": "stream",
     "text": [
      "Iteration:  248  Variables:  [0.74, 0.91, 1.71, 2.59, 3.55, 2.17, 0.68]  Minimum:  605.75  Cost:  215.94\nIteration:  249  Variables:  [0.74, 0.91, 1.71, 2.59, 3.55, 2.17, 0.68]  Minimum:  605.75  Cost:  215.94\nIteration:  250  Variables:  [0.74, 0.91, 1.71, 2.59, 3.55, 2.17, 0.68]  Minimum:  605.75  Cost:  215.94\nIteration:  251  Variables:  [0.74, 0.91, 1.71, 2.59, 3.55, 2.17, 0.68]  Minimum:  605.75  Cost:  215.94\nIteration:  252  Variables:  [0.74, 0.91, 1.71, 2.59, 3.55, 2.17, 0.68]  Minimum:  605.75  Cost:  215.94\nIteration:  253  Variables:  [0.74, 0.91, 1.71, 2.59, 3.55, 2.17, 0.68]  Minimum:  605.75  Cost:  215.94\nIteration:  254  Variables:  [0.74, 0.91, 1.71, 2.59, 3.55, 2.17, 0.68]  Minimum:  605.75  Cost:  215.94\nIteration:  255  Variables:  [0.74, 0.91, 1.71, 2.59, 3.55, 2.16, 0.69]  Minimum:  605.97  Cost:  214.1\nIteration:  256  Variables:  [0.74, 0.91, 1.71, 2.59, 3.55, 2.16, 0.69]  Minimum:  605.97  Cost:  214.1\nIteration:  257  Variables:  [0.74, 0.91, 1.71, 2.59, 3.55, 2.16, 0.69]  Minimum:  605.97  Cost:  214.1\n"
     ]
    },
    {
     "name": "stdout",
     "output_type": "stream",
     "text": [
      "Iteration:  258  Variables:  [0.74, 0.91, 1.71, 2.59, 3.55, 2.16, 0.69]  Minimum:  605.97  Cost:  214.1\nIteration:  259  Variables:  [0.74, 0.91, 1.71, 2.59, 3.55, 2.16, 0.69]  Minimum:  605.97  Cost:  214.1\nIteration:  260  Variables:  [0.74, 0.91, 1.71, 2.59, 3.55, 2.16, 0.69]  Minimum:  605.97  Cost:  214.1\nIteration:  261  Variables:  [0.74, 0.91, 1.71, 2.59, 3.55, 2.16, 0.69]  Minimum:  605.97  Cost:  214.1\nIteration:  262  Variables:  [0.74, 0.91, 1.71, 2.59, 3.55, 2.16, 0.69]  Minimum:  605.97  Cost:  214.1\nIteration:  263  Variables:  [0.74, 0.91, 1.71, 2.59, 3.55, 2.16, 0.69]  Minimum:  605.97  Cost:  214.1\nIteration:  264  Variables:  [0.74, 0.91, 1.71, 2.59, 3.55, 2.16, 0.69]  Minimum:  605.97  Cost:  214.1\nIteration:  265  Variables:  [0.74, 0.91, 1.71, 2.59, 3.55, 2.16, 0.69]  Minimum:  605.97  Cost:  214.1\nIteration:  266  Variables:  [0.74, 0.91, 1.71, 2.59, 3.55, 2.16, 0.69]  Minimum:  605.97  Cost:  214.1\nIteration:  267  Variables:  [0.74, 0.91, 1.71, 2.59, 3.55, 2.16, 0.69]  Minimum:  605.97  Cost:  214.1\n"
     ]
    },
    {
     "name": "stdout",
     "output_type": "stream",
     "text": [
      "Iteration:  268  Variables:  [0.74, 0.91, 1.71, 2.59, 3.55, 2.16, 0.69]  Minimum:  605.97  Cost:  214.1\nIteration:  269  Variables:  [0.74, 0.91, 1.71, 2.59, 3.55, 2.16, 0.69]  Minimum:  605.97  Cost:  214.1\nIteration:  270  Variables:  [0.74, 0.91, 1.71, 2.59, 3.55, 2.16, 0.7]  Minimum:  606.19  Cost:  212.42\nIteration:  271  Variables:  [0.74, 0.91, 1.71, 2.59, 3.55, 2.16, 0.7]  Minimum:  606.19  Cost:  212.42\nIteration:  272  Variables:  [0.74, 0.91, 1.71, 2.59, 3.55, 2.16, 0.7]  Minimum:  606.19  Cost:  212.42\nIteration:  273  Variables:  [0.74, 0.91, 1.71, 2.59, 3.55, 2.16, 0.7]  Minimum:  606.19  Cost:  212.42\nIteration:  274  Variables:  [0.74, 0.91, 1.71, 2.59, 3.55, 2.16, 0.7]  Minimum:  606.19  Cost:  212.42\nIteration:  275  Variables:  [0.74, 0.91, 1.71, 2.59, 3.55, 2.16, 0.7]  Minimum:  606.19  Cost:  212.42\nIteration:  276  Variables:  [0.74, 0.91, 1.71, 2.59, 3.55, 2.16, 0.7]  Minimum:  606.19  Cost:  212.42\nIteration:  277  Variables:  [0.74, 0.91, 1.71, 2.59, 3.55, 2.16, 0.7]  Minimum:  606.19  Cost:  212.42\n"
     ]
    },
    {
     "name": "stdout",
     "output_type": "stream",
     "text": [
      "Iteration:  278  Variables:  [0.74, 0.91, 1.71, 2.59, 3.55, 2.16, 0.7]  Minimum:  606.19  Cost:  212.42\nIteration:  279  Variables:  [0.74, 0.91, 1.71, 2.59, 3.55, 2.16, 0.7]  Minimum:  606.19  Cost:  212.42\nIteration:  280  Variables:  [0.74, 0.91, 1.71, 2.59, 3.55, 2.16, 0.7]  Minimum:  606.19  Cost:  212.42\nIteration:  281  Variables:  [0.74, 0.91, 1.71, 2.59, 3.55, 2.16, 0.7]  Minimum:  606.19  Cost:  212.42\nIteration:  282  Variables:  [0.74, 0.91, 1.71, 2.59, 3.55, 2.16, 0.7]  Minimum:  606.19  Cost:  212.42\nIteration:  283  Variables:  [0.74, 0.91, 1.71, 2.59, 3.55, 2.16, 0.7]  Minimum:  606.19  Cost:  212.42\nIteration:  284  Variables:  [0.74, 0.91, 1.71, 2.59, 3.55, 2.16, 0.7]  Minimum:  606.19  Cost:  212.41\nIteration:  285  Variables:  [0.74, 0.91, 1.71, 2.59, 3.55, 2.16, 0.72]  Minimum:  606.42  Cost:  210.87\nIteration:  286  Variables:  [0.74, 0.91, 1.71, 2.59, 3.55, 2.16, 0.72]  Minimum:  606.42  Cost:  210.87\nIteration:  287  Variables:  [0.74, 0.91, 1.71, 2.59, 3.55, 2.16, 0.72]  Minimum:  606.42  Cost:  210.87\n"
     ]
    },
    {
     "name": "stdout",
     "output_type": "stream",
     "text": [
      "Iteration:  288  Variables:  [0.74, 0.91, 1.71, 2.59, 3.55, 2.16, 0.72]  Minimum:  606.42  Cost:  210.87\nIteration:  289  Variables:  [0.74, 0.91, 1.71, 2.59, 3.55, 2.16, 0.72]  Minimum:  606.42  Cost:  210.87\nIteration:  290  Variables:  [0.74, 0.91, 1.71, 2.59, 3.55, 2.16, 0.72]  Minimum:  606.42  Cost:  210.87\nIteration:  291  Variables:  [0.74, 0.91, 1.71, 2.59, 3.55, 2.16, 0.72]  Minimum:  606.42  Cost:  210.87\nIteration:  292  Variables:  [0.74, 0.91, 1.71, 2.59, 3.55, 2.16, 0.72]  Minimum:  606.42  Cost:  210.87\nIteration:  293  Variables:  [0.74, 0.91, 1.71, 2.59, 3.55, 2.16, 0.72]  Minimum:  606.42  Cost:  210.87\nIteration:  294  Variables:  [0.74, 0.91, 1.71, 2.59, 3.55, 2.16, 0.72]  Minimum:  606.42  Cost:  210.87\nIteration:  295  Variables:  [0.74, 0.91, 1.71, 2.59, 3.55, 2.16, 0.72]  Minimum:  606.42  Cost:  210.87\nIteration:  296  Variables:  [0.74, 0.91, 1.71, 2.59, 3.55, 2.16, 0.72]  Minimum:  606.42  Cost:  210.87\nIteration:  297  Variables:  [0.74, 0.91, 1.71, 2.59, 3.55, 2.16, 0.72]  Minimum:  606.42  Cost:  210.87\n"
     ]
    },
    {
     "name": "stdout",
     "output_type": "stream",
     "text": [
      "Iteration:  298  Variables:  [0.74, 0.91, 1.71, 2.59, 3.55, 2.16, 0.72]  Minimum:  606.42  Cost:  210.87\nIteration:  299  Variables:  [0.74, 0.91, 1.71, 2.59, 3.55, 2.16, 0.72]  Minimum:  606.42  Cost:  210.87\nIteration:  300  Variables:  [0.74, 0.91, 1.71, 2.59, 3.55, 2.16, 0.73]  Minimum:  606.65  Cost:  209.44\nIteration:  301  Variables:  [0.74, 0.91, 1.71, 2.59, 3.55, 2.16, 0.73]  Minimum:  606.65  Cost:  209.44\nIteration:  302  Variables:  [0.74, 0.91, 1.71, 2.59, 3.55, 2.16, 0.73]  Minimum:  606.65  Cost:  209.44\nIteration:  303  Variables:  [0.74, 0.91, 1.71, 2.59, 3.55, 2.16, 0.73]  Minimum:  606.65  Cost:  209.44\nIteration:  304  Variables:  [0.74, 0.91, 1.71, 2.59, 3.55, 2.16, 0.73]  Minimum:  606.65  Cost:  209.44\nIteration:  305  Variables:  [0.74, 0.91, 1.71, 2.59, 3.55, 2.16, 0.73]  Minimum:  606.65  Cost:  209.44\nIteration:  306  Variables:  [0.74, 0.91, 1.71, 2.59, 3.55, 2.16, 0.73]  Minimum:  606.65  Cost:  209.44\nIteration:  307  Variables:  [0.74, 0.91, 1.71, 2.59, 3.55, 2.16, 0.73]  Minimum:  606.65  Cost:  209.44\n"
     ]
    },
    {
     "name": "stdout",
     "output_type": "stream",
     "text": [
      "Iteration:  308  Variables:  [0.74, 0.91, 1.71, 2.59, 3.55, 2.16, 0.73]  Minimum:  606.65  Cost:  209.44\nIteration:  309  Variables:  [0.74, 0.91, 1.71, 2.59, 3.55, 2.16, 0.73]  Minimum:  606.65  Cost:  209.44\nIteration:  310  Variables:  [0.74, 0.91, 1.71, 2.59, 3.55, 2.16, 0.73]  Minimum:  606.65  Cost:  209.44\nIteration:  311  Variables:  [0.74, 0.91, 1.71, 2.59, 3.55, 2.16, 0.73]  Minimum:  606.65  Cost:  209.44\nIteration:  312  Variables:  [0.74, 0.91, 1.71, 2.59, 3.55, 2.16, 0.73]  Minimum:  606.65  Cost:  209.44\nIteration:  313  Variables:  [0.74, 0.91, 1.71, 2.59, 3.55, 2.16, 0.73]  Minimum:  606.65  Cost:  209.44\nIteration:  314  Variables:  [0.74, 0.91, 1.71, 2.59, 3.55, 2.16, 0.73]  Minimum:  606.65  Cost:  209.44\nIteration:  315  Variables:  [0.74, 0.91, 1.71, 2.58, 3.55, 2.16, 0.74]  Minimum:  606.88  Cost:  208.12\nIteration:  316  Variables:  [0.74, 0.91, 1.71, 2.58, 3.55, 2.16, 0.74]  Minimum:  606.88  Cost:  208.12\nIteration:  317  Variables:  [0.74, 0.91, 1.71, 2.58, 3.55, 2.16, 0.74]  Minimum:  606.88  Cost:  208.12\n"
     ]
    },
    {
     "name": "stdout",
     "output_type": "stream",
     "text": [
      "Iteration:  318  Variables:  [0.74, 0.91, 1.71, 2.58, 3.55, 2.16, 0.74]  Minimum:  606.88  Cost:  208.12\nIteration:  319  Variables:  [0.74, 0.91, 1.71, 2.58, 3.55, 2.16, 0.74]  Minimum:  606.88  Cost:  208.12\nIteration:  320  Variables:  [0.74, 0.91, 1.71, 2.58, 3.55, 2.16, 0.74]  Minimum:  606.88  Cost:  208.12\nIteration:  321  Variables:  [0.74, 0.91, 1.71, 2.58, 3.55, 2.16, 0.74]  Minimum:  606.88  Cost:  208.12\nIteration:  322  Variables:  [0.74, 0.91, 1.71, 2.58, 3.55, 2.16, 0.74]  Minimum:  606.88  Cost:  208.12\nIteration:  323  Variables:  [0.74, 0.91, 1.71, 2.58, 3.55, 2.16, 0.74]  Minimum:  606.88  Cost:  208.12\nIteration:  324  Variables:  [0.74, 0.91, 1.71, 2.58, 3.55, 2.16, 0.74]  Minimum:  606.88  Cost:  208.12\nIteration:  325  Variables:  [0.74, 0.91, 1.71, 2.58, 3.55, 2.16, 0.74]  Minimum:  606.88  Cost:  208.12\nIteration:  326  Variables:  [0.74, 0.91, 1.71, 2.58, 3.55, 2.16, 0.74]  Minimum:  606.88  Cost:  208.12\nIteration:  327  Variables:  [0.74, 0.91, 1.71, 2.58, 3.55, 2.16, 0.74]  Minimum:  606.88  Cost:  208.12\n"
     ]
    },
    {
     "name": "stdout",
     "output_type": "stream",
     "text": [
      "Iteration:  328  Variables:  [0.74, 0.91, 1.71, 2.58, 3.55, 2.16, 0.74]  Minimum:  606.88  Cost:  208.12\nIteration:  329  Variables:  [0.74, 0.91, 1.71, 2.58, 3.55, 2.16, 0.74]  Minimum:  606.88  Cost:  208.12\nIteration:  330  Variables:  [0.74, 0.9, 1.71, 2.58, 3.55, 2.15, 0.75]  Minimum:  607.12  Cost:  206.89\nIteration:  331  Variables:  [0.74, 0.9, 1.71, 2.58, 3.55, 2.15, 0.75]  Minimum:  607.12  Cost:  206.89\nIteration:  332  Variables:  [0.74, 0.9, 1.71, 2.58, 3.55, 2.15, 0.75]  Minimum:  607.12  Cost:  206.89\nIteration:  333  Variables:  [0.74, 0.9, 1.71, 2.58, 3.55, 2.15, 0.75]  Minimum:  607.12  Cost:  206.89\nIteration:  334  Variables:  [0.74, 0.9, 1.71, 2.58, 3.55, 2.15, 0.75]  Minimum:  607.12  Cost:  206.89\nIteration:  335  Variables:  [0.74, 0.9, 1.71, 2.58, 3.55, 2.15, 0.75]  Minimum:  607.12  Cost:  206.89\nIteration:  336  Variables:  [0.74, 0.9, 1.71, 2.58, 3.55, 2.15, 0.75]  Minimum:  607.12  Cost:  206.89\nIteration:  337  Variables:  [0.74, 0.9, 1.71, 2.58, 3.55, 2.15, 0.75]  Minimum:  607.12  Cost:  206.89\n"
     ]
    },
    {
     "name": "stdout",
     "output_type": "stream",
     "text": [
      "Iteration:  338  Variables:  [0.74, 0.9, 1.71, 2.58, 3.55, 2.15, 0.75]  Minimum:  607.12  Cost:  206.89\nIteration:  339  Variables:  [0.74, 0.9, 1.71, 2.58, 3.55, 2.15, 0.75]  Minimum:  607.12  Cost:  206.89\nIteration:  340  Variables:  [0.74, 0.9, 1.71, 2.58, 3.55, 2.15, 0.75]  Minimum:  607.12  Cost:  206.89\nIteration:  341  Variables:  [0.74, 0.9, 1.71, 2.58, 3.55, 2.15, 0.75]  Minimum:  607.12  Cost:  206.89\nIteration:  342  Variables:  [0.74, 0.9, 1.71, 2.58, 3.55, 2.15, 0.75]  Minimum:  607.12  Cost:  206.89\nIteration:  343  Variables:  [0.74, 0.9, 1.71, 2.58, 3.55, 2.15, 0.75]  Minimum:  607.12  Cost:  206.89\nIteration:  344  Variables:  [0.74, 0.9, 1.71, 2.58, 3.55, 2.15, 0.75]  Minimum:  607.12  Cost:  206.89\nIteration:  345  Variables:  [0.74, 0.9, 1.71, 2.58, 3.55, 2.15, 0.77]  Minimum:  607.36  Cost:  205.75\nIteration:  346  Variables:  [0.74, 0.9, 1.71, 2.58, 3.55, 2.15, 0.77]  Minimum:  607.36  Cost:  205.75\nIteration:  347  Variables:  [0.74, 0.9, 1.71, 2.58, 3.55, 2.15, 0.77]  Minimum:  607.36  Cost:  205.75\n"
     ]
    },
    {
     "name": "stdout",
     "output_type": "stream",
     "text": [
      "Iteration:  348  Variables:  [0.74, 0.9, 1.71, 2.58, 3.55, 2.15, 0.77]  Minimum:  607.36  Cost:  205.75\nIteration:  349  Variables:  [0.74, 0.9, 1.71, 2.58, 3.55, 2.15, 0.77]  Minimum:  607.36  Cost:  205.75\nIteration:  350  Variables:  [0.74, 0.9, 1.71, 2.58, 3.55, 2.15, 0.77]  Minimum:  607.36  Cost:  205.75\nIteration:  351  Variables:  [0.74, 0.9, 1.71, 2.58, 3.55, 2.15, 0.77]  Minimum:  607.36  Cost:  205.75\nIteration:  352  Variables:  [0.74, 0.9, 1.71, 2.58, 3.55, 2.15, 0.77]  Minimum:  607.36  Cost:  205.75\nIteration:  353  Variables:  [0.74, 0.9, 1.71, 2.58, 3.55, 2.15, 0.77]  Minimum:  607.36  Cost:  205.75\nIteration:  354  Variables:  [0.74, 0.9, 1.71, 2.58, 3.55, 2.15, 0.77]  Minimum:  607.36  Cost:  205.75\nIteration:  355  Variables:  [0.74, 0.9, 1.71, 2.58, 3.55, 2.15, 0.77]  Minimum:  607.36  Cost:  205.75\nIteration:  356  Variables:  [0.74, 0.9, 1.71, 2.58, 3.55, 2.15, 0.77]  Minimum:  607.36  Cost:  205.75\nIteration:  357  Variables:  [0.74, 0.9, 1.71, 2.58, 3.55, 2.15, 0.77]  Minimum:  607.36  Cost:  205.75\n"
     ]
    },
    {
     "name": "stdout",
     "output_type": "stream",
     "text": [
      "Iteration:  358  Variables:  [0.74, 0.9, 1.71, 2.58, 3.55, 2.15, 0.77]  Minimum:  607.36  Cost:  205.75\nIteration:  359  Variables:  [0.74, 0.9, 1.71, 2.58, 3.55, 2.15, 0.77]  Minimum:  607.36  Cost:  205.75\nIteration:  360  Variables:  [0.74, 0.9, 1.71, 2.58, 3.55, 2.15, 0.78]  Minimum:  607.59  Cost:  204.67\nIteration:  361  Variables:  [0.74, 0.9, 1.71, 2.58, 3.55, 2.15, 0.78]  Minimum:  607.59  Cost:  204.67\nIteration:  362  Variables:  [0.74, 0.9, 1.71, 2.58, 3.55, 2.15, 0.78]  Minimum:  607.59  Cost:  204.67\nIteration:  363  Variables:  [0.74, 0.9, 1.71, 2.58, 3.55, 2.15, 0.78]  Minimum:  607.59  Cost:  204.67\nIteration:  364  Variables:  [0.74, 0.9, 1.71, 2.58, 3.55, 2.15, 0.78]  Minimum:  607.59  Cost:  204.67\nIteration:  365  Variables:  [0.74, 0.9, 1.71, 2.58, 3.55, 2.15, 0.78]  Minimum:  607.59  Cost:  204.67\nIteration:  366  Variables:  [0.74, 0.9, 1.71, 2.58, 3.55, 2.15, 0.78]  Minimum:  607.59  Cost:  204.67\nIteration:  367  Variables:  [0.74, 0.9, 1.71, 2.58, 3.55, 2.15, 0.78]  Minimum:  607.59  Cost:  204.67\n"
     ]
    },
    {
     "name": "stdout",
     "output_type": "stream",
     "text": [
      "Iteration:  368  Variables:  [0.74, 0.9, 1.71, 2.58, 3.55, 2.15, 0.78]  Minimum:  607.59  Cost:  204.67\nIteration:  369  Variables:  [0.74, 0.9, 1.71, 2.58, 3.55, 2.15, 0.78]  Minimum:  607.59  Cost:  204.67\nIteration:  370  Variables:  [0.74, 0.9, 1.71, 2.58, 3.55, 2.15, 0.78]  Minimum:  607.59  Cost:  204.67\nIteration:  371  Variables:  [0.74, 0.9, 1.71, 2.58, 3.55, 2.15, 0.78]  Minimum:  607.59  Cost:  204.67\nIteration:  372  Variables:  [0.74, 0.9, 1.71, 2.58, 3.55, 2.15, 0.78]  Minimum:  607.59  Cost:  204.67\nIteration:  373  Variables:  [0.74, 0.9, 1.71, 2.58, 3.55, 2.15, 0.78]  Minimum:  607.59  Cost:  204.67\nIteration:  374  Variables:  [0.74, 0.9, 1.71, 2.58, 3.55, 2.15, 0.78]  Minimum:  607.59  Cost:  204.67\nIteration:  375  Variables:  [0.74, 0.9, 1.72, 2.58, 3.55, 2.15, 0.79]  Minimum:  607.82  Cost:  203.67\nIteration:  376  Variables:  [0.74, 0.9, 1.72, 2.58, 3.55, 2.15, 0.79]  Minimum:  607.82  Cost:  203.67\nIteration:  377  Variables:  [0.74, 0.9, 1.72, 2.58, 3.55, 2.15, 0.79]  Minimum:  607.82  Cost:  203.67\n"
     ]
    },
    {
     "name": "stdout",
     "output_type": "stream",
     "text": [
      "Iteration:  378  Variables:  [0.74, 0.9, 1.72, 2.58, 3.55, 2.15, 0.79]  Minimum:  607.82  Cost:  203.67\nIteration:  379  Variables:  [0.74, 0.9, 1.72, 2.58, 3.55, 2.15, 0.79]  Minimum:  607.82  Cost:  203.67\nIteration:  380  Variables:  [0.74, 0.9, 1.72, 2.58, 3.55, 2.15, 0.79]  Minimum:  607.82  Cost:  203.67\nIteration:  381  Variables:  [0.74, 0.9, 1.72, 2.58, 3.55, 2.15, 0.79]  Minimum:  607.82  Cost:  203.67\nIteration:  382  Variables:  [0.74, 0.9, 1.72, 2.58, 3.55, 2.15, 0.79]  Minimum:  607.82  Cost:  203.67\nIteration:  383  Variables:  [0.74, 0.9, 1.72, 2.58, 3.55, 2.15, 0.79]  Minimum:  607.82  Cost:  203.67\nIteration:  384  Variables:  [0.74, 0.9, 1.72, 2.58, 3.55, 2.15, 0.79]  Minimum:  607.82  Cost:  203.67\nIteration:  385  Variables:  [0.74, 0.9, 1.72, 2.58, 3.55, 2.15, 0.79]  Minimum:  607.82  Cost:  203.67\nIteration:  386  Variables:  [0.74, 0.9, 1.72, 2.58, 3.55, 2.15, 0.79]  Minimum:  607.82  Cost:  203.67\nIteration:  387  Variables:  [0.74, 0.9, 1.72, 2.58, 3.55, 2.15, 0.79]  Minimum:  607.82  Cost:  203.67\n"
     ]
    },
    {
     "name": "stdout",
     "output_type": "stream",
     "text": [
      "Iteration:  388  Variables:  [0.74, 0.9, 1.72, 2.58, 3.55, 2.15, 0.79]  Minimum:  607.82  Cost:  203.67\nIteration:  389  Variables:  [0.74, 0.9, 1.72, 2.58, 3.55, 2.15, 0.79]  Minimum:  607.82  Cost:  203.67\nIteration:  390  Variables:  [0.74, 0.9, 1.72, 2.57, 3.55, 2.15, 0.8]  Minimum:  608.05  Cost:  202.72\nIteration:  391  Variables:  [0.74, 0.9, 1.72, 2.57, 3.55, 2.15, 0.8]  Minimum:  608.05  Cost:  202.72\nIteration:  392  Variables:  [0.74, 0.9, 1.72, 2.57, 3.55, 2.15, 0.8]  Minimum:  608.05  Cost:  202.72\nIteration:  393  Variables:  [0.74, 0.9, 1.72, 2.57, 3.55, 2.15, 0.8]  Minimum:  608.05  Cost:  202.72\nIteration:  394  Variables:  [0.74, 0.9, 1.72, 2.57, 3.55, 2.15, 0.8]  Minimum:  608.05  Cost:  202.72\nIteration:  395  Variables:  [0.74, 0.9, 1.72, 2.57, 3.55, 2.15, 0.8]  Minimum:  608.05  Cost:  202.72\nIteration:  396  Variables:  [0.74, 0.9, 1.72, 2.57, 3.55, 2.15, 0.8]  Minimum:  608.05  Cost:  202.72\nIteration:  397  Variables:  [0.74, 0.9, 1.72, 2.57, 3.55, 2.15, 0.8]  Minimum:  608.05  Cost:  202.72\nIteration:  398  Variables:  [0.74, 0.9, 1.72, 2.57, 3.55, 2.15, 0.8]  Minimum:  608.05  Cost:  202.72\n"
     ]
    },
    {
     "name": "stdout",
     "output_type": "stream",
     "text": [
      "Iteration:  399  Variables:  [0.74, 0.9, 1.72, 2.57, 3.55, 2.15, 0.8]  Minimum:  608.05  Cost:  202.72\nIteration:  400  Variables:  [0.74, 0.9, 1.72, 2.57, 3.55, 2.15, 0.8]  Minimum:  608.05  Cost:  202.72\nIteration:  401  Variables:  [0.74, 0.9, 1.72, 2.57, 3.55, 2.15, 0.8]  Minimum:  608.05  Cost:  202.72\nIteration:  402  Variables:  [0.74, 0.9, 1.72, 2.57, 3.55, 2.15, 0.8]  Minimum:  608.05  Cost:  202.72\nIteration:  403  Variables:  [0.74, 0.9, 1.72, 2.57, 3.55, 2.15, 0.8]  Minimum:  608.05  Cost:  202.72\nIteration:  404  Variables:  [0.74, 0.9, 1.72, 2.57, 3.55, 2.15, 0.8]  Minimum:  608.05  Cost:  202.72\nIteration:  405  Variables:  [0.74, 0.9, 1.72, 2.57, 3.55, 2.14, 0.81]  Minimum:  608.29  Cost:  201.83\nIteration:  406  Variables:  [0.74, 0.9, 1.72, 2.57, 3.55, 2.14, 0.81]  Minimum:  608.29  Cost:  201.83\nIteration:  407  Variables:  [0.74, 0.9, 1.72, 2.57, 3.55, 2.14, 0.81]  Minimum:  608.29  Cost:  201.83\nIteration:  408  Variables:  [0.74, 0.9, 1.72, 2.57, 3.55, 2.14, 0.81]  Minimum:  608.29  Cost:  201.83\n"
     ]
    },
    {
     "name": "stdout",
     "output_type": "stream",
     "text": [
      "Iteration:  409  Variables:  [0.74, 0.9, 1.72, 2.57, 3.55, 2.14, 0.81]  Minimum:  608.29  Cost:  201.83\nIteration:  410  Variables:  [0.74, 0.9, 1.72, 2.57, 3.55, 2.14, 0.81]  Minimum:  608.29  Cost:  201.83\nIteration:  411  Variables:  [0.74, 0.9, 1.72, 2.57, 3.55, 2.14, 0.81]  Minimum:  608.29  Cost:  201.83\nIteration:  412  Variables:  [0.74, 0.9, 1.72, 2.57, 3.55, 2.14, 0.81]  Minimum:  608.29  Cost:  201.83\nIteration:  413  Variables:  [0.74, 0.9, 1.72, 2.57, 3.55, 2.14, 0.81]  Minimum:  608.29  Cost:  201.83\nIteration:  414  Variables:  [0.74, 0.9, 1.72, 2.57, 3.55, 2.14, 0.81]  Minimum:  608.29  Cost:  201.83\nIteration:  415  Variables:  [0.74, 0.9, 1.72, 2.57, 3.55, 2.14, 0.81]  Minimum:  608.29  Cost:  201.83\nIteration:  416  Variables:  [0.74, 0.9, 1.72, 2.57, 3.55, 2.14, 0.81]  Minimum:  608.29  Cost:  201.83\nIteration:  417  Variables:  [0.74, 0.9, 1.72, 2.57, 3.55, 2.14, 0.81]  Minimum:  608.29  Cost:  201.83\nIteration:  418  Variables:  [0.74, 0.9, 1.72, 2.57, 3.55, 2.14, 0.81]  Minimum:  608.29  Cost:  201.83\n"
     ]
    },
    {
     "name": "stdout",
     "output_type": "stream",
     "text": [
      "Iteration:  419  Variables:  [0.74, 0.9, 1.72, 2.57, 3.55, 2.14, 0.81]  Minimum:  608.29  Cost:  201.83\nIteration:  420  Variables:  [0.74, 0.9, 1.72, 2.57, 3.55, 2.14, 0.82]  Minimum:  608.52  Cost:  200.99\nIteration:  421  Variables:  [0.74, 0.9, 1.72, 2.57, 3.55, 2.14, 0.82]  Minimum:  608.52  Cost:  200.99\nIteration:  422  Variables:  [0.74, 0.9, 1.72, 2.57, 3.55, 2.14, 0.82]  Minimum:  608.52  Cost:  200.99\nIteration:  423  Variables:  [0.74, 0.9, 1.72, 2.57, 3.55, 2.14, 0.82]  Minimum:  608.52  Cost:  200.99\nIteration:  424  Variables:  [0.74, 0.9, 1.72, 2.57, 3.55, 2.14, 0.82]  Minimum:  608.52  Cost:  200.99\nIteration:  425  Variables:  [0.74, 0.9, 1.72, 2.57, 3.55, 2.14, 0.82]  Minimum:  608.52  Cost:  200.99\nIteration:  426  Variables:  [0.74, 0.9, 1.72, 2.57, 3.55, 2.14, 0.82]  Minimum:  608.52  Cost:  200.99\nIteration:  427  Variables:  [0.74, 0.9, 1.72, 2.57, 3.55, 2.14, 0.82]  Minimum:  608.52  Cost:  200.99\nIteration:  428  Variables:  [0.74, 0.9, 1.72, 2.57, 3.55, 2.14, 0.82]  Minimum:  608.52  Cost:  200.99\n"
     ]
    },
    {
     "name": "stdout",
     "output_type": "stream",
     "text": [
      "Iteration:  429  Variables:  [0.74, 0.9, 1.72, 2.57, 3.55, 2.14, 0.82]  Minimum:  608.52  Cost:  200.99\nIteration:  430  Variables:  [0.74, 0.9, 1.72, 2.57, 3.55, 2.14, 0.82]  Minimum:  608.52  Cost:  200.99\nIteration:  431  Variables:  [0.74, 0.9, 1.72, 2.57, 3.55, 2.14, 0.82]  Minimum:  608.52  Cost:  200.99\nIteration:  432  Variables:  [0.74, 0.9, 1.72, 2.57, 3.55, 2.14, 0.82]  Minimum:  608.52  Cost:  200.99\nIteration:  433  Variables:  [0.74, 0.9, 1.72, 2.57, 3.55, 2.14, 0.82]  Minimum:  608.52  Cost:  200.99\nIteration:  434  Variables:  [0.74, 0.9, 1.72, 2.57, 3.55, 2.14, 0.82]  Minimum:  608.52  Cost:  200.99\nIteration:  435  Variables:  [0.74, 0.9, 1.72, 2.57, 3.55, 2.14, 0.83]  Minimum:  608.76  Cost:  200.19\nIteration:  436  Variables:  [0.74, 0.9, 1.72, 2.57, 3.55, 2.14, 0.83]  Minimum:  608.76  Cost:  200.19\nIteration:  437  Variables:  [0.74, 0.9, 1.72, 2.57, 3.55, 2.14, 0.83]  Minimum:  608.76  Cost:  200.19\n"
     ]
    },
    {
     "name": "stdout",
     "output_type": "stream",
     "text": [
      "Iteration:  438  Variables:  [0.74, 0.9, 1.72, 2.57, 3.55, 2.14, 0.83]  Minimum:  608.76  Cost:  200.19\nIteration:  439  Variables:  [0.74, 0.9, 1.72, 2.57, 3.55, 2.14, 0.83]  Minimum:  608.76  Cost:  200.19\nIteration:  440  Variables:  [0.74, 0.9, 1.72, 2.57, 3.55, 2.14, 0.83]  Minimum:  608.76  Cost:  200.19\nIteration:  441  Variables:  [0.74, 0.9, 1.72, 2.57, 3.55, 2.14, 0.83]  Minimum:  608.76  Cost:  200.19\nIteration:  442  Variables:  [0.74, 0.9, 1.72, 2.57, 3.55, 2.14, 0.83]  Minimum:  608.76  Cost:  200.19\nIteration:  443  Variables:  [0.74, 0.9, 1.72, 2.57, 3.55, 2.14, 0.83]  Minimum:  608.76  Cost:  200.19\nIteration:  444  Variables:  [0.74, 0.9, 1.72, 2.57, 3.55, 2.14, 0.83]  Minimum:  608.76  Cost:  200.19\nIteration:  445  Variables:  [0.74, 0.9, 1.72, 2.57, 3.55, 2.14, 0.83]  Minimum:  608.76  Cost:  200.19\nIteration:  446  Variables:  [0.74, 0.9, 1.72, 2.57, 3.55, 2.14, 0.83]  Minimum:  608.76  Cost:  200.19\nIteration:  447  Variables:  [0.74, 0.9, 1.72, 2.57, 3.55, 2.14, 0.83]  Minimum:  608.76  Cost:  200.19\n"
     ]
    },
    {
     "name": "stdout",
     "output_type": "stream",
     "text": [
      "Iteration:  448  Variables:  [0.74, 0.9, 1.72, 2.57, 3.55, 2.14, 0.83]  Minimum:  608.76  Cost:  200.19\nIteration:  449  Variables:  [0.74, 0.9, 1.72, 2.57, 3.55, 2.14, 0.83]  Minimum:  608.76  Cost:  200.19\nIteration:  450  Variables:  [0.73, 0.9, 1.72, 2.57, 3.55, 2.14, 0.84]  Minimum:  608.99  Cost:  199.44\nIteration:  451  Variables:  [0.73, 0.9, 1.72, 2.57, 3.55, 2.14, 0.84]  Minimum:  608.99  Cost:  199.44\nIteration:  452  Variables:  [0.73, 0.9, 1.72, 2.57, 3.55, 2.14, 0.84]  Minimum:  608.99  Cost:  199.44\nIteration:  453  Variables:  [0.73, 0.9, 1.72, 2.57, 3.55, 2.14, 0.84]  Minimum:  608.99  Cost:  199.44\nIteration:  454  Variables:  [0.73, 0.9, 1.72, 2.57, 3.55, 2.14, 0.84]  Minimum:  608.99  Cost:  199.44\nIteration:  455  Variables:  [0.73, 0.9, 1.72, 2.57, 3.55, 2.14, 0.84]  Minimum:  608.99  Cost:  199.44\nIteration:  456  Variables:  [0.73, 0.9, 1.72, 2.57, 3.55, 2.14, 0.84]  Minimum:  608.99  Cost:  199.44\nIteration:  457  Variables:  [0.73, 0.9, 1.72, 2.57, 3.55, 2.14, 0.84]  Minimum:  608.99  Cost:  199.44\n"
     ]
    },
    {
     "name": "stdout",
     "output_type": "stream",
     "text": [
      "Iteration:  458  Variables:  [0.73, 0.9, 1.72, 2.57, 3.55, 2.14, 0.84]  Minimum:  608.99  Cost:  199.44\nIteration:  459  Variables:  [0.73, 0.9, 1.72, 2.57, 3.55, 2.14, 0.84]  Minimum:  608.99  Cost:  199.44\nIteration:  460  Variables:  [0.73, 0.9, 1.72, 2.57, 3.55, 2.14, 0.84]  Minimum:  608.99  Cost:  199.44\nIteration:  461  Variables:  [0.73, 0.9, 1.72, 2.57, 3.55, 2.14, 0.84]  Minimum:  608.99  Cost:  199.44\nIteration:  462  Variables:  [0.73, 0.9, 1.72, 2.57, 3.55, 2.14, 0.84]  Minimum:  608.99  Cost:  199.44\nIteration:  463  Variables:  [0.73, 0.9, 1.72, 2.57, 3.55, 2.14, 0.84]  Minimum:  608.99  Cost:  199.44\nIteration:  464  Variables:  [0.73, 0.9, 1.72, 2.57, 3.55, 2.14, 0.84]  Minimum:  608.99  Cost:  199.44\nIteration:  465  Variables:  [0.73, 0.89, 1.72, 2.57, 3.55, 2.14, 0.84]  Minimum:  609.23  Cost:  198.72\nIteration:  466  Variables:  [0.73, 0.89, 1.72, 2.57, 3.55, 2.14, 0.84]  Minimum:  609.23  Cost:  198.72\nIteration:  467  Variables:  [0.73, 0.89, 1.72, 2.57, 3.55, 2.14, 0.84]  Minimum:  609.23  Cost:  198.72\n"
     ]
    },
    {
     "name": "stdout",
     "output_type": "stream",
     "text": [
      "Iteration:  468  Variables:  [0.73, 0.89, 1.72, 2.57, 3.55, 2.14, 0.84]  Minimum:  609.23  Cost:  198.72\nIteration:  469  Variables:  [0.73, 0.89, 1.72, 2.57, 3.55, 2.14, 0.84]  Minimum:  609.23  Cost:  198.72\nIteration:  470  Variables:  [0.73, 0.89, 1.72, 2.57, 3.55, 2.14, 0.84]  Minimum:  609.23  Cost:  198.72\nIteration:  471  Variables:  [0.73, 0.89, 1.72, 2.57, 3.55, 2.14, 0.84]  Minimum:  609.23  Cost:  198.72\nIteration:  472  Variables:  [0.73, 0.89, 1.72, 2.57, 3.55, 2.14, 0.84]  Minimum:  609.23  Cost:  198.72\nIteration:  473  Variables:  [0.73, 0.89, 1.72, 2.57, 3.55, 2.14, 0.84]  Minimum:  609.23  Cost:  198.72\nIteration:  474  Variables:  [0.73, 0.89, 1.72, 2.57, 3.55, 2.14, 0.84]  Minimum:  609.23  Cost:  198.72\nIteration:  475  Variables:  [0.73, 0.89, 1.72, 2.57, 3.55, 2.14, 0.84]  Minimum:  609.23  Cost:  198.72\nIteration:  476  Variables:  [0.73, 0.89, 1.72, 2.57, 3.55, 2.14, 0.84]  Minimum:  609.23  Cost:  198.72\nIteration:  477  Variables:  [0.73, 0.89, 1.72, 2.57, 3.55, 2.14, 0.84]  Minimum:  609.23  Cost:  198.72\n"
     ]
    },
    {
     "name": "stdout",
     "output_type": "stream",
     "text": [
      "Iteration:  478  Variables:  [0.73, 0.89, 1.72, 2.57, 3.55, 2.14, 0.84]  Minimum:  609.23  Cost:  198.72\nIteration:  479  Variables:  [0.73, 0.89, 1.72, 2.57, 3.55, 2.14, 0.84]  Minimum:  609.23  Cost:  198.72\nIteration:  480  Variables:  [0.73, 0.89, 1.72, 2.56, 3.55, 2.13, 0.85]  Minimum:  609.47  Cost:  198.04\nIteration:  481  Variables:  [0.73, 0.89, 1.72, 2.56, 3.55, 2.13, 0.85]  Minimum:  609.47  Cost:  198.04\nIteration:  482  Variables:  [0.73, 0.89, 1.72, 2.56, 3.55, 2.13, 0.85]  Minimum:  609.47  Cost:  198.04\nIteration:  483  Variables:  [0.73, 0.89, 1.72, 2.56, 3.55, 2.13, 0.85]  Minimum:  609.47  Cost:  198.04\nIteration:  484  Variables:  [0.73, 0.89, 1.72, 2.56, 3.55, 2.13, 0.85]  Minimum:  609.47  Cost:  198.04\nIteration:  485  Variables:  [0.73, 0.89, 1.72, 2.56, 3.55, 2.13, 0.85]  Minimum:  609.47  Cost:  198.04\n"
     ]
    },
    {
     "name": "stdout",
     "output_type": "stream",
     "text": [
      "Iteration:  486  Variables:  [0.73, 0.89, 1.72, 2.56, 3.55, 2.13, 0.85]  Minimum:  609.47  Cost:  198.04\nIteration:  487  Variables:  [0.73, 0.89, 1.72, 2.56, 3.55, 2.13, 0.85]  Minimum:  609.47  Cost:  198.04\nIteration:  488  Variables:  [0.73, 0.89, 1.72, 2.56, 3.55, 2.13, 0.85]  Minimum:  609.47  Cost:  198.04\nIteration:  489  Variables:  [0.73, 0.89, 1.72, 2.56, 3.55, 2.13, 0.85]  Minimum:  609.47  Cost:  198.04\nIteration:  490  Variables:  [0.73, 0.89, 1.72, 2.56, 3.55, 2.13, 0.85]  Minimum:  609.47  Cost:  198.04\nIteration:  491  Variables:  [0.73, 0.89, 1.72, 2.56, 3.55, 2.13, 0.85]  Minimum:  609.47  Cost:  198.04\nIteration:  492  Variables:  [0.73, 0.89, 1.72, 2.56, 3.55, 2.13, 0.85]  Minimum:  609.47  Cost:  198.04\nIteration:  493  Variables:  [0.73, 0.89, 1.72, 2.56, 3.55, 2.13, 0.85]  Minimum:  609.47  Cost:  198.04\nIteration:  494  Variables:  [0.73, 0.89, 1.72, 2.56, 3.55, 2.13, 0.85]  Minimum:  609.47  Cost:  198.04\n"
     ]
    },
    {
     "name": "stdout",
     "output_type": "stream",
     "text": [
      "Iteration:  495  Variables:  [0.73, 0.89, 1.72, 2.56, 3.55, 2.13, 0.86]  Minimum:  609.71  Cost:  197.39\nIteration:  496  Variables:  [0.73, 0.89, 1.72, 2.56, 3.55, 2.13, 0.86]  Minimum:  609.71  Cost:  197.39\nIteration:  497  Variables:  [0.73, 0.89, 1.72, 2.56, 3.55, 2.13, 0.86]  Minimum:  609.71  Cost:  197.39\nIteration:  498  Variables:  [0.73, 0.89, 1.72, 2.56, 3.55, 2.13, 0.86]  Minimum:  609.71  Cost:  197.39\nIteration:  499  Variables:  [0.73, 0.89, 1.72, 2.56, 3.55, 2.13, 0.86]  Minimum:  609.71  Cost:  197.39\nIteration:  500  Variables:  [0.73, 0.89, 1.72, 2.56, 3.55, 2.13, 0.86]  Minimum:  609.71  Cost:  197.39\nIteration:  501  Variables:  [0.73, 0.89, 1.72, 2.56, 3.55, 2.13, 0.86]  Minimum:  609.71  Cost:  197.39\nIteration:  502  Variables:  [0.73, 0.89, 1.72, 2.56, 3.55, 2.13, 0.86]  Minimum:  609.71  Cost:  197.39\nIteration:  503  Variables:  [0.73, 0.89, 1.72, 2.56, 3.55, 2.13, 0.86]  Minimum:  609.71  Cost:  197.39\nIteration:  504  Variables:  [0.73, 0.89, 1.72, 2.56, 3.55, 2.13, 0.86]  Minimum:  609.71  Cost:  197.39\n"
     ]
    },
    {
     "name": "stdout",
     "output_type": "stream",
     "text": [
      "Iteration:  505  Variables:  [0.73, 0.89, 1.72, 2.56, 3.55, 2.13, 0.86]  Minimum:  609.71  Cost:  197.39\nIteration:  506  Variables:  [0.73, 0.89, 1.72, 2.56, 3.55, 2.13, 0.86]  Minimum:  609.71  Cost:  197.39\nIteration:  507  Variables:  [0.73, 0.89, 1.72, 2.56, 3.55, 2.13, 0.86]  Minimum:  609.71  Cost:  197.39\nIteration:  508  Variables:  [0.73, 0.89, 1.72, 2.56, 3.55, 2.13, 0.86]  Minimum:  609.71  Cost:  197.39\nIteration:  509  Variables:  [0.73, 0.89, 1.72, 2.56, 3.55, 2.13, 0.86]  Minimum:  609.71  Cost:  197.39\nIteration:  510  Variables:  [0.73, 0.89, 1.72, 2.56, 3.55, 2.13, 0.87]  Minimum:  609.95  Cost:  196.77\nIteration:  511  Variables:  [0.73, 0.89, 1.72, 2.56, 3.55, 2.13, 0.87]  Minimum:  609.95  Cost:  196.77\nIteration:  512  Variables:  [0.73, 0.89, 1.72, 2.56, 3.55, 2.13, 0.87]  Minimum:  609.95  Cost:  196.77\nIteration:  513  Variables:  [0.73, 0.89, 1.72, 2.56, 3.55, 2.13, 0.87]  Minimum:  609.95  Cost:  196.77\nIteration:  514  Variables:  [0.73, 0.89, 1.72, 2.56, 3.55, 2.13, 0.87]  Minimum:  609.95  Cost:  196.77\n"
     ]
    },
    {
     "name": "stdout",
     "output_type": "stream",
     "text": [
      "Iteration:  515  Variables:  [0.73, 0.89, 1.72, 2.56, 3.55, 2.13, 0.87]  Minimum:  609.95  Cost:  196.77\nIteration:  516  Variables:  [0.73, 0.89, 1.72, 2.56, 3.55, 2.13, 0.87]  Minimum:  609.95  Cost:  196.77\nIteration:  517  Variables:  [0.73, 0.89, 1.72, 2.56, 3.55, 2.13, 0.87]  Minimum:  609.95  Cost:  196.77\nIteration:  518  Variables:  [0.73, 0.89, 1.72, 2.56, 3.55, 2.13, 0.87]  Minimum:  609.95  Cost:  196.77\nIteration:  519  Variables:  [0.73, 0.89, 1.72, 2.56, 3.55, 2.13, 0.87]  Minimum:  609.95  Cost:  196.77\nIteration:  520  Variables:  [0.73, 0.89, 1.72, 2.56, 3.55, 2.13, 0.87]  Minimum:  609.95  Cost:  196.77\nIteration:  521  Variables:  [0.73, 0.89, 1.72, 2.56, 3.55, 2.13, 0.87]  Minimum:  609.95  Cost:  196.77\nIteration:  522  Variables:  [0.73, 0.89, 1.72, 2.56, 3.55, 2.13, 0.87]  Minimum:  609.94  Cost:  196.77\nIteration:  523  Variables:  [0.73, 0.89, 1.72, 2.56, 3.55, 2.13, 0.87]  Minimum:  609.95  Cost:  196.77\nIteration:  524  Variables:  [0.73, 0.89, 1.72, 2.56, 3.55, 2.13, 0.87]  Minimum:  609.95  Cost:  196.77\n"
     ]
    },
    {
     "name": "stdout",
     "output_type": "stream",
     "text": [
      "Iteration:  525  Variables:  [0.73, 0.89, 1.72, 2.56, 3.55, 2.13, 0.88]  Minimum:  610.19  Cost:  196.18\nIteration:  526  Variables:  [0.73, 0.89, 1.72, 2.56, 3.55, 2.13, 0.88]  Minimum:  610.19  Cost:  196.18\nIteration:  527  Variables:  [0.73, 0.89, 1.72, 2.56, 3.55, 2.13, 0.88]  Minimum:  610.19  Cost:  196.18\nIteration:  528  Variables:  [0.73, 0.89, 1.72, 2.56, 3.55, 2.13, 0.88]  Minimum:  610.19  Cost:  196.18\nIteration:  529  Variables:  [0.73, 0.89, 1.72, 2.56, 3.55, 2.13, 0.88]  Minimum:  610.19  Cost:  196.18\nIteration:  530  Variables:  [0.73, 0.89, 1.72, 2.56, 3.55, 2.13, 0.88]  Minimum:  610.19  Cost:  196.18\nIteration:  531  Variables:  [0.73, 0.89, 1.72, 2.56, 3.55, 2.13, 0.88]  Minimum:  610.19  Cost:  196.18\nIteration:  532  Variables:  [0.73, 0.89, 1.72, 2.56, 3.55, 2.13, 0.88]  Minimum:  610.19  Cost:  196.18\nIteration:  533  Variables:  [0.73, 0.89, 1.72, 2.56, 3.55, 2.13, 0.88]  Minimum:  610.19  Cost:  196.18\nIteration:  534  Variables:  [0.73, 0.89, 1.72, 2.56, 3.55, 2.13, 0.88]  Minimum:  610.19  Cost:  196.18\n"
     ]
    },
    {
     "name": "stdout",
     "output_type": "stream",
     "text": [
      "Iteration:  535  Variables:  [0.73, 0.89, 1.72, 2.56, 3.55, 2.13, 0.88]  Minimum:  610.19  Cost:  196.18\nIteration:  536  Variables:  [0.73, 0.89, 1.72, 2.56, 3.55, 2.13, 0.88]  Minimum:  610.19  Cost:  196.18\nIteration:  537  Variables:  [0.73, 0.89, 1.72, 2.56, 3.55, 2.13, 0.88]  Minimum:  610.19  Cost:  196.18\nIteration:  538  Variables:  [0.73, 0.89, 1.72, 2.56, 3.55, 2.13, 0.88]  Minimum:  610.19  Cost:  196.18\nIteration:  539  Variables:  [0.73, 0.89, 1.72, 2.56, 3.55, 2.13, 0.88]  Minimum:  610.19  Cost:  196.18\nIteration:  540  Variables:  [0.73, 0.89, 1.72, 2.56, 3.55, 2.13, 0.89]  Minimum:  610.43  Cost:  195.62\nIteration:  541  Variables:  [0.73, 0.89, 1.72, 2.56, 3.55, 2.13, 0.89]  Minimum:  610.43  Cost:  195.62\n"
     ]
    },
    {
     "name": "stdout",
     "output_type": "stream",
     "text": [
      "Iteration:  542  Variables:  [0.73, 0.89, 1.72, 2.56, 3.55, 2.13, 0.89]  Minimum:  610.43  Cost:  195.62\nIteration:  543  Variables:  [0.73, 0.89, 1.72, 2.56, 3.55, 2.13, 0.89]  Minimum:  610.43  Cost:  195.62\nIteration:  544  Variables:  [0.73, 0.89, 1.72, 2.56, 3.55, 2.13, 0.89]  Minimum:  610.43  Cost:  195.62\nIteration:  545  Variables:  [0.73, 0.89, 1.72, 2.56, 3.55, 2.13, 0.89]  Minimum:  610.43  Cost:  195.62\nIteration:  546  Variables:  [0.73, 0.89, 1.72, 2.56, 3.55, 2.13, 0.89]  Minimum:  610.43  Cost:  195.62\nIteration:  547  Variables:  [0.73, 0.89, 1.72, 2.56, 3.55, 2.13, 0.89]  Minimum:  610.43  Cost:  195.62\nIteration:  548  Variables:  [0.73, 0.89, 1.72, 2.56, 3.55, 2.13, 0.89]  Minimum:  610.43  Cost:  195.62\nIteration:  549  Variables:  [0.73, 0.89, 1.72, 2.56, 3.55, 2.13, 0.89]  Minimum:  610.43  Cost:  195.62\nIteration:  550  Variables:  [0.73, 0.89, 1.72, 2.56, 3.55, 2.13, 0.89]  Minimum:  610.43  Cost:  195.62\nIteration:  551  Variables:  [0.73, 0.89, 1.72, 2.56, 3.55, 2.13, 0.89]  Minimum:  610.43  Cost:  195.62\n"
     ]
    },
    {
     "name": "stdout",
     "output_type": "stream",
     "text": [
      "Iteration:  552  Variables:  [0.73, 0.89, 1.72, 2.56, 3.55, 2.13, 0.89]  Minimum:  610.43  Cost:  195.62\nIteration:  553  Variables:  [0.73, 0.89, 1.72, 2.56, 3.55, 2.13, 0.89]  Minimum:  610.43  Cost:  195.62\nIteration:  554  Variables:  [0.73, 0.89, 1.72, 2.56, 3.55, 2.13, 0.89]  Minimum:  610.43  Cost:  195.62\nIteration:  555  Variables:  [0.73, 0.89, 1.73, 2.55, 3.55, 2.12, 0.89]  Minimum:  610.67  Cost:  195.08\nIteration:  556  Variables:  [0.73, 0.89, 1.73, 2.55, 3.55, 2.12, 0.89]  Minimum:  610.67  Cost:  195.08\nIteration:  557  Variables:  [0.73, 0.89, 1.73, 2.55, 3.55, 2.12, 0.89]  Minimum:  610.67  Cost:  195.08\nIteration:  558  Variables:  [0.73, 0.89, 1.73, 2.55, 3.55, 2.12, 0.89]  Minimum:  610.67  Cost:  195.08\n"
     ]
    },
    {
     "name": "stdout",
     "output_type": "stream",
     "text": [
      "Iteration:  559  Variables:  [0.73, 0.89, 1.73, 2.55, 3.55, 2.12, 0.89]  Minimum:  610.67  Cost:  195.08\nIteration:  560  Variables:  [0.73, 0.89, 1.73, 2.55, 3.55, 2.12, 0.89]  Minimum:  610.67  Cost:  195.08\nIteration:  561  Variables:  [0.73, 0.89, 1.73, 2.55, 3.55, 2.12, 0.89]  Minimum:  610.67  Cost:  195.08\nIteration:  562  Variables:  [0.73, 0.89, 1.73, 2.55, 3.55, 2.12, 0.89]  Minimum:  610.67  Cost:  195.08\nIteration:  563  Variables:  [0.73, 0.89, 1.73, 2.55, 3.55, 2.12, 0.89]  Minimum:  610.67  Cost:  195.08\nIteration:  564  Variables:  [0.73, 0.89, 1.73, 2.55, 3.55, 2.12, 0.89]  Minimum:  610.67  Cost:  195.08\nIteration:  565  Variables:  [0.73, 0.89, 1.73, 2.55, 3.55, 2.12, 0.89]  Minimum:  610.67  Cost:  195.08\nIteration:  566  Variables:  [0.73, 0.89, 1.73, 2.55, 3.55, 2.12, 0.89]  Minimum:  610.67  Cost:  195.08\nIteration:  567  Variables:  [0.73, 0.89, 1.73, 2.55, 3.55, 2.12, 0.89]  Minimum:  610.67  Cost:  195.08\nIteration:  568  Variables:  [0.73, 0.89, 1.73, 2.55, 3.55, 2.12, 0.89]  Minimum:  610.67  Cost:  195.08\n"
     ]
    },
    {
     "name": "stdout",
     "output_type": "stream",
     "text": [
      "Iteration:  569  Variables:  [0.73, 0.89, 1.73, 2.55, 3.55, 2.12, 0.89]  Minimum:  610.67  Cost:  195.08\nIteration:  570  Variables:  [0.73, 0.89, 1.73, 2.55, 3.55, 2.12, 0.9]  Minimum:  610.91  Cost:  194.56\nIteration:  571  Variables:  [0.73, 0.89, 1.73, 2.55, 3.55, 2.12, 0.9]  Minimum:  610.91  Cost:  194.56\nIteration:  572  Variables:  [0.73, 0.89, 1.73, 2.55, 3.55, 2.12, 0.9]  Minimum:  610.91  Cost:  194.56\nIteration:  573  Variables:  [0.73, 0.89, 1.73, 2.55, 3.55, 2.12, 0.9]  Minimum:  610.91  Cost:  194.56\nIteration:  574  Variables:  [0.73, 0.89, 1.73, 2.55, 3.55, 2.12, 0.9]  Minimum:  610.91  Cost:  194.56\nIteration:  575  Variables:  [0.73, 0.89, 1.73, 2.55, 3.55, 2.12, 0.9]  Minimum:  610.91  Cost:  194.56\nIteration:  576  Variables:  [0.73, 0.89, 1.73, 2.55, 3.55, 2.12, 0.9]  Minimum:  610.91  Cost:  194.56\nIteration:  577  Variables:  [0.73, 0.89, 1.73, 2.55, 3.55, 2.12, 0.9]  Minimum:  610.91  Cost:  194.56\nIteration:  578  Variables:  [0.73, 0.89, 1.73, 2.55, 3.55, 2.12, 0.9]  Minimum:  610.91  Cost:  194.56\n"
     ]
    },
    {
     "name": "stdout",
     "output_type": "stream",
     "text": [
      "Iteration:  579  Variables:  [0.73, 0.89, 1.73, 2.55, 3.55, 2.12, 0.9]  Minimum:  610.91  Cost:  194.56\nIteration:  580  Variables:  [0.73, 0.89, 1.73, 2.55, 3.55, 2.12, 0.9]  Minimum:  610.91  Cost:  194.56\nIteration:  581  Variables:  [0.73, 0.89, 1.73, 2.55, 3.55, 2.12, 0.9]  Minimum:  610.91  Cost:  194.56\nIteration:  582  Variables:  [0.73, 0.89, 1.73, 2.55, 3.55, 2.12, 0.9]  Minimum:  610.91  Cost:  194.56\nIteration:  583  Variables:  [0.73, 0.89, 1.73, 2.55, 3.55, 2.12, 0.9]  Minimum:  610.91  Cost:  194.56\nIteration:  584  Variables:  [0.73, 0.89, 1.73, 2.55, 3.55, 2.12, 0.9]  Minimum:  610.91  Cost:  194.56\nIteration:  585  Variables:  [0.73, 0.88, 1.73, 2.55, 3.55, 2.12, 0.91]  Minimum:  611.16  Cost:  194.07\nIteration:  586  Variables:  [0.73, 0.88, 1.73, 2.55, 3.55, 2.12, 0.91]  Minimum:  611.16  Cost:  194.07\nIteration:  587  Variables:  [0.73, 0.88, 1.73, 2.55, 3.55, 2.12, 0.91]  Minimum:  611.16  Cost:  194.07\nIteration:  588  Variables:  [0.73, 0.88, 1.73, 2.55, 3.55, 2.12, 0.91]  Minimum:  611.16  Cost:  194.07\n"
     ]
    },
    {
     "name": "stdout",
     "output_type": "stream",
     "text": [
      "Iteration:  589  Variables:  [0.73, 0.88, 1.73, 2.55, 3.55, 2.12, 0.91]  Minimum:  611.16  Cost:  194.07\nIteration:  590  Variables:  [0.73, 0.88, 1.73, 2.55, 3.55, 2.12, 0.91]  Minimum:  611.16  Cost:  194.07\nIteration:  591  Variables:  [0.73, 0.88, 1.73, 2.55, 3.55, 2.12, 0.91]  Minimum:  611.16  Cost:  194.07\nIteration:  592  Variables:  [0.73, 0.88, 1.73, 2.55, 3.55, 2.12, 0.91]  Minimum:  611.16  Cost:  194.07\nIteration:  593  Variables:  [0.73, 0.88, 1.73, 2.55, 3.55, 2.12, 0.91]  Minimum:  611.16  Cost:  194.07\nIteration:  594  Variables:  [0.73, 0.88, 1.73, 2.55, 3.55, 2.12, 0.91]  Minimum:  611.16  Cost:  194.07\nIteration:  595  Variables:  [0.73, 0.88, 1.73, 2.55, 3.55, 2.12, 0.91]  Minimum:  611.16  Cost:  194.07\nIteration:  596  Variables:  [0.73, 0.88, 1.73, 2.55, 3.55, 2.12, 0.91]  Minimum:  611.16  Cost:  194.07\nIteration:  597  Variables:  [0.73, 0.88, 1.73, 2.55, 3.55, 2.12, 0.91]  Minimum:  611.16  Cost:  194.07\nIteration:  598  Variables:  [0.73, 0.88, 1.73, 2.55, 3.55, 2.12, 0.91]  Minimum:  611.16  Cost:  194.07\n"
     ]
    },
    {
     "name": "stdout",
     "output_type": "stream",
     "text": [
      "Iteration:  599  Variables:  [0.73, 0.88, 1.73, 2.55, 3.55, 2.12, 0.91]  Minimum:  611.16  Cost:  194.07\nIteration:  600  Variables:  [0.73, 0.88, 1.73, 2.55, 3.55, 2.12, 0.91]  Minimum:  611.4  Cost:  193.6\nIteration:  601  Variables:  [0.73, 0.88, 1.73, 2.55, 3.55, 2.12, 0.91]  Minimum:  611.4  Cost:  193.6\nIteration:  602  Variables:  [0.73, 0.88, 1.73, 2.55, 3.55, 2.12, 0.91]  Minimum:  611.4  Cost:  193.6\nIteration:  603  Variables:  [0.73, 0.88, 1.73, 2.55, 3.55, 2.12, 0.91]  Minimum:  611.4  Cost:  193.6\nIteration:  604  Variables:  [0.73, 0.88, 1.73, 2.55, 3.55, 2.12, 0.91]  Minimum:  611.4  Cost:  193.6\nIteration:  605  Variables:  [0.73, 0.88, 1.73, 2.55, 3.55, 2.12, 0.91]  Minimum:  611.4  Cost:  193.6\nIteration:  606  Variables:  [0.73, 0.88, 1.73, 2.55, 3.55, 2.12, 0.91]  Minimum:  611.4  Cost:  193.6\nIteration:  607  Variables:  [0.73, 0.88, 1.73, 2.55, 3.55, 2.12, 0.91]  Minimum:  611.4  Cost:  193.6\nIteration:  608  Variables:  [0.73, 0.88, 1.73, 2.55, 3.55, 2.12, 0.91]  Minimum:  611.4  Cost:  193.6\n"
     ]
    },
    {
     "name": "stdout",
     "output_type": "stream",
     "text": [
      "Iteration:  609  Variables:  [0.73, 0.88, 1.73, 2.55, 3.55, 2.12, 0.91]  Minimum:  611.4  Cost:  193.6\nIteration:  610  Variables:  [0.73, 0.88, 1.73, 2.55, 3.55, 2.12, 0.91]  Minimum:  611.4  Cost:  193.6\nIteration:  611  Variables:  [0.73, 0.88, 1.73, 2.55, 3.55, 2.12, 0.91]  Minimum:  611.4  Cost:  193.6\nIteration:  612  Variables:  [0.73, 0.88, 1.73, 2.55, 3.55, 2.12, 0.91]  Minimum:  611.4  Cost:  193.6\nIteration:  613  Variables:  [0.73, 0.88, 1.73, 2.55, 3.55, 2.12, 0.91]  Minimum:  611.4  Cost:  193.6\nIteration:  614  Variables:  [0.73, 0.88, 1.73, 2.55, 3.55, 2.12, 0.91]  Minimum:  611.4  Cost:  193.6\nIteration:  615  Variables:  [0.73, 0.88, 1.73, 2.55, 3.55, 2.11, 0.92]  Minimum:  611.65  Cost:  193.15\nIteration:  616  Variables:  [0.73, 0.88, 1.73, 2.55, 3.55, 2.11, 0.92]  Minimum:  611.65  Cost:  193.15\nIteration:  617  Variables:  [0.73, 0.88, 1.73, 2.55, 3.55, 2.11, 0.92]  Minimum:  611.65  Cost:  193.15\nIteration:  618  Variables:  [0.73, 0.88, 1.73, 2.55, 3.55, 2.11, 0.92]  Minimum:  611.65  Cost:  193.15\n"
     ]
    },
    {
     "name": "stdout",
     "output_type": "stream",
     "text": [
      "Iteration:  619  Variables:  [0.73, 0.88, 1.73, 2.55, 3.55, 2.11, 0.92]  Minimum:  611.65  Cost:  193.15\nIteration:  620  Variables:  [0.73, 0.88, 1.73, 2.55, 3.55, 2.11, 0.92]  Minimum:  611.65  Cost:  193.15\nIteration:  621  Variables:  [0.73, 0.88, 1.73, 2.55, 3.55, 2.11, 0.92]  Minimum:  611.65  Cost:  193.15\nIteration:  622  Variables:  [0.73, 0.88, 1.73, 2.55, 3.55, 2.11, 0.92]  Minimum:  611.65  Cost:  193.15\nIteration:  623  Variables:  [0.73, 0.88, 1.73, 2.55, 3.55, 2.11, 0.92]  Minimum:  611.65  Cost:  193.15\nIteration:  624  Variables:  [0.73, 0.88, 1.73, 2.55, 3.55, 2.11, 0.92]  Minimum:  611.65  Cost:  193.15\nIteration:  625  Variables:  [0.73, 0.88, 1.73, 2.55, 3.56, 2.11, 0.92]  Minimum:  611.65  Cost:  193.15\nIteration:  626  Variables:  [0.73, 0.88, 1.73, 2.55, 3.55, 2.11, 0.92]  Minimum:  611.65  Cost:  193.15\nIteration:  627  Variables:  [0.73, 0.88, 1.73, 2.55, 3.55, 2.11, 0.92]  Minimum:  611.65  Cost:  193.15\nIteration:  628  Variables:  [0.73, 0.88, 1.73, 2.55, 3.55, 2.11, 0.92]  Minimum:  611.65  Cost:  193.15\n"
     ]
    },
    {
     "name": "stdout",
     "output_type": "stream",
     "text": [
      "Iteration:  629  Variables:  [0.73, 0.88, 1.73, 2.55, 3.55, 2.11, 0.92]  Minimum:  611.65  Cost:  193.15\nIteration:  630  Variables:  [0.73, 0.88, 1.73, 2.55, 3.56, 2.11, 0.93]  Minimum:  611.89  Cost:  192.71\nIteration:  631  Variables:  [0.73, 0.88, 1.73, 2.55, 3.56, 2.11, 0.93]  Minimum:  611.89  Cost:  192.71\nIteration:  632  Variables:  [0.73, 0.88, 1.73, 2.55, 3.56, 2.11, 0.93]  Minimum:  611.89  Cost:  192.71\nIteration:  633  Variables:  [0.73, 0.88, 1.73, 2.55, 3.56, 2.11, 0.93]  Minimum:  611.89  Cost:  192.71\nIteration:  634  Variables:  [0.73, 0.88, 1.73, 2.55, 3.56, 2.11, 0.93]  Minimum:  611.89  Cost:  192.71\nIteration:  635  Variables:  [0.73, 0.88, 1.73, 2.55, 3.56, 2.11, 0.93]  Minimum:  611.89  Cost:  192.71\nIteration:  636  Variables:  [0.73, 0.88, 1.73, 2.55, 3.56, 2.11, 0.93]  Minimum:  611.89  Cost:  192.71\nIteration:  637  Variables:  [0.73, 0.88, 1.73, 2.55, 3.56, 2.11, 0.93]  Minimum:  611.89  Cost:  192.71\nIteration:  638  Variables:  [0.73, 0.88, 1.73, 2.55, 3.56, 2.11, 0.93]  Minimum:  611.89  Cost:  192.71\n"
     ]
    },
    {
     "name": "stdout",
     "output_type": "stream",
     "text": [
      "Iteration:  639  Variables:  [0.73, 0.88, 1.73, 2.55, 3.56, 2.11, 0.93]  Minimum:  611.89  Cost:  192.71\nIteration:  640  Variables:  [0.73, 0.88, 1.73, 2.55, 3.56, 2.11, 0.93]  Minimum:  611.89  Cost:  192.71\nIteration:  641  Variables:  [0.73, 0.88, 1.73, 2.55, 3.56, 2.11, 0.93]  Minimum:  611.89  Cost:  192.71\nIteration:  642  Variables:  [0.73, 0.88, 1.73, 2.55, 3.56, 2.11, 0.93]  Minimum:  611.89  Cost:  192.71\nIteration:  643  Variables:  [0.73, 0.88, 1.73, 2.55, 3.56, 2.11, 0.93]  Minimum:  611.89  Cost:  192.71\nIteration:  644  Variables:  [0.73, 0.88, 1.73, 2.55, 3.56, 2.11, 0.93]  Minimum:  611.89  Cost:  192.71\nIteration:  645  Variables:  [0.73, 0.88, 1.73, 2.54, 3.56, 2.11, 0.93]  Minimum:  612.14  Cost:  192.3\nIteration:  646  Variables:  [0.73, 0.88, 1.73, 2.54, 3.56, 2.11, 0.93]  Minimum:  612.14  Cost:  192.3\nIteration:  647  Variables:  [0.73, 0.88, 1.73, 2.54, 3.56, 2.11, 0.93]  Minimum:  612.14  Cost:  192.3\nIteration:  648  Variables:  [0.73, 0.88, 1.73, 2.54, 3.56, 2.11, 0.93]  Minimum:  612.14  Cost:  192.3\n"
     ]
    },
    {
     "name": "stdout",
     "output_type": "stream",
     "text": [
      "Iteration:  649  Variables:  [0.73, 0.88, 1.73, 2.54, 3.56, 2.11, 0.93]  Minimum:  612.14  Cost:  192.3\nIteration:  650  Variables:  [0.73, 0.88, 1.73, 2.54, 3.56, 2.11, 0.93]  Minimum:  612.14  Cost:  192.3\nIteration:  651  Variables:  [0.73, 0.88, 1.73, 2.54, 3.56, 2.11, 0.93]  Minimum:  612.14  Cost:  192.3\nIteration:  652  Variables:  [0.73, 0.88, 1.73, 2.54, 3.56, 2.11, 0.93]  Minimum:  612.14  Cost:  192.3\nIteration:  653  Variables:  [0.73, 0.88, 1.73, 2.54, 3.56, 2.11, 0.93]  Minimum:  612.14  Cost:  192.3\nIteration:  654  Variables:  [0.73, 0.88, 1.73, 2.54, 3.56, 2.11, 0.93]  Minimum:  612.14  Cost:  192.3\nIteration:  655  Variables:  [0.73, 0.88, 1.73, 2.54, 3.56, 2.11, 0.93]  Minimum:  612.14  Cost:  192.3\nIteration:  656  Variables:  [0.73, 0.88, 1.73, 2.54, 3.56, 2.11, 0.93]  Minimum:  612.14  Cost:  192.3\nIteration:  657  Variables:  [0.73, 0.88, 1.73, 2.54, 3.56, 2.11, 0.93]  Minimum:  612.14  Cost:  192.3\nIteration:  658  Variables:  [0.73, 0.88, 1.73, 2.54, 3.56, 2.11, 0.93]  Minimum:  612.14  Cost:  192.3\n"
     ]
    },
    {
     "name": "stdout",
     "output_type": "stream",
     "text": [
      "Iteration:  659  Variables:  [0.73, 0.88, 1.73, 2.54, 3.56, 2.11, 0.93]  Minimum:  612.14  Cost:  192.3\nIteration:  660  Variables:  [0.73, 0.88, 1.73, 2.54, 3.56, 2.11, 0.94]  Minimum:  612.39  Cost:  191.9\nIteration:  661  Variables:  [0.73, 0.88, 1.73, 2.54, 3.56, 2.11, 0.94]  Minimum:  612.39  Cost:  191.9\nIteration:  662  Variables:  [0.73, 0.88, 1.73, 2.54, 3.56, 2.11, 0.94]  Minimum:  612.39  Cost:  191.9\nIteration:  663  Variables:  [0.73, 0.88, 1.73, 2.54, 3.56, 2.11, 0.94]  Minimum:  612.39  Cost:  191.9\nIteration:  664  Variables:  [0.73, 0.88, 1.73, 2.54, 3.56, 2.11, 0.94]  Minimum:  612.39  Cost:  191.9\nIteration:  665  Variables:  [0.73, 0.88, 1.73, 2.54, 3.56, 2.11, 0.94]  Minimum:  612.39  Cost:  191.9\nIteration:  666  Variables:  [0.73, 0.88, 1.73, 2.54, 3.56, 2.11, 0.94]  Minimum:  612.39  Cost:  191.9\nIteration:  667  Variables:  [0.73, 0.88, 1.73, 2.54, 3.56, 2.11, 0.94]  Minimum:  612.39  Cost:  191.9\nIteration:  668  Variables:  [0.73, 0.88, 1.73, 2.54, 3.56, 2.11, 0.94]  Minimum:  612.39  Cost:  191.9\n"
     ]
    },
    {
     "name": "stdout",
     "output_type": "stream",
     "text": [
      "Iteration:  669  Variables:  [0.73, 0.88, 1.73, 2.54, 3.56, 2.11, 0.94]  Minimum:  612.39  Cost:  191.9\nIteration:  670  Variables:  [0.73, 0.88, 1.73, 2.54, 3.56, 2.11, 0.94]  Minimum:  612.39  Cost:  191.9\nIteration:  671  Variables:  [0.73, 0.88, 1.73, 2.54, 3.56, 2.11, 0.94]  Minimum:  612.39  Cost:  191.9\nIteration:  672  Variables:  [0.73, 0.88, 1.73, 2.54, 3.56, 2.11, 0.94]  Minimum:  612.39  Cost:  191.9\nIteration:  673  Variables:  [0.73, 0.88, 1.73, 2.54, 3.56, 2.11, 0.94]  Minimum:  612.39  Cost:  191.9\nIteration:  674  Variables:  [0.73, 0.88, 1.73, 2.54, 3.56, 2.11, 0.94]  Minimum:  612.39  Cost:  191.9\nIteration:  675  Variables:  [0.73, 0.88, 1.73, 2.54, 3.56, 2.11, 0.95]  Minimum:  612.64  Cost:  191.52\nIteration:  676  Variables:  [0.73, 0.88, 1.73, 2.54, 3.56, 2.11, 0.95]  Minimum:  612.64  Cost:  191.52\nIteration:  677  Variables:  [0.73, 0.88, 1.73, 2.54, 3.56, 2.11, 0.95]  Minimum:  612.64  Cost:  191.52\nIteration:  678  Variables:  [0.73, 0.88, 1.73, 2.54, 3.56, 2.11, 0.95]  Minimum:  612.64  Cost:  191.52\n"
     ]
    },
    {
     "name": "stdout",
     "output_type": "stream",
     "text": [
      "Iteration:  679  Variables:  [0.73, 0.88, 1.73, 2.54, 3.56, 2.11, 0.95]  Minimum:  612.64  Cost:  191.52\nIteration:  680  Variables:  [0.73, 0.88, 1.73, 2.54, 3.56, 2.11, 0.95]  Minimum:  612.63  Cost:  191.52\nIteration:  681  Variables:  [0.73, 0.88, 1.73, 2.54, 3.56, 2.11, 0.95]  Minimum:  612.64  Cost:  191.52\nIteration:  682  Variables:  [0.73, 0.88, 1.73, 2.54, 3.56, 2.11, 0.95]  Minimum:  612.64  Cost:  191.52\nIteration:  683  Variables:  [0.73, 0.88, 1.73, 2.54, 3.56, 2.11, 0.95]  Minimum:  612.63  Cost:  191.52\nIteration:  684  Variables:  [0.73, 0.88, 1.73, 2.54, 3.56, 2.11, 0.95]  Minimum:  612.64  Cost:  191.52\nIteration:  685  Variables:  [0.73, 0.88, 1.73, 2.54, 3.56, 2.11, 0.95]  Minimum:  612.64  Cost:  191.52\nIteration:  686  Variables:  [0.73, 0.88, 1.73, 2.54, 3.56, 2.11, 0.95]  Minimum:  612.64  Cost:  191.52\nIteration:  687  Variables:  [0.73, 0.88, 1.73, 2.54, 3.56, 2.11, 0.95]  Minimum:  612.63  Cost:  191.52\nIteration:  688  Variables:  [0.73, 0.88, 1.73, 2.54, 3.56, 2.11, 0.95]  Minimum:  612.64  Cost:  191.52\n"
     ]
    },
    {
     "name": "stdout",
     "output_type": "stream",
     "text": [
      "Iteration:  689  Variables:  [0.73, 0.88, 1.73, 2.54, 3.56, 2.11, 0.95]  Minimum:  612.64  Cost:  191.52\nIteration:  690  Variables:  [0.73, 0.88, 1.73, 2.54, 3.56, 2.1, 0.95]  Minimum:  612.88  Cost:  191.15\nIteration:  691  Variables:  [0.73, 0.88, 1.73, 2.54, 3.56, 2.1, 0.95]  Minimum:  612.88  Cost:  191.15\nIteration:  692  Variables:  [0.73, 0.88, 1.73, 2.54, 3.56, 2.1, 0.95]  Minimum:  612.88  Cost:  191.15\nIteration:  693  Variables:  [0.73, 0.88, 1.73, 2.54, 3.56, 2.1, 0.95]  Minimum:  612.88  Cost:  191.15\nIteration:  694  Variables:  [0.73, 0.88, 1.73, 2.54, 3.56, 2.1, 0.95]  Minimum:  612.88  Cost:  191.15\nIteration:  695  Variables:  [0.73, 0.88, 1.73, 2.54, 3.56, 2.1, 0.95]  Minimum:  612.88  Cost:  191.15\nIteration:  696  Variables:  [0.73, 0.88, 1.73, 2.54, 3.56, 2.1, 0.95]  Minimum:  612.88  Cost:  191.15\nIteration:  697  Variables:  [0.73, 0.88, 1.73, 2.54, 3.56, 2.1, 0.95]  Minimum:  612.88  Cost:  191.15\nIteration:  698  Variables:  [0.73, 0.88, 1.73, 2.54, 3.56, 2.1, 0.95]  Minimum:  612.88  Cost:  191.15\n"
     ]
    },
    {
     "name": "stdout",
     "output_type": "stream",
     "text": [
      "Iteration:  699  Variables:  [0.73, 0.88, 1.73, 2.54, 3.56, 2.1, 0.95]  Minimum:  612.88  Cost:  191.15\nIteration:  700  Variables:  [0.73, 0.88, 1.73, 2.54, 3.56, 2.1, 0.95]  Minimum:  612.88  Cost:  191.15\nIteration:  701  Variables:  [0.73, 0.88, 1.73, 2.54, 3.56, 2.1, 0.95]  Minimum:  612.88  Cost:  191.15\nIteration:  702  Variables:  [0.73, 0.88, 1.73, 2.54, 3.56, 2.1, 0.95]  Minimum:  612.88  Cost:  191.15\nIteration:  703  Variables:  [0.73, 0.88, 1.73, 2.54, 3.56, 2.1, 0.95]  Minimum:  612.88  Cost:  191.15\nIteration:  704  Variables:  [0.73, 0.88, 1.73, 2.54, 3.56, 2.1, 0.95]  Minimum:  612.88  Cost:  191.15\nIteration:  705  Variables:  [0.73, 0.88, 1.73, 2.54, 3.56, 2.1, 0.96]  Minimum:  613.13  Cost:  190.81\nIteration:  706  Variables:  [0.73, 0.88, 1.73, 2.54, 3.56, 2.1, 0.96]  Minimum:  613.13  Cost:  190.81\nIteration:  707  Variables:  [0.73, 0.88, 1.73, 2.54, 3.56, 2.1, 0.96]  Minimum:  613.13  Cost:  190.81\nIteration:  708  Variables:  [0.73, 0.88, 1.73, 2.54, 3.56, 2.1, 0.96]  Minimum:  613.13  Cost:  190.81\n"
     ]
    },
    {
     "name": "stdout",
     "output_type": "stream",
     "text": [
      "Iteration:  709  Variables:  [0.73, 0.88, 1.73, 2.54, 3.56, 2.1, 0.96]  Minimum:  613.13  Cost:  190.81\nIteration:  710  Variables:  [0.73, 0.88, 1.73, 2.54, 3.56, 2.1, 0.96]  Minimum:  613.13  Cost:  190.81\nIteration:  711  Variables:  [0.73, 0.88, 1.73, 2.54, 3.56, 2.1, 0.96]  Minimum:  613.13  Cost:  190.81\nIteration:  712  Variables:  [0.73, 0.88, 1.73, 2.54, 3.56, 2.1, 0.96]  Minimum:  613.13  Cost:  190.81\nIteration:  713  Variables:  [0.73, 0.88, 1.73, 2.54, 3.56, 2.1, 0.96]  Minimum:  613.13  Cost:  190.81\nIteration:  714  Variables:  [0.73, 0.88, 1.73, 2.54, 3.56, 2.1, 0.96]  Minimum:  613.13  Cost:  190.81\nIteration:  715  Variables:  [0.73, 0.88, 1.73, 2.54, 3.56, 2.1, 0.96]  Minimum:  613.13  Cost:  190.81\nIteration:  716  Variables:  [0.73, 0.88, 1.73, 2.54, 3.56, 2.1, 0.96]  Minimum:  613.13  Cost:  190.81\nIteration:  717  Variables:  [0.73, 0.88, 1.73, 2.54, 3.56, 2.1, 0.96]  Minimum:  613.13  Cost:  190.81\nIteration:  718  Variables:  [0.73, 0.88, 1.73, 2.54, 3.56, 2.1, 0.96]  Minimum:  613.13  Cost:  190.81\n"
     ]
    },
    {
     "name": "stdout",
     "output_type": "stream",
     "text": [
      "Iteration:  719  Variables:  [0.73, 0.88, 1.73, 2.54, 3.56, 2.1, 0.96]  Minimum:  613.13  Cost:  190.81\nIteration:  720  Variables:  [0.73, 0.87, 1.73, 2.53, 3.56, 2.1, 0.96]  Minimum:  613.38  Cost:  190.48\nIteration:  721  Variables:  [0.73, 0.87, 1.73, 2.53, 3.56, 2.1, 0.96]  Minimum:  613.38  Cost:  190.48\nIteration:  722  Variables:  [0.73, 0.87, 1.73, 2.53, 3.56, 2.1, 0.96]  Minimum:  613.38  Cost:  190.48\nIteration:  723  Variables:  [0.73, 0.87, 1.73, 2.53, 3.56, 2.1, 0.96]  Minimum:  613.38  Cost:  190.48\nIteration:  724  Variables:  [0.73, 0.87, 1.73, 2.53, 3.56, 2.1, 0.96]  Minimum:  613.38  Cost:  190.48\nIteration:  725  Variables:  [0.73, 0.87, 1.73, 2.53, 3.56, 2.1, 0.96]  Minimum:  613.38  Cost:  190.48\nIteration:  726  Variables:  [0.73, 0.87, 1.73, 2.53, 3.56, 2.1, 0.96]  Minimum:  613.38  Cost:  190.48\nIteration:  727  Variables:  [0.73, 0.87, 1.73, 2.53, 3.56, 2.1, 0.96]  Minimum:  613.38  Cost:  190.48\n"
     ]
    },
    {
     "name": "stdout",
     "output_type": "stream",
     "text": [
      "Iteration:  728  Variables:  [0.73, 0.87, 1.73, 2.53, 3.56, 2.1, 0.96]  Minimum:  613.38  Cost:  190.48\nIteration:  729  Variables:  [0.73, 0.87, 1.73, 2.53, 3.56, 2.1, 0.96]  Minimum:  613.38  Cost:  190.48\nIteration:  730  Variables:  [0.73, 0.87, 1.73, 2.53, 3.56, 2.1, 0.96]  Minimum:  613.38  Cost:  190.48\nIteration:  731  Variables:  [0.73, 0.87, 1.73, 2.53, 3.56, 2.1, 0.96]  Minimum:  613.38  Cost:  190.48\nIteration:  732  Variables:  [0.73, 0.87, 1.73, 2.53, 3.56, 2.1, 0.96]  Minimum:  613.38  Cost:  190.48\nIteration:  733  Variables:  [0.73, 0.87, 1.73, 2.53, 3.56, 2.1, 0.96]  Minimum:  613.38  Cost:  190.48\nIteration:  734  Variables:  [0.73, 0.87, 1.73, 2.53, 3.56, 2.1, 0.96]  Minimum:  613.38  Cost:  190.47\nIteration:  735  Variables:  [0.73, 0.87, 1.74, 2.53, 3.56, 2.1, 0.97]  Minimum:  613.63  Cost:  190.16\nIteration:  736  Variables:  [0.73, 0.87, 1.74, 2.53, 3.56, 2.1, 0.97]  Minimum:  613.63  Cost:  190.16\nIteration:  737  Variables:  [0.73, 0.87, 1.74, 2.53, 3.56, 2.1, 0.97]  Minimum:  613.63  Cost:  190.16\n"
     ]
    },
    {
     "name": "stdout",
     "output_type": "stream",
     "text": [
      "Iteration:  738  Variables:  [0.73, 0.87, 1.74, 2.53, 3.56, 2.1, 0.97]  Minimum:  613.63  Cost:  190.16\nIteration:  739  Variables:  [0.73, 0.87, 1.74, 2.53, 3.56, 2.1, 0.97]  Minimum:  613.63  Cost:  190.16\nIteration:  740  Variables:  [0.73, 0.87, 1.74, 2.53, 3.56, 2.1, 0.97]  Minimum:  613.63  Cost:  190.16\nIteration:  741  Variables:  [0.73, 0.87, 1.74, 2.53, 3.56, 2.1, 0.97]  Minimum:  613.63  Cost:  190.16\nIteration:  742  Variables:  [0.73, 0.87, 1.74, 2.53, 3.56, 2.1, 0.97]  Minimum:  613.63  Cost:  190.16\nIteration:  743  Variables:  [0.73, 0.87, 1.74, 2.53, 3.56, 2.1, 0.97]  Minimum:  613.63  Cost:  190.16\nIteration:  744  Variables:  [0.73, 0.87, 1.74, 2.53, 3.56, 2.1, 0.97]  Minimum:  613.63  Cost:  190.16\nIteration:  745  Variables:  [0.73, 0.87, 1.74, 2.53, 3.56, 2.1, 0.97]  Minimum:  613.63  Cost:  190.16\nIteration:  746  Variables:  [0.73, 0.87, 1.74, 2.53, 3.56, 2.1, 0.97]  Minimum:  613.63  Cost:  190.16\nIteration:  747  Variables:  [0.73, 0.87, 1.74, 2.53, 3.56, 2.1, 0.97]  Minimum:  613.63  Cost:  190.16\n"
     ]
    },
    {
     "name": "stdout",
     "output_type": "stream",
     "text": [
      "Iteration:  748  Variables:  [0.73, 0.87, 1.74, 2.53, 3.56, 2.1, 0.97]  Minimum:  613.63  Cost:  190.16\nIteration:  749  Variables:  [0.73, 0.87, 1.74, 2.53, 3.56, 2.1, 0.97]  Minimum:  613.63  Cost:  190.16\nIteration:  750  Variables:  [0.73, 0.87, 1.74, 2.53, 3.56, 2.1, 0.97]  Minimum:  613.88  Cost:  189.87\nIteration:  751  Variables:  [0.73, 0.87, 1.74, 2.53, 3.56, 2.1, 0.97]  Minimum:  613.88  Cost:  189.87\nIteration:  752  Variables:  [0.73, 0.87, 1.74, 2.53, 3.56, 2.1, 0.97]  Minimum:  613.88  Cost:  189.87\nIteration:  753  Variables:  [0.73, 0.87, 1.74, 2.53, 3.56, 2.1, 0.97]  Minimum:  613.88  Cost:  189.87\nIteration:  754  Variables:  [0.73, 0.87, 1.74, 2.53, 3.56, 2.1, 0.97]  Minimum:  613.88  Cost:  189.87\nIteration:  755  Variables:  [0.73, 0.87, 1.74, 2.53, 3.56, 2.1, 0.97]  Minimum:  613.88  Cost:  189.87\nIteration:  756  Variables:  [0.73, 0.87, 1.74, 2.53, 3.56, 2.1, 0.97]  Minimum:  613.88  Cost:  189.87\nIteration:  757  Variables:  [0.73, 0.87, 1.74, 2.53, 3.56, 2.1, 0.97]  Minimum:  613.88  Cost:  189.87\n"
     ]
    },
    {
     "name": "stdout",
     "output_type": "stream",
     "text": [
      "Iteration:  758  Variables:  [0.73, 0.87, 1.74, 2.53, 3.56, 2.1, 0.97]  Minimum:  613.88  Cost:  189.87\nIteration:  759  Variables:  [0.73, 0.87, 1.74, 2.53, 3.56, 2.1, 0.97]  Minimum:  613.88  Cost:  189.87\nIteration:  760  Variables:  [0.73, 0.87, 1.74, 2.53, 3.56, 2.1, 0.97]  Minimum:  613.88  Cost:  189.87\nIteration:  761  Variables:  [0.73, 0.87, 1.74, 2.53, 3.56, 2.1, 0.97]  Minimum:  613.88  Cost:  189.87\nIteration:  762  Variables:  [0.73, 0.87, 1.74, 2.53, 3.56, 2.1, 0.97]  Minimum:  613.88  Cost:  189.87\nIteration:  763  Variables:  [0.73, 0.87, 1.74, 2.53, 3.56, 2.1, 0.97]  Minimum:  613.88  Cost:  189.87\nIteration:  764  Variables:  [0.73, 0.87, 1.74, 2.53, 3.56, 2.1, 0.97]  Minimum:  613.88  Cost:  189.87\nIteration:  765  Variables:  [0.73, 0.87, 1.74, 2.53, 3.56, 2.09, 0.98]  Minimum:  614.13  Cost:  189.59\nIteration:  766  Variables:  [0.73, 0.87, 1.74, 2.53, 3.56, 2.09, 0.98]  Minimum:  614.13  Cost:  189.59\nIteration:  767  Variables:  [0.73, 0.87, 1.74, 2.53, 3.56, 2.09, 0.98]  Minimum:  614.13  Cost:  189.59\n"
     ]
    },
    {
     "name": "stdout",
     "output_type": "stream",
     "text": [
      "Iteration:  768  Variables:  [0.73, 0.87, 1.74, 2.53, 3.56, 2.09, 0.98]  Minimum:  614.13  Cost:  189.59\nIteration:  769  Variables:  [0.73, 0.87, 1.74, 2.53, 3.56, 2.09, 0.98]  Minimum:  614.13  Cost:  189.59\nIteration:  770  Variables:  [0.73, 0.87, 1.74, 2.53, 3.56, 2.09, 0.98]  Minimum:  614.13  Cost:  189.59\nIteration:  771  Variables:  [0.73, 0.87, 1.74, 2.53, 3.56, 2.09, 0.98]  Minimum:  614.13  Cost:  189.59\nIteration:  772  Variables:  [0.73, 0.87, 1.74, 2.53, 3.56, 2.09, 0.98]  Minimum:  614.13  Cost:  189.59\nIteration:  773  Variables:  [0.73, 0.87, 1.74, 2.53, 3.56, 2.09, 0.98]  Minimum:  614.13  Cost:  189.59\nIteration:  774  Variables:  [0.73, 0.87, 1.74, 2.53, 3.56, 2.09, 0.98]  Minimum:  614.13  Cost:  189.59\nIteration:  775  Variables:  [0.73, 0.87, 1.74, 2.53, 3.56, 2.09, 0.98]  Minimum:  614.13  Cost:  189.59\nIteration:  776  Variables:  [0.73, 0.87, 1.74, 2.53, 3.56, 2.09, 0.98]  Minimum:  614.13  Cost:  189.59\nIteration:  777  Variables:  [0.73, 0.87, 1.74, 2.53, 3.56, 2.09, 0.98]  Minimum:  614.13  Cost:  189.59\n"
     ]
    },
    {
     "name": "stdout",
     "output_type": "stream",
     "text": [
      "Iteration:  778  Variables:  [0.73, 0.87, 1.74, 2.53, 3.56, 2.09, 0.98]  Minimum:  614.13  Cost:  189.59\nIteration:  779  Variables:  [0.73, 0.87, 1.74, 2.53, 3.56, 2.09, 0.98]  Minimum:  614.13  Cost:  189.59\nIteration:  780  Variables:  [0.73, 0.87, 1.74, 2.53, 3.56, 2.09, 0.98]  Minimum:  614.37  Cost:  189.34\nIteration:  781  Variables:  [0.73, 0.87, 1.74, 2.53, 3.56, 2.09, 0.98]  Minimum:  614.37  Cost:  189.34\nIteration:  782  Variables:  [0.73, 0.87, 1.74, 2.53, 3.56, 2.09, 0.98]  Minimum:  614.37  Cost:  189.34\nIteration:  783  Variables:  [0.73, 0.87, 1.74, 2.53, 3.56, 2.09, 0.98]  Minimum:  614.37  Cost:  189.34\nIteration:  784  Variables:  [0.73, 0.87, 1.74, 2.53, 3.56, 2.09, 0.98]  Minimum:  614.37  Cost:  189.34\nIteration:  785  Variables:  [0.73, 0.87, 1.74, 2.53, 3.56, 2.09, 0.98]  Minimum:  614.37  Cost:  189.34\nIteration:  786  Variables:  [0.73, 0.87, 1.74, 2.53, 3.56, 2.09, 0.98]  Minimum:  614.37  Cost:  189.34\n"
     ]
    },
    {
     "name": "stdout",
     "output_type": "stream",
     "text": [
      "Iteration:  787  Variables:  [0.73, 0.87, 1.74, 2.53, 3.56, 2.09, 0.98]  Minimum:  614.37  Cost:  189.34\nIteration:  788  Variables:  [0.73, 0.87, 1.74, 2.53, 3.56, 2.09, 0.98]  Minimum:  614.37  Cost:  189.34\nIteration:  789  Variables:  [0.73, 0.87, 1.74, 2.53, 3.56, 2.09, 0.98]  Minimum:  614.37  Cost:  189.34\nIteration:  790  Variables:  [0.73, 0.87, 1.74, 2.53, 3.56, 2.09, 0.98]  Minimum:  614.37  Cost:  189.34\nIteration:  791  Variables:  [0.73, 0.87, 1.74, 2.53, 3.56, 2.09, 0.98]  Minimum:  614.38  Cost:  189.34\nIteration:  792  Variables:  [0.73, 0.87, 1.74, 2.53, 3.56, 2.09, 0.98]  Minimum:  614.37  Cost:  189.34\nIteration:  793  Variables:  [0.73, 0.87, 1.74, 2.53, 3.56, 2.09, 0.98]  Minimum:  614.37  Cost:  189.34\nIteration:  794  Variables:  [0.73, 0.87, 1.74, 2.53, 3.56, 2.09, 0.98]  Minimum:  614.37  Cost:  189.34\nIteration:  795  Variables:  [0.73, 0.87, 1.74, 2.53, 3.56, 2.09, 0.99]  Minimum:  614.62  Cost:  189.11\n"
     ]
    },
    {
     "name": "stdout",
     "output_type": "stream",
     "text": [
      "Iteration:  796  Variables:  [0.73, 0.87, 1.74, 2.53, 3.56, 2.09, 0.99]  Minimum:  614.62  Cost:  189.11\nIteration:  797  Variables:  [0.73, 0.87, 1.74, 2.53, 3.56, 2.09, 0.99]  Minimum:  614.62  Cost:  189.11\nIteration:  798  Variables:  [0.73, 0.87, 1.74, 2.53, 3.56, 2.09, 0.99]  Minimum:  614.62  Cost:  189.11\nIteration:  799  Variables:  [0.73, 0.87, 1.74, 2.53, 3.56, 2.09, 0.99]  Minimum:  614.62  Cost:  189.11\nIteration:  800  Variables:  [0.73, 0.87, 1.74, 2.53, 3.56, 2.09, 0.99]  Minimum:  614.62  Cost:  189.11\nIteration:  801  Variables:  [0.73, 0.87, 1.74, 2.53, 3.56, 2.09, 0.99]  Minimum:  614.62  Cost:  189.11\nIteration:  802  Variables:  [0.73, 0.87, 1.74, 2.53, 3.56, 2.09, 0.99]  Minimum:  614.62  Cost:  189.11\nIteration:  803  Variables:  [0.73, 0.87, 1.74, 2.53, 3.56, 2.09, 0.99]  Minimum:  614.62  Cost:  189.11\nIteration:  804  Variables:  [0.73, 0.87, 1.74, 2.53, 3.56, 2.09, 0.99]  Minimum:  614.62  Cost:  189.11\nIteration:  805  Variables:  [0.73, 0.87, 1.74, 2.53, 3.56, 2.09, 0.99]  Minimum:  614.62  Cost:  189.11\n"
     ]
    },
    {
     "name": "stdout",
     "output_type": "stream",
     "text": [
      "Iteration:  806  Variables:  [0.73, 0.87, 1.74, 2.53, 3.56, 2.09, 0.99]  Minimum:  614.62  Cost:  189.11\nIteration:  807  Variables:  [0.73, 0.87, 1.74, 2.53, 3.56, 2.09, 0.99]  Minimum:  614.62  Cost:  189.11\nIteration:  808  Variables:  [0.73, 0.87, 1.74, 2.53, 3.56, 2.09, 0.99]  Minimum:  614.62  Cost:  189.11\nIteration:  809  Variables:  [0.73, 0.87, 1.74, 2.53, 3.56, 2.09, 0.99]  Minimum:  614.62  Cost:  189.11\nIteration:  810  Variables:  [0.73, 0.87, 1.74, 2.52, 3.56, 2.09, 0.99]  Minimum:  614.86  Cost:  188.91\nIteration:  811  Variables:  [0.73, 0.87, 1.74, 2.52, 3.56, 2.09, 0.99]  Minimum:  614.86  Cost:  188.91\nIteration:  812  Variables:  [0.73, 0.87, 1.74, 2.52, 3.56, 2.09, 0.99]  Minimum:  614.86  Cost:  188.91\nIteration:  813  Variables:  [0.73, 0.87, 1.74, 2.52, 3.56, 2.09, 0.99]  Minimum:  614.86  Cost:  188.91\nIteration:  814  Variables:  [0.73, 0.87, 1.74, 2.52, 3.56, 2.09, 0.99]  Minimum:  614.86  Cost:  188.91\n"
     ]
    },
    {
     "name": "stdout",
     "output_type": "stream",
     "text": [
      "Iteration:  815  Variables:  [0.73, 0.87, 1.74, 2.52, 3.56, 2.09, 0.99]  Minimum:  614.86  Cost:  188.91\nIteration:  816  Variables:  [0.73, 0.87, 1.74, 2.52, 3.56, 2.09, 0.99]  Minimum:  614.86  Cost:  188.91\nIteration:  817  Variables:  [0.73, 0.87, 1.74, 2.52, 3.56, 2.09, 0.99]  Minimum:  614.86  Cost:  188.91\nIteration:  818  Variables:  [0.73, 0.87, 1.74, 2.52, 3.56, 2.09, 0.99]  Minimum:  614.86  Cost:  188.91\nIteration:  819  Variables:  [0.73, 0.87, 1.74, 2.52, 3.56, 2.09, 0.99]  Minimum:  614.86  Cost:  188.91\nIteration:  820  Variables:  [0.73, 0.87, 1.74, 2.52, 3.56, 2.09, 0.99]  Minimum:  614.86  Cost:  188.91\nIteration:  821  Variables:  [0.73, 0.87, 1.74, 2.52, 3.56, 2.09, 0.99]  Minimum:  614.86  Cost:  188.91\nIteration:  822  Variables:  [0.73, 0.87, 1.74, 2.52, 3.56, 2.09, 0.99]  Minimum:  614.86  Cost:  188.91\nIteration:  823  Variables:  [0.73, 0.87, 1.74, 2.52, 3.56, 2.09, 0.99]  Minimum:  614.86  Cost:  188.91\nIteration:  824  Variables:  [0.73, 0.87, 1.74, 2.52, 3.56, 2.09, 0.99]  Minimum:  614.86  Cost:  188.91\n"
     ]
    },
    {
     "name": "stdout",
     "output_type": "stream",
     "text": [
      "Iteration:  825  Variables:  [0.73, 0.87, 1.74, 2.52, 3.56, 2.09, 0.99]  Minimum:  615.1  Cost:  188.75\nIteration:  826  Variables:  [0.73, 0.87, 1.74, 2.52, 3.56, 2.09, 0.99]  Minimum:  615.1  Cost:  188.75\nIteration:  827  Variables:  [0.73, 0.87, 1.74, 2.52, 3.56, 2.09, 0.99]  Minimum:  615.1  Cost:  188.75\nIteration:  828  Variables:  [0.73, 0.87, 1.74, 2.52, 3.56, 2.09, 0.99]  Minimum:  615.1  Cost:  188.75\nIteration:  829  Variables:  [0.73, 0.87, 1.74, 2.52, 3.56, 2.09, 0.99]  Minimum:  615.1  Cost:  188.75\nIteration:  830  Variables:  [0.73, 0.87, 1.74, 2.52, 3.56, 2.09, 0.99]  Minimum:  615.1  Cost:  188.75\nIteration:  831  Variables:  [0.73, 0.87, 1.74, 2.52, 3.56, 2.09, 0.99]  Minimum:  615.1  Cost:  188.75\nIteration:  832  Variables:  [0.73, 0.87, 1.74, 2.52, 3.56, 2.09, 0.99]  Minimum:  615.1  Cost:  188.75\nIteration:  833  Variables:  [0.73, 0.87, 1.74, 2.52, 3.56, 2.09, 0.99]  Minimum:  615.1  Cost:  188.75\nIteration:  834  Variables:  [0.73, 0.87, 1.74, 2.52, 3.56, 2.09, 0.99]  Minimum:  615.1  Cost:  188.75\n"
     ]
    },
    {
     "name": "stdout",
     "output_type": "stream",
     "text": [
      "Iteration:  835  Variables:  [0.73, 0.87, 1.74, 2.52, 3.56, 2.09, 0.99]  Minimum:  615.1  Cost:  188.75\nIteration:  836  Variables:  [0.73, 0.87, 1.74, 2.52, 3.56, 2.09, 0.99]  Minimum:  615.1  Cost:  188.75\nIteration:  837  Variables:  [0.73, 0.87, 1.74, 2.52, 3.56, 2.09, 0.99]  Minimum:  615.1  Cost:  188.75\nIteration:  838  Variables:  [0.73, 0.87, 1.74, 2.52, 3.56, 2.09, 0.99]  Minimum:  615.1  Cost:  188.76\nIteration:  839  Variables:  [0.73, 0.87, 1.74, 2.52, 3.56, 2.09, 0.99]  Minimum:  615.1  Cost:  188.75\nIteration:  840  Variables:  [0.73, 0.87, 1.74, 2.52, 3.56, 2.08, 0.99]  Minimum:  615.32  Cost:  188.74\nIteration:  841  Variables:  [0.73, 0.87, 1.74, 2.52, 3.56, 2.08, 0.99]  Minimum:  615.32  Cost:  188.74\nIteration:  842  Variables:  [0.73, 0.87, 1.74, 2.52, 3.56, 2.08, 0.99]  Minimum:  615.32  Cost:  188.74\nIteration:  843  Variables:  [0.73, 0.87, 1.74, 2.52, 3.56, 2.08, 0.99]  Minimum:  615.32  Cost:  188.74\nIteration:  844  Variables:  [0.73, 0.87, 1.74, 2.52, 3.56, 2.08, 0.99]  Minimum:  615.32  Cost:  188.74\n"
     ]
    },
    {
     "name": "stdout",
     "output_type": "stream",
     "text": [
      "Iteration:  845  Variables:  [0.73, 0.87, 1.74, 2.52, 3.56, 2.08, 0.99]  Minimum:  615.32  Cost:  188.74\nIteration:  846  Variables:  [0.73, 0.87, 1.74, 2.52, 3.56, 2.08, 0.99]  Minimum:  615.32  Cost:  188.74\nIteration:  847  Variables:  [0.73, 0.87, 1.74, 2.52, 3.56, 2.08, 0.99]  Minimum:  615.32  Cost:  188.74\nIteration:  848  Variables:  [0.73, 0.87, 1.74, 2.52, 3.56, 2.08, 0.99]  Minimum:  615.32  Cost:  188.74\nIteration:  849  Variables:  [0.73, 0.87, 1.74, 2.52, 3.56, 2.08, 0.99]  Minimum:  615.32  Cost:  188.74\nIteration:  850  Variables:  [0.73, 0.87, 1.74, 2.52, 3.56, 2.08, 0.99]  Minimum:  615.32  Cost:  188.74\nIteration:  851  Variables:  [0.73, 0.87, 1.74, 2.52, 3.56, 2.08, 0.99]  Minimum:  615.32  Cost:  188.74\nIteration:  852  Variables:  [0.73, 0.87, 1.74, 2.52, 3.56, 2.08, 0.99]  Minimum:  615.32  Cost:  188.74\nIteration:  853  Variables:  [0.73, 0.87, 1.74, 2.52, 3.56, 2.08, 0.99]  Minimum:  615.32  Cost:  188.74\nIteration:  854  Variables:  [0.73, 0.87, 1.74, 2.52, 3.56, 2.08, 0.99]  Minimum:  615.32  Cost:  188.74\n"
     ]
    },
    {
     "name": "stdout",
     "output_type": "stream",
     "text": [
      "Iteration:  855  Variables:  [0.73, 0.86, 1.74, 2.52, 3.56, 2.08, 0.99]  Minimum:  615.58  Cost:  188.72\nIteration:  856  Variables:  [0.73, 0.86, 1.74, 2.52, 3.56, 2.08, 0.99]  Minimum:  615.58  Cost:  188.72\nIteration:  857  Variables:  [0.73, 0.86, 1.74, 2.52, 3.56, 2.08, 0.99]  Minimum:  615.58  Cost:  188.72\nIteration:  858  Variables:  [0.73, 0.86, 1.74, 2.52, 3.56, 2.08, 0.99]  Minimum:  615.58  Cost:  188.72\nIteration:  859  Variables:  [0.73, 0.86, 1.74, 2.52, 3.56, 2.08, 0.99]  Minimum:  615.58  Cost:  188.72\nIteration:  860  Variables:  [0.73, 0.86, 1.74, 2.52, 3.56, 2.08, 0.99]  Minimum:  615.58  Cost:  188.72\nIteration:  861  Variables:  [0.73, 0.86, 1.74, 2.52, 3.56, 2.08, 0.99]  Minimum:  615.58  Cost:  188.72\nIteration:  862  Variables:  [0.73, 0.86, 1.74, 2.52, 3.56, 2.08, 0.99]  Minimum:  615.58  Cost:  188.72\nIteration:  863  Variables:  [0.73, 0.86, 1.74, 2.52, 3.56, 2.08, 0.99]  Minimum:  615.58  Cost:  188.72\nIteration:  864  Variables:  [0.73, 0.86, 1.74, 2.52, 3.56, 2.08, 0.99]  Minimum:  615.58  Cost:  188.72\n"
     ]
    },
    {
     "name": "stdout",
     "output_type": "stream",
     "text": [
      "Iteration:  865  Variables:  [0.73, 0.86, 1.74, 2.52, 3.56, 2.08, 0.99]  Minimum:  615.58  Cost:  188.72\nIteration:  866  Variables:  [0.73, 0.86, 1.74, 2.52, 3.56, 2.08, 0.99]  Minimum:  615.58  Cost:  188.72\nIteration:  867  Variables:  [0.73, 0.86, 1.74, 2.52, 3.56, 2.08, 0.99]  Minimum:  615.58  Cost:  188.72\nIteration:  868  Variables:  [0.73, 0.86, 1.74, 2.52, 3.56, 2.08, 0.99]  Minimum:  615.58  Cost:  188.72\nIteration:  869  Variables:  [0.73, 0.86, 1.74, 2.52, 3.56, 2.08, 0.99]  Minimum:  615.58  Cost:  188.72\nIteration:  870  Variables:  [0.73, 0.86, 1.74, 2.52, 3.56, 2.08, 0.99]  Minimum:  615.84  Cost:  188.7\nIteration:  871  Variables:  [0.73, 0.86, 1.74, 2.52, 3.56, 2.08, 0.99]  Minimum:  615.84  Cost:  188.7\nIteration:  872  Variables:  [0.73, 0.86, 1.74, 2.52, 3.56, 2.08, 0.99]  Minimum:  615.84  Cost:  188.7\nIteration:  873  Variables:  [0.73, 0.86, 1.74, 2.52, 3.56, 2.08, 0.99]  Minimum:  615.84  Cost:  188.7\nIteration:  874  Variables:  [0.73, 0.86, 1.74, 2.52, 3.56, 2.08, 0.99]  Minimum:  615.84  Cost:  188.7\n"
     ]
    },
    {
     "name": "stdout",
     "output_type": "stream",
     "text": [
      "Iteration:  875  Variables:  [0.73, 0.86, 1.74, 2.52, 3.56, 2.08, 0.99]  Minimum:  615.84  Cost:  188.7\nIteration:  876  Variables:  [0.73, 0.86, 1.74, 2.52, 3.56, 2.08, 0.99]  Minimum:  615.84  Cost:  188.7\nIteration:  877  Variables:  [0.73, 0.86, 1.74, 2.52, 3.56, 2.08, 0.99]  Minimum:  615.84  Cost:  188.7\nIteration:  878  Variables:  [0.73, 0.86, 1.74, 2.52, 3.56, 2.08, 0.99]  Minimum:  615.84  Cost:  188.7\nIteration:  879  Variables:  [0.73, 0.86, 1.74, 2.52, 3.56, 2.08, 0.99]  Minimum:  615.84  Cost:  188.7\nIteration:  880  Variables:  [0.73, 0.86, 1.74, 2.52, 3.56, 2.08, 0.99]  Minimum:  615.84  Cost:  188.7\nIteration:  881  Variables:  [0.73, 0.86, 1.74, 2.52, 3.56, 2.08, 0.99]  Minimum:  615.84  Cost:  188.7\nIteration:  882  Variables:  [0.73, 0.86, 1.74, 2.52, 3.56, 2.08, 0.99]  Minimum:  615.84  Cost:  188.7\nIteration:  883  Variables:  [0.73, 0.86, 1.74, 2.52, 3.56, 2.08, 0.99]  Minimum:  615.84  Cost:  188.7\nIteration:  884  Variables:  [0.73, 0.86, 1.74, 2.52, 3.56, 2.08, 0.99]  Minimum:  615.84  Cost:  188.7\n"
     ]
    },
    {
     "name": "stdout",
     "output_type": "stream",
     "text": [
      "Iteration:  885  Variables:  [0.73, 0.86, 1.74, 2.52, 3.56, 2.08, 0.99]  Minimum:  616.1  Cost:  188.68\nIteration:  886  Variables:  [0.73, 0.86, 1.74, 2.52, 3.56, 2.08, 0.99]  Minimum:  616.1  Cost:  188.68\nIteration:  887  Variables:  [0.73, 0.86, 1.74, 2.52, 3.56, 2.08, 0.99]  Minimum:  616.1  Cost:  188.68\nIteration:  888  Variables:  [0.73, 0.86, 1.74, 2.52, 3.56, 2.08, 0.99]  Minimum:  616.1  Cost:  188.68\nIteration:  889  Variables:  [0.73, 0.86, 1.74, 2.52, 3.56, 2.08, 0.99]  Minimum:  616.1  Cost:  188.68\nIteration:  890  Variables:  [0.73, 0.86, 1.74, 2.52, 3.56, 2.08, 0.99]  Minimum:  616.1  Cost:  188.68\nIteration:  891  Variables:  [0.73, 0.86, 1.74, 2.52, 3.56, 2.08, 0.99]  Minimum:  616.1  Cost:  188.68\nIteration:  892  Variables:  [0.73, 0.86, 1.74, 2.52, 3.56, 2.08, 0.99]  Minimum:  616.1  Cost:  188.68\n"
     ]
    },
    {
     "name": "stdout",
     "output_type": "stream",
     "text": [
      "Iteration:  893  Variables:  [0.73, 0.86, 1.74, 2.52, 3.56, 2.08, 0.99]  Minimum:  616.1  Cost:  188.68\nIteration:  894  Variables:  [0.73, 0.86, 1.74, 2.52, 3.56, 2.08, 0.99]  Minimum:  616.1  Cost:  188.68\nIteration:  895  Variables:  [0.73, 0.86, 1.74, 2.52, 3.56, 2.08, 0.99]  Minimum:  616.1  Cost:  188.68\nIteration:  896  Variables:  [0.73, 0.86, 1.74, 2.52, 3.56, 2.08, 0.99]  Minimum:  616.1  Cost:  188.68\nIteration:  897  Variables:  [0.73, 0.86, 1.74, 2.52, 3.56, 2.08, 0.99]  Minimum:  616.1  Cost:  188.68\nIteration:  898  Variables:  [0.73, 0.86, 1.74, 2.52, 3.56, 2.08, 0.99]  Minimum:  616.1  Cost:  188.68\nIteration:  899  Variables:  [0.73, 0.86, 1.74, 2.52, 3.56, 2.08, 0.99]  Minimum:  616.1  Cost:  188.68\n"
     ]
    },
    {
     "name": "stdout",
     "output_type": "stream",
     "text": [
      "Iteration:  900  Variables:  [0.73, 0.86, 1.74, 2.51, 3.56, 2.08, 0.99]  Minimum:  616.37  Cost:  188.66\nIteration:  901  Variables:  [0.73, 0.86, 1.74, 2.51, 3.56, 2.08, 0.99]  Minimum:  616.37  Cost:  188.66\nIteration:  902  Variables:  [0.73, 0.86, 1.74, 2.51, 3.56, 2.08, 0.99]  Minimum:  616.37  Cost:  188.66\nIteration:  903  Variables:  [0.73, 0.86, 1.74, 2.51, 3.56, 2.08, 0.99]  Minimum:  616.37  Cost:  188.66\nIteration:  904  Variables:  [0.73, 0.86, 1.74, 2.51, 3.56, 2.08, 0.99]  Minimum:  616.37  Cost:  188.66\nIteration:  905  Variables:  [0.73, 0.86, 1.74, 2.51, 3.56, 2.08, 0.99]  Minimum:  616.37  Cost:  188.66\nIteration:  906  Variables:  [0.73, 0.86, 1.74, 2.51, 3.56, 2.08, 0.99]  Minimum:  616.37  Cost:  188.66\nIteration:  907  Variables:  [0.73, 0.86, 1.74, 2.51, 3.56, 2.08, 0.99]  Minimum:  616.37  Cost:  188.66\nIteration:  908  Variables:  [0.73, 0.86, 1.74, 2.51, 3.56, 2.08, 0.99]  Minimum:  616.37  Cost:  188.66\nIteration:  909  Variables:  [0.73, 0.86, 1.74, 2.51, 3.56, 2.08, 0.99]  Minimum:  616.37  Cost:  188.66\n"
     ]
    },
    {
     "name": "stdout",
     "output_type": "stream",
     "text": [
      "Iteration:  910  Variables:  [0.73, 0.86, 1.74, 2.51, 3.56, 2.08, 0.99]  Minimum:  616.37  Cost:  188.66\nIteration:  911  Variables:  [0.73, 0.86, 1.74, 2.51, 3.56, 2.08, 0.99]  Minimum:  616.37  Cost:  188.66\nIteration:  912  Variables:  [0.73, 0.86, 1.74, 2.51, 3.56, 2.08, 0.99]  Minimum:  616.37  Cost:  188.66\nIteration:  913  Variables:  [0.73, 0.86, 1.74, 2.51, 3.56, 2.08, 0.99]  Minimum:  616.37  Cost:  188.66\nIteration:  914  Variables:  [0.73, 0.86, 1.74, 2.51, 3.56, 2.08, 0.99]  Minimum:  616.37  Cost:  188.66\nIteration:  915  Variables:  [0.73, 0.86, 1.74, 2.51, 3.56, 2.07, 0.99]  Minimum:  616.64  Cost:  188.64\nIteration:  916  Variables:  [0.73, 0.86, 1.74, 2.51, 3.56, 2.07, 0.99]  Minimum:  616.64  Cost:  188.64\nIteration:  917  Variables:  [0.73, 0.86, 1.74, 2.51, 3.56, 2.07, 0.99]  Minimum:  616.64  Cost:  188.64\nIteration:  918  Variables:  [0.73, 0.86, 1.74, 2.51, 3.56, 2.07, 0.99]  Minimum:  616.64  Cost:  188.64\nIteration:  919  Variables:  [0.73, 0.86, 1.74, 2.51, 3.56, 2.07, 0.99]  Minimum:  616.64  Cost:  188.64\n"
     ]
    },
    {
     "name": "stdout",
     "output_type": "stream",
     "text": [
      "Iteration:  920  Variables:  [0.73, 0.86, 1.74, 2.51, 3.56, 2.07, 0.99]  Minimum:  616.63  Cost:  188.64\nIteration:  921  Variables:  [0.73, 0.86, 1.74, 2.51, 3.56, 2.07, 0.99]  Minimum:  616.64  Cost:  188.64\nIteration:  922  Variables:  [0.73, 0.86, 1.74, 2.51, 3.56, 2.07, 0.99]  Minimum:  616.64  Cost:  188.64\nIteration:  923  Variables:  [0.73, 0.86, 1.74, 2.51, 3.56, 2.07, 0.99]  Minimum:  616.63  Cost:  188.64\nIteration:  924  Variables:  [0.73, 0.86, 1.74, 2.51, 3.56, 2.07, 0.99]  Minimum:  616.63  Cost:  188.64\nIteration:  925  Variables:  [0.73, 0.86, 1.74, 2.51, 3.56, 2.07, 0.99]  Minimum:  616.64  Cost:  188.64\nIteration:  926  Variables:  [0.73, 0.86, 1.74, 2.51, 3.56, 2.07, 0.99]  Minimum:  616.64  Cost:  188.64\nIteration:  927  Variables:  [0.73, 0.86, 1.74, 2.51, 3.56, 2.07, 0.99]  Minimum:  616.63  Cost:  188.64\nIteration:  928  Variables:  [0.73, 0.86, 1.74, 2.51, 3.56, 2.07, 0.99]  Minimum:  616.64  Cost:  188.64\n"
     ]
    },
    {
     "name": "stdout",
     "output_type": "stream",
     "text": [
      "Iteration:  929  Variables:  [0.73, 0.86, 1.74, 2.51, 3.56, 2.07, 0.99]  Minimum:  616.64  Cost:  188.64\nIteration:  930  Variables:  [0.73, 0.86, 1.75, 2.51, 3.56, 2.07, 0.99]  Minimum:  616.9  Cost:  188.62\nIteration:  931  Variables:  [0.73, 0.86, 1.75, 2.51, 3.56, 2.07, 0.99]  Minimum:  616.9  Cost:  188.62\nIteration:  932  Variables:  [0.73, 0.86, 1.75, 2.51, 3.56, 2.07, 0.99]  Minimum:  616.9  Cost:  188.62\nIteration:  933  Variables:  [0.73, 0.86, 1.75, 2.51, 3.56, 2.07, 0.99]  Minimum:  616.9  Cost:  188.62\nIteration:  934  Variables:  [0.73, 0.86, 1.75, 2.51, 3.56, 2.07, 0.99]  Minimum:  616.9  Cost:  188.62\nIteration:  935  Variables:  [0.73, 0.86, 1.75, 2.51, 3.56, 2.07, 0.99]  Minimum:  616.9  Cost:  188.62\nIteration:  936  Variables:  [0.73, 0.86, 1.75, 2.51, 3.56, 2.07, 0.99]  Minimum:  616.9  Cost:  188.62\n"
     ]
    },
    {
     "name": "stdout",
     "output_type": "stream",
     "text": [
      "Iteration:  937  Variables:  [0.73, 0.86, 1.75, 2.51, 3.56, 2.07, 0.99]  Minimum:  616.9  Cost:  188.62\nIteration:  938  Variables:  [0.73, 0.86, 1.75, 2.51, 3.56, 2.07, 0.99]  Minimum:  616.9  Cost:  188.62\nIteration:  939  Variables:  [0.73, 0.86, 1.75, 2.51, 3.56, 2.07, 0.99]  Minimum:  616.9  Cost:  188.62\nIteration:  940  Variables:  [0.73, 0.86, 1.75, 2.51, 3.56, 2.07, 0.99]  Minimum:  616.9  Cost:  188.62\nIteration:  941  Variables:  [0.73, 0.86, 1.75, 2.51, 3.56, 2.07, 0.99]  Minimum:  616.9  Cost:  188.62\nIteration:  942  Variables:  [0.73, 0.86, 1.75, 2.51, 3.56, 2.07, 0.99]  Minimum:  616.9  Cost:  188.62\nIteration:  943  Variables:  [0.73, 0.86, 1.75, 2.51, 3.56, 2.07, 0.99]  Minimum:  616.9  Cost:  188.62\nIteration:  944  Variables:  [0.73, 0.86, 1.75, 2.51, 3.56, 2.07, 0.99]  Minimum:  616.9  Cost:  188.62\n"
     ]
    },
    {
     "name": "stdout",
     "output_type": "stream",
     "text": [
      "Iteration:  945  Variables:  [0.73, 0.86, 1.75, 2.51, 3.56, 2.07, 0.99]  Minimum:  617.17  Cost:  188.6\nIteration:  946  Variables:  [0.73, 0.86, 1.75, 2.51, 3.56, 2.07, 0.99]  Minimum:  617.17  Cost:  188.6\nIteration:  947  Variables:  [0.73, 0.86, 1.75, 2.51, 3.56, 2.07, 0.99]  Minimum:  617.17  Cost:  188.6\nIteration:  948  Variables:  [0.73, 0.86, 1.75, 2.51, 3.56, 2.07, 0.99]  Minimum:  617.17  Cost:  188.6\nIteration:  949  Variables:  [0.73, 0.86, 1.75, 2.51, 3.56, 2.07, 0.99]  Minimum:  617.17  Cost:  188.6\nIteration:  950  Variables:  [0.73, 0.86, 1.75, 2.51, 3.56, 2.07, 0.99]  Minimum:  617.17  Cost:  188.6\nIteration:  951  Variables:  [0.73, 0.86, 1.75, 2.51, 3.56, 2.07, 0.99]  Minimum:  617.17  Cost:  188.6\nIteration:  952  Variables:  [0.73, 0.86, 1.75, 2.51, 3.56, 2.07, 0.99]  Minimum:  617.17  Cost:  188.6\nIteration:  953  Variables:  [0.73, 0.86, 1.75, 2.51, 3.56, 2.07, 0.99]  Minimum:  617.17  Cost:  188.6\n"
     ]
    },
    {
     "name": "stdout",
     "output_type": "stream",
     "text": [
      "Iteration:  954  Variables:  [0.73, 0.86, 1.75, 2.51, 3.56, 2.07, 0.99]  Minimum:  617.17  Cost:  188.6\nIteration:  955  Variables:  [0.73, 0.86, 1.75, 2.51, 3.56, 2.07, 0.99]  Minimum:  617.17  Cost:  188.6\nIteration:  956  Variables:  [0.73, 0.86, 1.75, 2.51, 3.56, 2.07, 0.99]  Minimum:  617.17  Cost:  188.6\nIteration:  957  Variables:  [0.73, 0.86, 1.75, 2.51, 3.56, 2.07, 0.99]  Minimum:  617.17  Cost:  188.6\nIteration:  958  Variables:  [0.73, 0.86, 1.75, 2.51, 3.56, 2.07, 0.99]  Minimum:  617.17  Cost:  188.6\nIteration:  959  Variables:  [0.73, 0.86, 1.75, 2.51, 3.56, 2.07, 0.99]  Minimum:  617.17  Cost:  188.6\nIteration:  960  Variables:  [0.73, 0.86, 1.75, 2.51, 3.56, 2.07, 0.99]  Minimum:  617.44  Cost:  188.58\nIteration:  961  Variables:  [0.73, 0.86, 1.75, 2.51, 3.56, 2.07, 0.99]  Minimum:  617.44  Cost:  188.58\n"
     ]
    },
    {
     "name": "stdout",
     "output_type": "stream",
     "text": [
      "Iteration:  962  Variables:  [0.73, 0.86, 1.75, 2.51, 3.56, 2.07, 0.99]  Minimum:  617.44  Cost:  188.58\nIteration:  963  Variables:  [0.73, 0.86, 1.75, 2.51, 3.56, 2.07, 0.99]  Minimum:  617.44  Cost:  188.58\nIteration:  964  Variables:  [0.73, 0.86, 1.75, 2.51, 3.56, 2.07, 0.99]  Minimum:  617.44  Cost:  188.58\nIteration:  965  Variables:  [0.73, 0.86, 1.75, 2.51, 3.56, 2.07, 0.99]  Minimum:  617.44  Cost:  188.58\nIteration:  966  Variables:  [0.73, 0.86, 1.75, 2.51, 3.56, 2.07, 0.99]  Minimum:  617.44  Cost:  188.58\nIteration:  967  Variables:  [0.73, 0.86, 1.75, 2.51, 3.56, 2.07, 0.99]  Minimum:  617.44  Cost:  188.58\nIteration:  968  Variables:  [0.73, 0.86, 1.75, 2.51, 3.56, 2.07, 0.99]  Minimum:  617.44  Cost:  188.58\nIteration:  969  Variables:  [0.73, 0.86, 1.75, 2.51, 3.56, 2.07, 0.99]  Minimum:  617.44  Cost:  188.58\nIteration:  970  Variables:  [0.73, 0.86, 1.75, 2.51, 3.56, 2.07, 0.99]  Minimum:  617.44  Cost:  188.58\n"
     ]
    },
    {
     "name": "stdout",
     "output_type": "stream",
     "text": [
      "Iteration:  971  Variables:  [0.73, 0.86, 1.75, 2.51, 3.56, 2.07, 0.99]  Minimum:  617.44  Cost:  188.58\nIteration:  972  Variables:  [0.73, 0.86, 1.75, 2.51, 3.56, 2.07, 0.99]  Minimum:  617.44  Cost:  188.58\nIteration:  973  Variables:  [0.73, 0.86, 1.75, 2.51, 3.56, 2.07, 0.99]  Minimum:  617.44  Cost:  188.58\nIteration:  974  Variables:  [0.73, 0.86, 1.75, 2.51, 3.56, 2.07, 0.99]  Minimum:  617.44  Cost:  188.58\nIteration:  975  Variables:  [0.73, 0.85, 1.75, 2.5, 3.56, 2.06, 0.99]  Minimum:  617.71  Cost:  188.56\nIteration:  976  Variables:  [0.73, 0.85, 1.75, 2.5, 3.56, 2.06, 0.99]  Minimum:  617.71  Cost:  188.56\nIteration:  977  Variables:  [0.73, 0.85, 1.75, 2.5, 3.56, 2.06, 0.99]  Minimum:  617.71  Cost:  188.56\nIteration:  978  Variables:  [0.73, 0.85, 1.75, 2.5, 3.56, 2.06, 0.99]  Minimum:  617.71  Cost:  188.56\nIteration:  979  Variables:  [0.73, 0.85, 1.75, 2.5, 3.56, 2.06, 0.99]  Minimum:  617.71  Cost:  188.56\n"
     ]
    },
    {
     "name": "stdout",
     "output_type": "stream",
     "text": [
      "Iteration:  980  Variables:  [0.73, 0.85, 1.75, 2.5, 3.56, 2.06, 0.99]  Minimum:  617.71  Cost:  188.56\nIteration:  981  Variables:  [0.73, 0.85, 1.75, 2.5, 3.56, 2.06, 0.99]  Minimum:  617.71  Cost:  188.56\nIteration:  982  Variables:  [0.73, 0.85, 1.75, 2.5, 3.56, 2.06, 0.99]  Minimum:  617.71  Cost:  188.56\nIteration:  983  Variables:  [0.73, 0.85, 1.75, 2.5, 3.56, 2.06, 0.99]  Minimum:  617.71  Cost:  188.56\nIteration:  984  Variables:  [0.73, 0.85, 1.75, 2.5, 3.56, 2.06, 0.99]  Minimum:  617.71  Cost:  188.56\nIteration:  985  Variables:  [0.73, 0.85, 1.75, 2.5, 3.56, 2.06, 0.99]  Minimum:  617.71  Cost:  188.56\nIteration:  986  Variables:  [0.73, 0.85, 1.75, 2.5, 3.56, 2.06, 0.99]  Minimum:  617.71  Cost:  188.56\nIteration:  987  Variables:  [0.73, 0.85, 1.75, 2.5, 3.56, 2.06, 0.99]  Minimum:  617.71  Cost:  188.56\nIteration: "
     ]
    },
    {
     "name": "stdout",
     "output_type": "stream",
     "text": [
      " 988  Variables:  [0.73, 0.85, 1.75, 2.5, 3.56, 2.06, 0.99]  Minimum:  617.71  Cost:  188.57\nIteration:  989  Variables:  [0.73, 0.85, 1.75, 2.5, 3.56, 2.06, 0.99]  Minimum:  617.71  Cost:  188.56\nIteration:  990  Variables:  [0.73, 0.85, 1.75, 2.5, 3.56, 2.06, 0.99]  Minimum:  617.98  Cost:  188.55\nIteration:  991  Variables:  [0.73, 0.85, 1.75, 2.5, 3.56, 2.06, 0.99]  Minimum:  617.98  Cost:  188.55\nIteration:  992  Variables:  [0.73, 0.85, 1.75, 2.5, 3.56, 2.06, 0.99]  Minimum:  617.98  Cost:  188.55\nIteration:  993  Variables:  [0.73, 0.85, 1.75, 2.5, 3.56, 2.06, 0.99]  Minimum:  617.98  Cost:  188.55\nIteration:  994  Variables:  [0.73, 0.85, 1.75, 2.5, 3.56, 2.06, 0.99]  Minimum:  617.98  Cost:  188.55\nIteration:  995  Variables:  [0.73, 0.85, 1.75, 2.5, 3.56, 2.06, 0.99]  Minimum:  617.98  Cost:  188.55\n"
     ]
    },
    {
     "name": "stdout",
     "output_type": "stream",
     "text": [
      "Iteration:  996  Variables:  [0.73, 0.85, 1.75, 2.5, 3.56, 2.06, 0.99]  Minimum:  617.98  Cost:  188.55\nIteration:  997  Variables:  [0.73, 0.85, 1.75, 2.5, 3.56, 2.06, 0.99]  Minimum:  617.98  Cost:  188.55\nIteration:  998  Variables:  [0.73, 0.85, 1.75, 2.5, 3.56, 2.06, 0.99]  Minimum:  617.98  Cost:  188.55\nIteration:  999  Variables:  [0.73, 0.85, 1.75, 2.5, 3.56, 2.06, 0.99]  Minimum:  617.98  Cost:  188.55\nIteration:  1000  Variables:  [0.73, 0.85, 1.75, 2.5, 3.56, 2.06, 0.99]  Minimum:  617.98  Cost:  188.55\nIteration:  1001  Variables:  [0.73, 0.85, 1.75, 2.5, 3.56, 2.06, 0.99]  Minimum:  617.98  Cost:  188.55\nIteration:  1002  Variables:  [0.73, 0.85, 1.75, 2.5, 3.56, 2.06, 0.99]  Minimum:  617.98  Cost:  188.55\nIteration:  1003  Variables:  [0.73, 0.85, 1.75, 2.5, 3.56, 2.06, 0.99]  Minimum:  617.98  Cost:  188.55\nIteration:  1004  Variables:  [0.73, 0.85, 1.75, 2.5, 3.56, 2.06, 0.99]  Minimum:  617.98  Cost:  188.55\n"
     ]
    },
    {
     "name": "stdout",
     "output_type": "stream",
     "text": [
      "Iteration:  1005  Variables:  [0.73, 0.85, 1.75, 2.5, 3.56, 2.06, 0.99]  Minimum:  618.26  Cost:  188.53\nIteration:  1006  Variables:  [0.73, 0.85, 1.75, 2.5, 3.56, 2.06, 0.99]  Minimum:  618.26  Cost:  188.53\nIteration:  1007  Variables:  [0.73, 0.85, 1.75, 2.5, 3.56, 2.06, 0.99]  Minimum:  618.26  Cost:  188.53\nIteration:  1008  Variables:  [0.73, 0.85, 1.75, 2.5, 3.56, 2.06, 0.99]  Minimum:  618.26  Cost:  188.53\nIteration:  1009  Variables:  [0.73, 0.85, 1.75, 2.5, 3.56, 2.06, 0.99]  Minimum:  618.26  Cost:  188.53\nIteration:  1010  Variables:  [0.73, 0.85, 1.75, 2.5, 3.56, 2.06, 0.99]  Minimum:  618.26  Cost:  188.53\nIteration:  1011  Variables:  [0.73, 0.85, 1.75, 2.5, 3.56, 2.06, 0.99]  Minimum:  618.26  Cost:  188.53\nIteration:  1012  Variables:  [0.73, 0.85, 1.75, 2.5, 3.56, 2.06, 0.99]  Minimum:  618.26  Cost:  188.53\nIteration:  1013  Variables:  [0.73, 0.85, 1.75, 2.5, 3.56, 2.06, 0.99]  Minimum:  618.26  Cost:  188.53\nIteration:  1014  Variables:  [0.73, 0.85, 1.75, 2.5, 3.56, 2.06, 0.99]  Minimum:  618.26  Cost:  188.53\n"
     ]
    },
    {
     "name": "stdout",
     "output_type": "stream",
     "text": [
      "Iteration:  1015  Variables:  [0.73, 0.85, 1.75, 2.5, 3.56, 2.06, 0.99]  Minimum:  618.26  Cost:  188.53\nIteration:  1016  Variables:  [0.73, 0.85, 1.75, 2.5, 3.56, 2.06, 0.99]  Minimum:  618.26  Cost:  188.53\nIteration:  1017  Variables:  [0.73, 0.85, 1.75, 2.5, 3.56, 2.06, 0.99]  Minimum:  618.26  Cost:  188.53\nIteration:  1018  Variables:  [0.73, 0.85, 1.75, 2.5, 3.56, 2.06, 0.99]  Minimum:  618.26  Cost:  188.53\nIteration:  1019  Variables:  [0.73, 0.85, 1.75, 2.5, 3.56, 2.06, 0.99]  Minimum:  618.26  Cost:  188.53\nIteration:  1020  Variables:  [0.73, 0.85, 1.75, 2.5, 3.56, 2.06, 0.99]  Minimum:  618.53  Cost:  188.51\nIteration:  1021  Variables:  [0.73, 0.85, 1.75, 2.5, 3.56, 2.06, 0.99]  Minimum:  618.53  Cost:  188.51\nIteration:  1022  Variables:  [0.73, 0.85, 1.75, 2.5, 3.56, 2.06, 0.99]  Minimum:  618.53  Cost:  188.51\nIteration:  1023  Variables:  [0.73, 0.85, 1.75, 2.5, 3.56, 2.06, 0.99]  Minimum:  618.53  Cost:  188.51\nIteration:  1024  Variables:  [0.73, 0.85, 1.75, 2.5, 3.56, 2.06, 0.99]  Minimum:  618.53  Cost:  188.51\n"
     ]
    },
    {
     "name": "stdout",
     "output_type": "stream",
     "text": [
      "Iteration:  1025  Variables:  [0.73, 0.85, 1.75, 2.5, 3.56, 2.06, 0.99]  Minimum:  618.53  Cost:  188.51\nIteration:  1026  Variables:  [0.73, 0.85, 1.75, 2.5, 3.56, 2.06, 0.99]  Minimum:  618.53  Cost:  188.51\nIteration:  1027  Variables:  [0.73, 0.85, 1.75, 2.5, 3.56, 2.06, 0.99]  Minimum:  618.53  Cost:  188.51\nIteration:  1028  Variables:  [0.73, 0.85, 1.75, 2.5, 3.56, 2.06, 0.99]  Minimum:  618.53  Cost:  188.51\nIteration:  1029  Variables:  [0.73, 0.85, 1.75, 2.5, 3.56, 2.06, 0.99]  Minimum:  618.53  Cost:  188.51\nIteration:  1030  Variables:  [0.73, 0.85, 1.75, 2.5, 3.56, 2.06, 0.99]  Minimum:  618.53  Cost:  188.51\nIteration:  1031  Variables:  [0.73, 0.85, 1.75, 2.5, 3.56, 2.06, 0.99]  Minimum:  618.53  Cost:  188.51\nIteration:  1032  Variables:  [0.73, 0.85, 1.75, 2.5, 3.56, 2.06, 0.99]  Minimum:  618.53  Cost:  188.51\nIteration:  1033  Variables:  [0.73, 0.85, 1.75, 2.5, 3.56, 2.06, 0.99]  Minimum:  618.53  Cost:  188.51\nIteration:  1034  Variables:  [0.73, 0.85, 1.75, 2.5, 3.56, 2.06, 0.99]  Minimum:  618.53  Cost:  188.51\n"
     ]
    },
    {
     "name": "stdout",
     "output_type": "stream",
     "text": [
      "Iteration:  1035  Variables:  [0.73, 0.85, 1.75, 2.5, 3.56, 2.06, 0.99]  Minimum:  618.8  Cost:  188.49\nIteration:  1036  Variables:  [0.73, 0.85, 1.75, 2.5, 3.56, 2.06, 0.99]  Minimum:  618.8  Cost:  188.49\nIteration:  1037  Variables:  [0.73, 0.85, 1.75, 2.5, 3.56, 2.06, 0.99]  Minimum:  618.8  Cost:  188.49\nIteration:  1038  Variables:  [0.73, 0.85, 1.75, 2.5, 3.56, 2.06, 0.99]  Minimum:  618.8  Cost:  188.49\nIteration:  1039  Variables:  [0.73, 0.85, 1.75, 2.5, 3.56, 2.06, 0.99]  Minimum:  618.8  Cost:  188.49\nIteration:  1040  Variables:  [0.73, 0.85, 1.75, 2.5, 3.56, 2.06, 0.99]  Minimum:  618.8  Cost:  188.49\nIteration:  1041  Variables:  [0.73, 0.85, 1.75, 2.5, 3.56, 2.06, 0.99]  Minimum:  618.8  Cost:  188.49\nIteration:  1042  Variables:  [0.73, 0.85, 1.75, 2.5, 3.56, 2.06, 0.99]  Minimum:  618.8  Cost:  188.49\nIteration:  1043  Variables:  [0.73, 0.85, 1.75, 2.5, 3.56, 2.06, 0.99]  Minimum:  618.8  Cost:  188.49\nIteration:  1044  Variables:  [0.73, 0.85, 1.75, 2.5, 3.56, 2.06, 0.99]  Minimum:  618.8  Cost:  188.49\n"
     ]
    },
    {
     "name": "stdout",
     "output_type": "stream",
     "text": [
      "Iteration:  1045  Variables:  [0.73, 0.85, 1.75, 2.5, 3.56, 2.06, 0.99]  Minimum:  618.8  Cost:  188.49\nIteration:  1046  Variables:  [0.73, 0.85, 1.75, 2.5, 3.56, 2.06, 0.99]  Minimum:  618.81  Cost:  188.49\nIteration:  1047  Variables:  [0.73, 0.85, 1.75, 2.5, 3.56, 2.06, 0.99]  Minimum:  618.8  Cost:  188.49\nIteration:  1048  Variables:  [0.73, 0.85, 1.75, 2.5, 3.56, 2.06, 0.99]  Minimum:  618.8  Cost:  188.49\nIteration:  1049  Variables:  [0.73, 0.85, 1.75, 2.5, 3.56, 2.06, 0.99]  Minimum:  618.8  Cost:  188.49\nIteration:  1050  Variables:  [0.73, 0.85, 1.75, 2.49, 3.56, 2.05, 0.99]  Minimum:  619.08  Cost:  188.47\nIteration:  1051  Variables:  [0.73, 0.85, 1.75, 2.49, 3.56, 2.05, 0.99]  Minimum:  619.08  Cost:  188.47\nIteration:  1052  Variables:  [0.73, 0.85, 1.75, 2.49, 3.56, 2.05, 0.99]  Minimum:  619.08  Cost:  188.47\nIteration:  1053  Variables:  [0.73, 0.85, 1.75, 2.49, 3.56, 2.05, 0.99]  Minimum:  619.08  Cost:  188.47\n"
     ]
    },
    {
     "name": "stdout",
     "output_type": "stream",
     "text": [
      "Iteration:  1054  Variables:  [0.73, 0.85, 1.75, 2.49, 3.56, 2.05, 0.99]  Minimum:  619.08  Cost:  188.47\nIteration:  1055  Variables:  [0.73, 0.85, 1.75, 2.49, 3.56, 2.05, 0.99]  Minimum:  619.08  Cost:  188.47\nIteration:  1056  Variables:  [0.73, 0.85, 1.75, 2.49, 3.56, 2.05, 0.99]  Minimum:  619.08  Cost:  188.47\nIteration:  1057  Variables:  [0.73, 0.85, 1.75, 2.49, 3.56, 2.05, 0.99]  Minimum:  619.08  Cost:  188.47\nIteration:  1058  Variables:  [0.73, 0.85, 1.75, 2.49, 3.56, 2.05, 0.99]  Minimum:  619.08  Cost:  188.47\nIteration:  1059  Variables:  [0.73, 0.85, 1.75, 2.49, 3.56, 2.05, 0.99]  Minimum:  619.08  Cost:  188.47\nIteration:  1060  Variables:  [0.73, 0.85, 1.75, 2.49, 3.56, 2.05, 0.99]  Minimum:  619.08  Cost:  188.47\nIteration:  1061  Variables:  [0.73, 0.85, 1.75, 2.49, 3.56, 2.05, 0.99]  Minimum:  619.08  Cost:  188.47\nIteration:  1062  Variables:  [0.73, 0.85, 1.75, 2.49, 3.56, 2.05, 0.99]  Minimum:  619.08  Cost:  188.47\n"
     ]
    },
    {
     "name": "stdout",
     "output_type": "stream",
     "text": [
      "Iteration:  1063  Variables:  [0.73, 0.85, 1.75, 2.49, 3.56, 2.05, 0.99]  Minimum:  619.08  Cost:  188.47\nIteration:  1064  Variables:  [0.73, 0.85, 1.75, 2.49, 3.56, 2.05, 0.99]  Minimum:  619.08  Cost:  188.47\nIteration:  1065  Variables:  [0.73, 0.85, 1.75, 2.49, 3.56, 2.05, 0.99]  Minimum:  619.36  Cost:  188.45\nIteration:  1066  Variables:  [0.73, 0.85, 1.75, 2.49, 3.56, 2.05, 0.99]  Minimum:  619.36  Cost:  188.45\nIteration:  1067  Variables:  [0.73, 0.85, 1.75, 2.49, 3.56, 2.05, 0.99]  Minimum:  619.36  Cost:  188.45\nIteration:  1068  Variables:  [0.73, 0.85, 1.75, 2.49, 3.56, 2.05, 0.99]  Minimum:  619.36  Cost:  188.45\nIteration:  1069  Variables:  [0.73, 0.85, 1.75, 2.49, 3.56, 2.05, 0.99]  Minimum:  619.36  Cost:  188.45\nIteration:  1070  Variables:  [0.73, 0.85, 1.75, 2.49, 3.56, 2.05, 0.99]  Minimum:  619.36  Cost:  188.45\nIteration:  1071  Variables:  [0.73, 0.85, 1.75, 2.49, 3.56, 2.05, 0.99]  Minimum:  619.36  Cost:  188.45\n"
     ]
    },
    {
     "name": "stdout",
     "output_type": "stream",
     "text": [
      "Iteration:  1072  Variables:  [0.73, 0.85, 1.75, 2.49, 3.56, 2.05, 0.99]  Minimum:  619.36  Cost:  188.45\nIteration:  1073  Variables:  [0.73, 0.85, 1.75, 2.49, 3.56, 2.05, 0.99]  Minimum:  619.35  Cost:  188.45\nIteration:  1074  Variables:  [0.73, 0.85, 1.75, 2.49, 3.56, 2.05, 0.99]  Minimum:  619.36  Cost:  188.45\nIteration:  1075  Variables:  [0.73, 0.85, 1.75, 2.49, 3.56, 2.05, 0.99]  Minimum:  619.36  Cost:  188.45\nIteration:  1076  Variables:  [0.73, 0.85, 1.75, 2.49, 3.56, 2.05, 0.99]  Minimum:  619.36  Cost:  188.45\nIteration:  1077  Variables:  [0.73, 0.85, 1.75, 2.49, 3.56, 2.05, 0.99]  Minimum:  619.35  Cost:  188.45\nIteration:  1078  Variables:  [0.73, 0.85, 1.75, 2.49, 3.56, 2.05, 0.99]  Minimum:  619.36  Cost:  188.45\nIteration:  1079  Variables:  [0.73, 0.85, 1.75, 2.49, 3.56, 2.05, 0.99]  Minimum:  619.36  Cost:  188.45\nIteration:  1080  Variables:  [0.73, 0.85, 1.75, 2.49, 3.56, 2.05, 0.99]  Minimum:  619.63  Cost:  188.43\nIteration:  1081  Variables:  [0.73, 0.85, 1.75, 2.49, 3.56, 2.05, 0.99]  Minimum:  619.63  Cost:  188.43\n"
     ]
    },
    {
     "name": "stdout",
     "output_type": "stream",
     "text": [
      "Iteration:  1082  Variables:  [0.73, 0.85, 1.75, 2.49, 3.56, 2.05, 0.99]  Minimum:  619.63  Cost:  188.43\nIteration:  1083  Variables:  [0.73, 0.85, 1.75, 2.49, 3.56, 2.05, 0.99]  Minimum:  619.63  Cost:  188.43\nIteration:  1084  Variables:  [0.73, 0.85, 1.75, 2.49, 3.56, 2.05, 0.99]  Minimum:  619.63  Cost:  188.43\nIteration:  1085  Variables:  [0.73, 0.85, 1.75, 2.49, 3.56, 2.05, 0.99]  Minimum:  619.63  Cost:  188.43\nIteration:  1086  Variables:  [0.73, 0.85, 1.75, 2.49, 3.56, 2.05, 0.99]  Minimum:  619.63  Cost:  188.43\nIteration:  1087  Variables:  [0.73, 0.85, 1.75, 2.49, 3.56, 2.05, 0.99]  Minimum:  619.63  Cost:  188.43\nIteration:  1088  Variables:  [0.73, 0.85, 1.75, 2.49, 3.56, 2.05, 0.99]  Minimum:  619.63  Cost:  188.43\n"
     ]
    },
    {
     "ename": "KeyboardInterrupt",
     "evalue": "",
     "traceback": [
      "\u001b[0;31m---------------------------------------------------------------------------\u001b[0m",
      "\u001b[0;31mKeyboardInterrupt\u001b[0m                         Traceback (most recent call last)",
      "\u001b[0;32m<ipython-input-13-2e245d0c016c>\u001b[0m in \u001b[0;36m<module>\u001b[0;34m\u001b[0m\n\u001b[1;32m     72\u001b[0m \u001b[0;34m\u001b[0m\u001b[0m\n\u001b[1;32m     73\u001b[0m     \u001b[0;32mfor\u001b[0m \u001b[0mweight\u001b[0m \u001b[0;32min\u001b[0m \u001b[0mweight_light_range\u001b[0m\u001b[0;34m:\u001b[0m\u001b[0;34m\u001b[0m\u001b[0m\n\u001b[0;32m---> 74\u001b[0;31m         \u001b[0mmodel\u001b[0m \u001b[0;34m=\u001b[0m \u001b[0mTrustConstrModel\u001b[0m\u001b[0;34m(\u001b[0m\u001b[0mweight\u001b[0m\u001b[0;34m)\u001b[0m\u001b[0;34m\u001b[0m\u001b[0m\n\u001b[0m\u001b[1;32m     75\u001b[0m         \u001b[0mfile\u001b[0m\u001b[0;34m.\u001b[0m\u001b[0mwrite\u001b[0m\u001b[0;34m(\u001b[0m\u001b[0;34m'Light Weight: '\u001b[0m \u001b[0;34m+\u001b[0m \u001b[0mstr\u001b[0m\u001b[0;34m(\u001b[0m\u001b[0mweight\u001b[0m\u001b[0;34m)\u001b[0m \u001b[0;34m+\u001b[0m \u001b[0;34m' Optimum: '\u001b[0m \u001b[0;34m+\u001b[0m \u001b[0mstr\u001b[0m\u001b[0;34m(\u001b[0m\u001b[0mmodel\u001b[0m\u001b[0;34m.\u001b[0m\u001b[0mresult\u001b[0m\u001b[0;34m.\u001b[0m\u001b[0mx\u001b[0m\u001b[0;34m)\u001b[0m\u001b[0;34m)\u001b[0m\u001b[0;34m\u001b[0m\u001b[0m\n\u001b[1;32m     76\u001b[0m         \u001b[0mfile\u001b[0m\u001b[0;34m.\u001b[0m\u001b[0mwrite\u001b[0m\u001b[0;34m(\u001b[0m\u001b[0;34m'\\n'\u001b[0m\u001b[0;34m)\u001b[0m\u001b[0;34m\u001b[0m\u001b[0m\n",
      "\u001b[0;32m<ipython-input-13-2e245d0c016c>\u001b[0m in \u001b[0;36m__init__\u001b[0;34m(self, weight_light)\u001b[0m\n\u001b[1;32m     38\u001b[0m \u001b[0;34m\u001b[0m\u001b[0m\n\u001b[1;32m     39\u001b[0m         self.result = minimize(self.obj_fun, MP.INITIAL_SOLUTION, method='trust-constr', jac='3-point',\n\u001b[0;32m---> 40\u001b[0;31m                             constraints=self.constraints, hess=BFGS(exception_strategy='damp_update'))\n\u001b[0m\u001b[1;32m     41\u001b[0m \u001b[0;34m\u001b[0m\u001b[0m\n\u001b[1;32m     42\u001b[0m         \u001b[0;31m# What is the result of the optimisation?\u001b[0m\u001b[0;34m\u001b[0m\u001b[0;34m\u001b[0m\u001b[0m\n",
      "\u001b[0;32m/usr/local/lib/python3.7/site-packages/scipy/optimize/_minimize.py\u001b[0m in \u001b[0;36mminimize\u001b[0;34m(fun, x0, args, method, jac, hess, hessp, bounds, constraints, tol, callback, options)\u001b[0m\n\u001b[1;32m    613\u001b[0m         return _minimize_trustregion_constr(fun, x0, args, jac, hess, hessp,\n\u001b[1;32m    614\u001b[0m                                             \u001b[0mbounds\u001b[0m\u001b[0;34m,\u001b[0m \u001b[0mconstraints\u001b[0m\u001b[0;34m,\u001b[0m\u001b[0;34m\u001b[0m\u001b[0m\n\u001b[0;32m--> 615\u001b[0;31m                                             callback=callback, **options)\n\u001b[0m\u001b[1;32m    616\u001b[0m     \u001b[0;32melif\u001b[0m \u001b[0mmeth\u001b[0m \u001b[0;34m==\u001b[0m \u001b[0;34m'dogleg'\u001b[0m\u001b[0;34m:\u001b[0m\u001b[0;34m\u001b[0m\u001b[0m\n\u001b[1;32m    617\u001b[0m         return _minimize_dogleg(fun, x0, args, jac, hess,\n",
      "\u001b[0;32m/usr/local/lib/python3.7/site-packages/scipy/optimize/_trustregion_constr/minimize_trustregion_constr.py\u001b[0m in \u001b[0;36m_minimize_trustregion_constr\u001b[0;34m(fun, x0, args, grad, hess, hessp, bounds, constraints, xtol, gtol, barrier_tol, sparse_jacobian, callback, maxiter, verbose, finite_diff_rel_step, initial_constr_penalty, initial_tr_radius, initial_barrier_parameter, initial_barrier_tolerance, factorization_method, disp)\u001b[0m\n\u001b[1;32m    504\u001b[0m             \u001b[0minitial_barrier_tolerance\u001b[0m\u001b[0;34m,\u001b[0m\u001b[0;34m\u001b[0m\u001b[0m\n\u001b[1;32m    505\u001b[0m             \u001b[0minitial_constr_penalty\u001b[0m\u001b[0;34m,\u001b[0m \u001b[0minitial_tr_radius\u001b[0m\u001b[0;34m,\u001b[0m\u001b[0;34m\u001b[0m\u001b[0m\n\u001b[0;32m--> 506\u001b[0;31m             factorization_method)\n\u001b[0m\u001b[1;32m    507\u001b[0m \u001b[0;34m\u001b[0m\u001b[0m\n\u001b[1;32m    508\u001b[0m     \u001b[0mresult\u001b[0m\u001b[0;34m.\u001b[0m\u001b[0mmessage\u001b[0m \u001b[0;34m=\u001b[0m \u001b[0mTERMINATION_MESSAGES\u001b[0m\u001b[0;34m[\u001b[0m\u001b[0mresult\u001b[0m\u001b[0;34m.\u001b[0m\u001b[0mstatus\u001b[0m\u001b[0;34m]\u001b[0m\u001b[0;34m\u001b[0m\u001b[0m\n",
      "\u001b[0;32m/usr/local/lib/python3.7/site-packages/scipy/optimize/_trustregion_constr/tr_interior_point.py\u001b[0m in \u001b[0;36mtr_interior_point\u001b[0;34m(fun, grad, lagr_hess, n_vars, n_ineq, n_eq, constr, jac, x0, fun0, grad0, constr_ineq0, jac_ineq0, constr_eq0, jac_eq0, stop_criteria, enforce_feasibility, xtol, state, initial_barrier_parameter, initial_tolerance, initial_penalty, initial_trust_radius, factorization_method)\u001b[0m\n\u001b[1;32m    327\u001b[0m             \u001b[0mconstr0_subprob\u001b[0m\u001b[0;34m,\u001b[0m \u001b[0mjac0_subprob\u001b[0m\u001b[0;34m,\u001b[0m \u001b[0msubprob\u001b[0m\u001b[0;34m.\u001b[0m\u001b[0mstop_criteria\u001b[0m\u001b[0;34m,\u001b[0m\u001b[0;34m\u001b[0m\u001b[0m\n\u001b[1;32m    328\u001b[0m             \u001b[0mstate\u001b[0m\u001b[0;34m,\u001b[0m \u001b[0minitial_penalty\u001b[0m\u001b[0;34m,\u001b[0m \u001b[0mtrust_radius\u001b[0m\u001b[0;34m,\u001b[0m\u001b[0;34m\u001b[0m\u001b[0m\n\u001b[0;32m--> 329\u001b[0;31m             factorization_method, trust_lb, trust_ub, subprob.scaling)\n\u001b[0m\u001b[1;32m    330\u001b[0m         \u001b[0;32mif\u001b[0m \u001b[0msubprob\u001b[0m\u001b[0;34m.\u001b[0m\u001b[0mterminate\u001b[0m\u001b[0;34m:\u001b[0m\u001b[0;34m\u001b[0m\u001b[0m\n\u001b[1;32m    331\u001b[0m             \u001b[0;32mbreak\u001b[0m\u001b[0;34m\u001b[0m\u001b[0m\n",
      "\u001b[0;32m/usr/local/lib/python3.7/site-packages/scipy/optimize/_trustregion_constr/equality_constrained_sqp.py\u001b[0m in \u001b[0;36mequality_constrained_sqp\u001b[0;34m(fun_and_constr, grad_and_jac, lagr_hess, x0, fun0, grad0, constr0, jac0, stop_criteria, state, initial_penalty, initial_trust_radius, factorization_method, trust_lb, trust_ub, scaling)\u001b[0m\n\u001b[1;32m    146\u001b[0m         \u001b[0;31m# Evaluate function and constraints at trial point\u001b[0m\u001b[0;34m\u001b[0m\u001b[0;34m\u001b[0m\u001b[0m\n\u001b[1;32m    147\u001b[0m         \u001b[0mx_next\u001b[0m \u001b[0;34m=\u001b[0m \u001b[0mx\u001b[0m \u001b[0;34m+\u001b[0m \u001b[0mS\u001b[0m\u001b[0;34m.\u001b[0m\u001b[0mdot\u001b[0m\u001b[0;34m(\u001b[0m\u001b[0md\u001b[0m\u001b[0;34m)\u001b[0m\u001b[0;34m\u001b[0m\u001b[0m\n\u001b[0;32m--> 148\u001b[0;31m         \u001b[0mf_next\u001b[0m\u001b[0;34m,\u001b[0m \u001b[0mb_next\u001b[0m \u001b[0;34m=\u001b[0m \u001b[0mfun_and_constr\u001b[0m\u001b[0;34m(\u001b[0m\u001b[0mx_next\u001b[0m\u001b[0;34m)\u001b[0m\u001b[0;34m\u001b[0m\u001b[0m\n\u001b[0m\u001b[1;32m    149\u001b[0m         \u001b[0;31m# Compute merit function at trial point\u001b[0m\u001b[0;34m\u001b[0m\u001b[0;34m\u001b[0m\u001b[0m\n\u001b[1;32m    150\u001b[0m         \u001b[0mmerit_function_next\u001b[0m \u001b[0;34m=\u001b[0m \u001b[0mf_next\u001b[0m \u001b[0;34m+\u001b[0m \u001b[0mpenalty\u001b[0m\u001b[0;34m*\u001b[0m\u001b[0mnorm\u001b[0m\u001b[0;34m(\u001b[0m\u001b[0mb_next\u001b[0m\u001b[0;34m)\u001b[0m\u001b[0;34m\u001b[0m\u001b[0m\n",
      "\u001b[0;32m/usr/local/lib/python3.7/site-packages/scipy/optimize/_trustregion_constr/tr_interior_point.py\u001b[0m in \u001b[0;36mfunction_and_constraints\u001b[0;34m(self, z)\u001b[0m\n\u001b[1;32m     81\u001b[0m         \u001b[0ms\u001b[0m \u001b[0;34m=\u001b[0m \u001b[0mself\u001b[0m\u001b[0;34m.\u001b[0m\u001b[0mget_slack\u001b[0m\u001b[0;34m(\u001b[0m\u001b[0mz\u001b[0m\u001b[0;34m)\u001b[0m\u001b[0;34m\u001b[0m\u001b[0m\n\u001b[1;32m     82\u001b[0m         \u001b[0;31m# Compute function and constraints\u001b[0m\u001b[0;34m\u001b[0m\u001b[0;34m\u001b[0m\u001b[0m\n\u001b[0;32m---> 83\u001b[0;31m         \u001b[0mf\u001b[0m \u001b[0;34m=\u001b[0m \u001b[0mself\u001b[0m\u001b[0;34m.\u001b[0m\u001b[0mfun\u001b[0m\u001b[0;34m(\u001b[0m\u001b[0mx\u001b[0m\u001b[0;34m)\u001b[0m\u001b[0;34m\u001b[0m\u001b[0m\n\u001b[0m\u001b[1;32m     84\u001b[0m         \u001b[0mc_eq\u001b[0m\u001b[0;34m,\u001b[0m \u001b[0mc_ineq\u001b[0m \u001b[0;34m=\u001b[0m \u001b[0mself\u001b[0m\u001b[0;34m.\u001b[0m\u001b[0mconstr\u001b[0m\u001b[0;34m(\u001b[0m\u001b[0mx\u001b[0m\u001b[0;34m)\u001b[0m\u001b[0;34m\u001b[0m\u001b[0m\n\u001b[1;32m     85\u001b[0m         \u001b[0;31m# Return objective function and constraints\u001b[0m\u001b[0;34m\u001b[0m\u001b[0;34m\u001b[0m\u001b[0m\n",
      "\u001b[0;32m/usr/local/lib/python3.7/site-packages/scipy/optimize/_differentiable_functions.py\u001b[0m in \u001b[0;36mfun\u001b[0;34m(self, x)\u001b[0m\n\u001b[1;32m    178\u001b[0m     \u001b[0;32mdef\u001b[0m \u001b[0mfun\u001b[0m\u001b[0;34m(\u001b[0m\u001b[0mself\u001b[0m\u001b[0;34m,\u001b[0m \u001b[0mx\u001b[0m\u001b[0;34m)\u001b[0m\u001b[0;34m:\u001b[0m\u001b[0;34m\u001b[0m\u001b[0m\n\u001b[1;32m    179\u001b[0m         \u001b[0;32mif\u001b[0m \u001b[0;32mnot\u001b[0m \u001b[0mnp\u001b[0m\u001b[0;34m.\u001b[0m\u001b[0marray_equal\u001b[0m\u001b[0;34m(\u001b[0m\u001b[0mx\u001b[0m\u001b[0;34m,\u001b[0m \u001b[0mself\u001b[0m\u001b[0;34m.\u001b[0m\u001b[0mx\u001b[0m\u001b[0;34m)\u001b[0m\u001b[0;34m:\u001b[0m\u001b[0;34m\u001b[0m\u001b[0m\n\u001b[0;32m--> 180\u001b[0;31m             \u001b[0mself\u001b[0m\u001b[0;34m.\u001b[0m\u001b[0m_update_x_impl\u001b[0m\u001b[0;34m(\u001b[0m\u001b[0mx\u001b[0m\u001b[0;34m)\u001b[0m\u001b[0;34m\u001b[0m\u001b[0m\n\u001b[0m\u001b[1;32m    181\u001b[0m         \u001b[0mself\u001b[0m\u001b[0;34m.\u001b[0m\u001b[0m_update_fun\u001b[0m\u001b[0;34m(\u001b[0m\u001b[0;34m)\u001b[0m\u001b[0;34m\u001b[0m\u001b[0m\n\u001b[1;32m    182\u001b[0m         \u001b[0;32mreturn\u001b[0m \u001b[0mself\u001b[0m\u001b[0;34m.\u001b[0m\u001b[0mf\u001b[0m\u001b[0;34m\u001b[0m\u001b[0m\n",
      "\u001b[0;32m/usr/local/lib/python3.7/site-packages/scipy/optimize/_differentiable_functions.py\u001b[0m in \u001b[0;36mupdate_x\u001b[0;34m(x)\u001b[0m\n\u001b[1;32m    152\u001b[0m                 \u001b[0mself\u001b[0m\u001b[0;34m.\u001b[0m\u001b[0mg_updated\u001b[0m \u001b[0;34m=\u001b[0m \u001b[0;32mFalse\u001b[0m\u001b[0;34m\u001b[0m\u001b[0m\n\u001b[1;32m    153\u001b[0m                 \u001b[0mself\u001b[0m\u001b[0;34m.\u001b[0m\u001b[0mH_updated\u001b[0m \u001b[0;34m=\u001b[0m \u001b[0;32mFalse\u001b[0m\u001b[0;34m\u001b[0m\u001b[0m\n\u001b[0;32m--> 154\u001b[0;31m                 \u001b[0mself\u001b[0m\u001b[0;34m.\u001b[0m\u001b[0m_update_hess\u001b[0m\u001b[0;34m(\u001b[0m\u001b[0;34m)\u001b[0m\u001b[0;34m\u001b[0m\u001b[0m\n\u001b[0m\u001b[1;32m    155\u001b[0m         \u001b[0;32melse\u001b[0m\u001b[0;34m:\u001b[0m\u001b[0;34m\u001b[0m\u001b[0m\n\u001b[1;32m    156\u001b[0m             \u001b[0;32mdef\u001b[0m \u001b[0mupdate_x\u001b[0m\u001b[0;34m(\u001b[0m\u001b[0mx\u001b[0m\u001b[0;34m)\u001b[0m\u001b[0;34m:\u001b[0m\u001b[0;34m\u001b[0m\u001b[0m\n",
      "\u001b[0;32m/usr/local/lib/python3.7/site-packages/scipy/optimize/_differentiable_functions.py\u001b[0m in \u001b[0;36m_update_hess\u001b[0;34m(self)\u001b[0m\n\u001b[1;32m    173\u001b[0m     \u001b[0;32mdef\u001b[0m \u001b[0m_update_hess\u001b[0m\u001b[0;34m(\u001b[0m\u001b[0mself\u001b[0m\u001b[0;34m)\u001b[0m\u001b[0;34m:\u001b[0m\u001b[0;34m\u001b[0m\u001b[0m\n\u001b[1;32m    174\u001b[0m         \u001b[0;32mif\u001b[0m \u001b[0;32mnot\u001b[0m \u001b[0mself\u001b[0m\u001b[0;34m.\u001b[0m\u001b[0mH_updated\u001b[0m\u001b[0;34m:\u001b[0m\u001b[0;34m\u001b[0m\u001b[0m\n\u001b[0;32m--> 175\u001b[0;31m             \u001b[0mself\u001b[0m\u001b[0;34m.\u001b[0m\u001b[0m_update_hess_impl\u001b[0m\u001b[0;34m(\u001b[0m\u001b[0;34m)\u001b[0m\u001b[0;34m\u001b[0m\u001b[0m\n\u001b[0m\u001b[1;32m    176\u001b[0m             \u001b[0mself\u001b[0m\u001b[0;34m.\u001b[0m\u001b[0mH_updated\u001b[0m \u001b[0;34m=\u001b[0m \u001b[0;32mTrue\u001b[0m\u001b[0;34m\u001b[0m\u001b[0m\n\u001b[1;32m    177\u001b[0m \u001b[0;34m\u001b[0m\u001b[0m\n",
      "\u001b[0;32m/usr/local/lib/python3.7/site-packages/scipy/optimize/_differentiable_functions.py\u001b[0m in \u001b[0;36mupdate_hess\u001b[0;34m()\u001b[0m\n\u001b[1;32m    137\u001b[0m \u001b[0;34m\u001b[0m\u001b[0m\n\u001b[1;32m    138\u001b[0m             \u001b[0;32mdef\u001b[0m \u001b[0mupdate_hess\u001b[0m\u001b[0;34m(\u001b[0m\u001b[0;34m)\u001b[0m\u001b[0;34m:\u001b[0m\u001b[0;34m\u001b[0m\u001b[0m\n\u001b[0;32m--> 139\u001b[0;31m                 \u001b[0mself\u001b[0m\u001b[0;34m.\u001b[0m\u001b[0m_update_grad\u001b[0m\u001b[0;34m(\u001b[0m\u001b[0;34m)\u001b[0m\u001b[0;34m\u001b[0m\u001b[0m\n\u001b[0m\u001b[1;32m    140\u001b[0m                 \u001b[0mself\u001b[0m\u001b[0;34m.\u001b[0m\u001b[0mH\u001b[0m\u001b[0;34m.\u001b[0m\u001b[0mupdate\u001b[0m\u001b[0;34m(\u001b[0m\u001b[0mself\u001b[0m\u001b[0;34m.\u001b[0m\u001b[0mx\u001b[0m \u001b[0;34m-\u001b[0m \u001b[0mself\u001b[0m\u001b[0;34m.\u001b[0m\u001b[0mx_prev\u001b[0m\u001b[0;34m,\u001b[0m \u001b[0mself\u001b[0m\u001b[0;34m.\u001b[0m\u001b[0mg\u001b[0m \u001b[0;34m-\u001b[0m \u001b[0mself\u001b[0m\u001b[0;34m.\u001b[0m\u001b[0mg_prev\u001b[0m\u001b[0;34m)\u001b[0m\u001b[0;34m\u001b[0m\u001b[0m\n\u001b[1;32m    141\u001b[0m \u001b[0;34m\u001b[0m\u001b[0m\n",
      "\u001b[0;32m/usr/local/lib/python3.7/site-packages/scipy/optimize/_differentiable_functions.py\u001b[0m in \u001b[0;36m_update_grad\u001b[0;34m(self)\u001b[0m\n\u001b[1;32m    168\u001b[0m     \u001b[0;32mdef\u001b[0m \u001b[0m_update_grad\u001b[0m\u001b[0;34m(\u001b[0m\u001b[0mself\u001b[0m\u001b[0;34m)\u001b[0m\u001b[0;34m:\u001b[0m\u001b[0;34m\u001b[0m\u001b[0m\n\u001b[1;32m    169\u001b[0m         \u001b[0;32mif\u001b[0m \u001b[0;32mnot\u001b[0m \u001b[0mself\u001b[0m\u001b[0;34m.\u001b[0m\u001b[0mg_updated\u001b[0m\u001b[0;34m:\u001b[0m\u001b[0;34m\u001b[0m\u001b[0m\n\u001b[0;32m--> 170\u001b[0;31m             \u001b[0mself\u001b[0m\u001b[0;34m.\u001b[0m\u001b[0m_update_grad_impl\u001b[0m\u001b[0;34m(\u001b[0m\u001b[0;34m)\u001b[0m\u001b[0;34m\u001b[0m\u001b[0m\n\u001b[0m\u001b[1;32m    171\u001b[0m             \u001b[0mself\u001b[0m\u001b[0;34m.\u001b[0m\u001b[0mg_updated\u001b[0m \u001b[0;34m=\u001b[0m \u001b[0;32mTrue\u001b[0m\u001b[0;34m\u001b[0m\u001b[0m\n\u001b[1;32m    172\u001b[0m \u001b[0;34m\u001b[0m\u001b[0m\n",
      "\u001b[0;32m/usr/local/lib/python3.7/site-packages/scipy/optimize/_differentiable_functions.py\u001b[0m in \u001b[0;36mupdate_grad\u001b[0;34m()\u001b[0m\n\u001b[1;32m     89\u001b[0m                 \u001b[0mself\u001b[0m\u001b[0;34m.\u001b[0m\u001b[0m_update_fun\u001b[0m\u001b[0;34m(\u001b[0m\u001b[0;34m)\u001b[0m\u001b[0;34m\u001b[0m\u001b[0m\n\u001b[1;32m     90\u001b[0m                 self.g = approx_derivative(fun_wrapped, self.x, f0=self.f,\n\u001b[0;32m---> 91\u001b[0;31m                                            **finite_diff_options)\n\u001b[0m\u001b[1;32m     92\u001b[0m \u001b[0;34m\u001b[0m\u001b[0m\n\u001b[1;32m     93\u001b[0m         \u001b[0mself\u001b[0m\u001b[0;34m.\u001b[0m\u001b[0m_update_grad_impl\u001b[0m \u001b[0;34m=\u001b[0m \u001b[0mupdate_grad\u001b[0m\u001b[0;34m\u001b[0m\u001b[0m\n",
      "\u001b[0;32m/usr/local/lib/python3.7/site-packages/scipy/optimize/_numdiff.py\u001b[0m in \u001b[0;36mapprox_derivative\u001b[0;34m(fun, x0, method, rel_step, f0, bounds, sparsity, as_linear_operator, args, kwargs)\u001b[0m\n\u001b[1;32m    382\u001b[0m         \u001b[0;32mif\u001b[0m \u001b[0msparsity\u001b[0m \u001b[0;32mis\u001b[0m \u001b[0;32mNone\u001b[0m\u001b[0;34m:\u001b[0m\u001b[0;34m\u001b[0m\u001b[0m\n\u001b[1;32m    383\u001b[0m             return _dense_difference(fun_wrapped, x0, f0, h,\n\u001b[0;32m--> 384\u001b[0;31m                                      use_one_sided, method)\n\u001b[0m\u001b[1;32m    385\u001b[0m         \u001b[0;32melse\u001b[0m\u001b[0;34m:\u001b[0m\u001b[0;34m\u001b[0m\u001b[0m\n\u001b[1;32m    386\u001b[0m             \u001b[0;32mif\u001b[0m \u001b[0;32mnot\u001b[0m \u001b[0missparse\u001b[0m\u001b[0;34m(\u001b[0m\u001b[0msparsity\u001b[0m\u001b[0;34m)\u001b[0m \u001b[0;32mand\u001b[0m \u001b[0mlen\u001b[0m\u001b[0;34m(\u001b[0m\u001b[0msparsity\u001b[0m\u001b[0;34m)\u001b[0m \u001b[0;34m==\u001b[0m \u001b[0;36m2\u001b[0m\u001b[0;34m:\u001b[0m\u001b[0;34m\u001b[0m\u001b[0m\n",
      "\u001b[0;32m/usr/local/lib/python3.7/site-packages/scipy/optimize/_numdiff.py\u001b[0m in \u001b[0;36m_dense_difference\u001b[0;34m(fun, x0, f0, h, use_one_sided, method)\u001b[0m\n\u001b[1;32m    464\u001b[0m             \u001b[0mx2\u001b[0m \u001b[0;34m=\u001b[0m \u001b[0mx0\u001b[0m \u001b[0;34m+\u001b[0m \u001b[0mh_vecs\u001b[0m\u001b[0;34m[\u001b[0m\u001b[0mi\u001b[0m\u001b[0;34m]\u001b[0m\u001b[0;34m\u001b[0m\u001b[0m\n\u001b[1;32m    465\u001b[0m             \u001b[0mdx\u001b[0m \u001b[0;34m=\u001b[0m \u001b[0mx2\u001b[0m\u001b[0;34m[\u001b[0m\u001b[0mi\u001b[0m\u001b[0;34m]\u001b[0m \u001b[0;34m-\u001b[0m \u001b[0mx1\u001b[0m\u001b[0;34m[\u001b[0m\u001b[0mi\u001b[0m\u001b[0;34m]\u001b[0m\u001b[0;34m\u001b[0m\u001b[0m\n\u001b[0;32m--> 466\u001b[0;31m             \u001b[0mf1\u001b[0m \u001b[0;34m=\u001b[0m \u001b[0mfun\u001b[0m\u001b[0;34m(\u001b[0m\u001b[0mx1\u001b[0m\u001b[0;34m)\u001b[0m\u001b[0;34m\u001b[0m\u001b[0m\n\u001b[0m\u001b[1;32m    467\u001b[0m             \u001b[0mf2\u001b[0m \u001b[0;34m=\u001b[0m \u001b[0mfun\u001b[0m\u001b[0;34m(\u001b[0m\u001b[0mx2\u001b[0m\u001b[0;34m)\u001b[0m\u001b[0;34m\u001b[0m\u001b[0m\n\u001b[1;32m    468\u001b[0m             \u001b[0mdf\u001b[0m \u001b[0;34m=\u001b[0m \u001b[0mf2\u001b[0m \u001b[0;34m-\u001b[0m \u001b[0mf1\u001b[0m\u001b[0;34m\u001b[0m\u001b[0m\n",
      "\u001b[0;32m/usr/local/lib/python3.7/site-packages/scipy/optimize/_numdiff.py\u001b[0m in \u001b[0;36mfun_wrapped\u001b[0;34m(x)\u001b[0m\n\u001b[1;32m    346\u001b[0m \u001b[0;34m\u001b[0m\u001b[0m\n\u001b[1;32m    347\u001b[0m     \u001b[0;32mdef\u001b[0m \u001b[0mfun_wrapped\u001b[0m\u001b[0;34m(\u001b[0m\u001b[0mx\u001b[0m\u001b[0;34m)\u001b[0m\u001b[0;34m:\u001b[0m\u001b[0;34m\u001b[0m\u001b[0m\n\u001b[0;32m--> 348\u001b[0;31m         \u001b[0mf\u001b[0m \u001b[0;34m=\u001b[0m \u001b[0mnp\u001b[0m\u001b[0;34m.\u001b[0m\u001b[0matleast_1d\u001b[0m\u001b[0;34m(\u001b[0m\u001b[0mfun\u001b[0m\u001b[0;34m(\u001b[0m\u001b[0mx\u001b[0m\u001b[0;34m,\u001b[0m \u001b[0;34m*\u001b[0m\u001b[0margs\u001b[0m\u001b[0;34m,\u001b[0m \u001b[0;34m**\u001b[0m\u001b[0mkwargs\u001b[0m\u001b[0;34m)\u001b[0m\u001b[0;34m)\u001b[0m\u001b[0;34m\u001b[0m\u001b[0m\n\u001b[0m\u001b[1;32m    349\u001b[0m         \u001b[0;32mif\u001b[0m \u001b[0mf\u001b[0m\u001b[0;34m.\u001b[0m\u001b[0mndim\u001b[0m \u001b[0;34m>\u001b[0m \u001b[0;36m1\u001b[0m\u001b[0;34m:\u001b[0m\u001b[0;34m\u001b[0m\u001b[0m\n\u001b[1;32m    350\u001b[0m             raise RuntimeError(\"`fun` return value has \"\n",
      "\u001b[0;32m/usr/local/lib/python3.7/site-packages/scipy/optimize/_differentiable_functions.py\u001b[0m in \u001b[0;36mfun_wrapped\u001b[0;34m(x)\u001b[0m\n\u001b[1;32m     68\u001b[0m         \u001b[0;32mdef\u001b[0m \u001b[0mfun_wrapped\u001b[0m\u001b[0;34m(\u001b[0m\u001b[0mx\u001b[0m\u001b[0;34m)\u001b[0m\u001b[0;34m:\u001b[0m\u001b[0;34m\u001b[0m\u001b[0m\n\u001b[1;32m     69\u001b[0m             \u001b[0mself\u001b[0m\u001b[0;34m.\u001b[0m\u001b[0mnfev\u001b[0m \u001b[0;34m+=\u001b[0m \u001b[0;36m1\u001b[0m\u001b[0;34m\u001b[0m\u001b[0m\n\u001b[0;32m---> 70\u001b[0;31m             \u001b[0;32mreturn\u001b[0m \u001b[0mfun\u001b[0m\u001b[0;34m(\u001b[0m\u001b[0mx\u001b[0m\u001b[0;34m,\u001b[0m \u001b[0;34m*\u001b[0m\u001b[0margs\u001b[0m\u001b[0;34m)\u001b[0m\u001b[0;34m\u001b[0m\u001b[0m\n\u001b[0m\u001b[1;32m     71\u001b[0m \u001b[0;34m\u001b[0m\u001b[0m\n\u001b[1;32m     72\u001b[0m         \u001b[0;32mdef\u001b[0m \u001b[0mupdate_fun\u001b[0m\u001b[0;34m(\u001b[0m\u001b[0;34m)\u001b[0m\u001b[0;34m:\u001b[0m\u001b[0;34m\u001b[0m\u001b[0m\n",
      "\u001b[0;32m<ipython-input-13-2e245d0c016c>\u001b[0m in \u001b[0;36mobj_fun\u001b[0;34m(self, vars)\u001b[0m\n\u001b[1;32m     49\u001b[0m \u001b[0;34m\u001b[0m\u001b[0m\n\u001b[1;32m     50\u001b[0m         \u001b[0;31m# Calculate current intensity distribution\u001b[0m\u001b[0;34m\u001b[0m\u001b[0;34m\u001b[0m\u001b[0m\n\u001b[0;32m---> 51\u001b[0;31m         \u001b[0mlight_intensity\u001b[0m\u001b[0;34m,\u001b[0m \u001b[0mminimum\u001b[0m\u001b[0;34m,\u001b[0m \u001b[0mminimum_coordinates\u001b[0m \u001b[0;34m=\u001b[0m \u001b[0mget_intensity_distr\u001b[0m\u001b[0;34m(\u001b[0m\u001b[0mvars\u001b[0m\u001b[0;34m,\u001b[0m \u001b[0mrefl\u001b[0m\u001b[0;34m=\u001b[0m\u001b[0mself\u001b[0m\u001b[0;34m.\u001b[0m\u001b[0mrefl\u001b[0m\u001b[0;34m)\u001b[0m\u001b[0;34m\u001b[0m\u001b[0m\n\u001b[0m\u001b[1;32m     52\u001b[0m \u001b[0;34m\u001b[0m\u001b[0m\n\u001b[1;32m     53\u001b[0m         \u001b[0;31m# Calculate total cost of given distribution\u001b[0m\u001b[0;34m\u001b[0m\u001b[0;34m\u001b[0m\u001b[0m\n",
      "\u001b[0;32m<ipython-input-9-2b9b33de3d90>\u001b[0m in \u001b[0;36mget_intensity_distr\u001b[0;34m(lamp_locs, refl)\u001b[0m\n\u001b[1;32m     50\u001b[0m \u001b[0;34m\u001b[0m\u001b[0m\n\u001b[1;32m     51\u001b[0m                 \u001b[0;31m# Take out the value that are less than a radius away from the light source\u001b[0m\u001b[0;34m\u001b[0m\u001b[0;34m\u001b[0m\u001b[0m\n\u001b[0;32m---> 52\u001b[0;31m                 \u001b[0mdistance_to_lamp_n_filtered\u001b[0m \u001b[0;34m=\u001b[0m \u001b[0mma\u001b[0m\u001b[0;34m.\u001b[0m\u001b[0mmasked_less\u001b[0m\u001b[0;34m(\u001b[0m\u001b[0mnp\u001b[0m\u001b[0;34m.\u001b[0m\u001b[0msqrt\u001b[0m\u001b[0;34m(\u001b[0m\u001b[0mdistance_to_lamp_n\u001b[0m\u001b[0;34m)\u001b[0m\u001b[0;34m,\u001b[0m \u001b[0mMP\u001b[0m\u001b[0;34m.\u001b[0m\u001b[0mLAMP_RADII\u001b[0m\u001b[0;34m[\u001b[0m\u001b[0mj\u001b[0m\u001b[0;34m]\u001b[0m\u001b[0;34m)\u001b[0m\u001b[0;34m\u001b[0m\u001b[0m\n\u001b[0m\u001b[1;32m     53\u001b[0m \u001b[0;34m\u001b[0m\u001b[0m\n\u001b[1;32m     54\u001b[0m                 \u001b[0;31m# Initialise the light intensity array\u001b[0m\u001b[0;34m\u001b[0m\u001b[0;34m\u001b[0m\u001b[0m\n",
      "\u001b[0;32m/usr/local/lib/python3.7/site-packages/numpy/ma/core.py\u001b[0m in \u001b[0;36mmasked_less\u001b[0;34m(x, value, copy)\u001b[0m\n\u001b[1;32m   2023\u001b[0m \u001b[0;34m\u001b[0m\u001b[0m\n\u001b[1;32m   2024\u001b[0m     \"\"\"\n\u001b[0;32m-> 2025\u001b[0;31m     \u001b[0;32mreturn\u001b[0m \u001b[0mmasked_where\u001b[0m\u001b[0;34m(\u001b[0m\u001b[0mless\u001b[0m\u001b[0;34m(\u001b[0m\u001b[0mx\u001b[0m\u001b[0;34m,\u001b[0m \u001b[0mvalue\u001b[0m\u001b[0;34m)\u001b[0m\u001b[0;34m,\u001b[0m \u001b[0mx\u001b[0m\u001b[0;34m,\u001b[0m \u001b[0mcopy\u001b[0m\u001b[0;34m=\u001b[0m\u001b[0mcopy\u001b[0m\u001b[0;34m)\u001b[0m\u001b[0;34m\u001b[0m\u001b[0m\n\u001b[0m\u001b[1;32m   2026\u001b[0m \u001b[0;34m\u001b[0m\u001b[0m\n\u001b[1;32m   2027\u001b[0m \u001b[0;34m\u001b[0m\u001b[0m\n",
      "\u001b[0;32m/usr/local/lib/python3.7/site-packages/numpy/ma/core.py\u001b[0m in \u001b[0;36mmasked_where\u001b[0;34m(condition, a, copy)\u001b[0m\n\u001b[1;32m   1944\u001b[0m     \u001b[0mresult\u001b[0m \u001b[0;34m=\u001b[0m \u001b[0ma\u001b[0m\u001b[0;34m.\u001b[0m\u001b[0mview\u001b[0m\u001b[0;34m(\u001b[0m\u001b[0mcls\u001b[0m\u001b[0;34m)\u001b[0m\u001b[0;34m\u001b[0m\u001b[0m\n\u001b[1;32m   1945\u001b[0m     \u001b[0;31m# Assign to *.mask so that structured masks are handled correctly.\u001b[0m\u001b[0;34m\u001b[0m\u001b[0;34m\u001b[0m\u001b[0m\n\u001b[0;32m-> 1946\u001b[0;31m     \u001b[0mresult\u001b[0m\u001b[0;34m.\u001b[0m\u001b[0mmask\u001b[0m \u001b[0;34m=\u001b[0m \u001b[0m_shrink_mask\u001b[0m\u001b[0;34m(\u001b[0m\u001b[0mcond\u001b[0m\u001b[0;34m)\u001b[0m\u001b[0;34m\u001b[0m\u001b[0m\n\u001b[0m\u001b[1;32m   1947\u001b[0m     \u001b[0;32mreturn\u001b[0m \u001b[0mresult\u001b[0m\u001b[0;34m\u001b[0m\u001b[0m\n\u001b[1;32m   1948\u001b[0m \u001b[0;34m\u001b[0m\u001b[0m\n",
      "\u001b[0;32m/usr/local/lib/python3.7/site-packages/numpy/ma/core.py\u001b[0m in \u001b[0;36m__setmask__\u001b[0;34m(self, mask, copy)\u001b[0m\n\u001b[1;32m   3405\u001b[0m             \u001b[0;31m# Otherwise fall back to the slower, general purpose way.\u001b[0m\u001b[0;34m\u001b[0m\u001b[0;34m\u001b[0m\u001b[0m\n\u001b[1;32m   3406\u001b[0m             \u001b[0;32melse\u001b[0m\u001b[0;34m:\u001b[0m\u001b[0;34m\u001b[0m\u001b[0m\n\u001b[0;32m-> 3407\u001b[0;31m                 \u001b[0mcurrent_mask\u001b[0m\u001b[0;34m.\u001b[0m\u001b[0mflat\u001b[0m \u001b[0;34m=\u001b[0m \u001b[0mmask\u001b[0m\u001b[0;34m\u001b[0m\u001b[0m\n\u001b[0m\u001b[1;32m   3408\u001b[0m         \u001b[0;32melse\u001b[0m\u001b[0;34m:\u001b[0m\u001b[0;34m\u001b[0m\u001b[0m\n\u001b[1;32m   3409\u001b[0m             \u001b[0;31m# Named fields w/\u001b[0m\u001b[0;34m\u001b[0m\u001b[0;34m\u001b[0m\u001b[0m\n",
      "\u001b[0;31mKeyboardInterrupt\u001b[0m: "
     ],
     "output_type": "error"
    }
   ],
   "source": [
    "class TrustConstrModel:\n",
    "    \"\"\"\n",
    "    Two-dimensional model of light distribution in a plane with n number of light sources\n",
    "    \"\"\"\n",
    "\n",
    "    def __init__(self, weight_light = False):\n",
    "\n",
    "        # To keep track of the iterations\n",
    "        self.counter = 0\n",
    "\n",
    "        # Parameters\n",
    "        self.name = 'Trust-Constr'\n",
    "        self.refl = True\n",
    "        self.save_fig = True\n",
    "        self.save_log = False\n",
    "        self.constrained = True\n",
    "\n",
    "        if not weight_light:\n",
    "            self.weight_light = MP.WEIGHT_LIGHT\n",
    "        else:\n",
    "            self.weight_light = weight_light\n",
    "\n",
    "        if self.save_log:\n",
    "            self.data = []\n",
    "\n",
    "        if self.constrained:\n",
    "            self.constraints = (LinearConstraint(MP.CONSTRAINT_MAT_EXT, MP.LOWER_BOUND_EXT, MP.UPPER_BOUND_EXT),\n",
    "                                NonlinearConstraint(functional_constraint, -np.inf, 0, jac='cs', hess=BFGS()))\n",
    "        else:\n",
    "            self.constraints = ()\n",
    "\n",
    "        print(\"Welcome! You are using a trust-constr optimiser.\")\n",
    "        print(\"Reflections: \", self.refl)\n",
    "        print(\"Constraints: \", self.constrained)\n",
    "\n",
    "        time.sleep(1)\n",
    "        # Objective function. We want to maximise this\n",
    "\n",
    "        self.result = minimize(self.obj_fun, MP.INITIAL_SOLUTION, method='trust-constr', jac='3-point',\n",
    "                            constraints=self.constraints, hess=BFGS(exception_strategy='damp_update'))\n",
    "\n",
    "        # What is the result of the optimisation?\n",
    "        print(self.result)\n",
    "\n",
    "    def obj_fun(self, vars):\n",
    "        \"\"\"\n",
    "        Objective function to be minimised. This maximises the ratio between the minimum light intensity and total cost.\n",
    "        \"\"\"\n",
    "\n",
    "        # Calculate current intensity distribution\n",
    "        light_intensity, minimum, minimum_coordinates = get_intensity_distr(vars, refl=self.refl)\n",
    "\n",
    "        # Calculate total cost of given distribution\n",
    "        total_cost = cost_obj_fun(vars)\n",
    "\n",
    "        # Since we want to maximise with a minimisation approach we need to minimise the negative function value\n",
    "        print(\"Iteration: \", self.counter, \" Variables: \", [round(var, 2) for var in vars], \" Minimum: \", round(minimum, 2), \" Cost: \",\n",
    "              round(total_cost, 2))\n",
    "        self.counter += 1\n",
    "\n",
    "        return (1 - self.weight_light) * total_cost - self.weight_light * minimum\n",
    "\n",
    "\n",
    "if __name__ == '__main__':\n",
    "\n",
    "    filename = 'pareto.txt'\n",
    "    file = open(filename, 'w')\n",
    "\n",
    "    #weight_light_range = [0.0, 0.1, 0.2, 0.3, 0.4, 0.5, 0.6, 0.7, 0.8, 0.9, 1.0]\n",
    "    #For the purpose of this Jupyter notebook we will only calculate for weight light range = 0.2 \n",
    "    weight_light_range = [0.2]\n",
    "\n",
    "    for weight in weight_light_range:\n",
    "        model = TrustConstrModel(weight)\n",
    "        file.write('Light Weight: ' + str(weight) + ' Optimum: ' + str(model.result.x))\n",
    "        file.write('\\n')\n",
    "        print(\"Now solving for weight: \", weight)\n",
    "\n",
    "    file.close()"
   ]
  },
  {
   "cell_type": "markdown",
   "metadata": {},
   "source": [
    "The following code plots the behaviour of both subsystems for different weigthings."
   ]
  },
  {
   "cell_type": "code",
   "execution_count": null,
   "metadata": {},
   "outputs": [
    {
     "data": {
      "image/png": "[encoded data removed]",
      "text/plain": [
       "<Figure size 432x288 with 1 Axes>"
      ]
     },
     "metadata": {
      "needs_background": "light"
     },
     "output_type": "display_data"
    }
   ],
   "source": [
    "\n",
    "%matplotlib inline\n",
    "\n",
    "weight_light_range = [0.1, 0.2, 0.3, 0.4, 0.5, 0.6, 0.7, 0.8, 0.9]\n",
    "light_values =  np.array([717.8, 732.55, 741.41, 747.8, 749.89, 759.34, 753.87, 759.27, 759.07])\n",
    "cost_values = np.array([173.73, 176.67, 181.17, 184.98, 186.87, 191.09, 189.64, 192.12, 194.56])\n",
    "\n",
    "light_values = light_values / np.linalg.norm(light_values)\n",
    "cost_values = cost_values / np.linalg.norm(cost_values)\n",
    "\n",
    "plot = plt.figure()\n",
    "plt.plot(weight_light_range, light_values)\n",
    "plt.plot(weight_light_range, cost_values)\n",
    "plt.legend(['Light Subsystem', 'Cost Subsystem'])\n",
    "plt.title('System-level Optimisation: Pareto Set ')\n",
    "plt.xlabel('Light Subsystem Weight')\n",
    "plt.ylabel('Normalised Minimum Light Intensity and Cost')\n",
    "plt.savefig('../plots/' + 'ParetoSet.svg', format='svg', dpi=1200)\n",
    "plt.show()"
   ]
  }
 ],
 "metadata": {
  "kernelspec": {
   "display_name": "Python 3",
   "language": "python",
   "name": "python3"
  },
  "language_info": {
   "codemirror_mode": {
    "name": "ipython",
    "version": 3
   },
   "file_extension": ".py",
   "mimetype": "text/x-python",
   "name": "python",
   "nbconvert_exporter": "python",
   "pygments_lexer": "ipython3",
   "version": "3.7.0"
  }
 },
 "nbformat": 4,
 "nbformat_minor": 1
}
